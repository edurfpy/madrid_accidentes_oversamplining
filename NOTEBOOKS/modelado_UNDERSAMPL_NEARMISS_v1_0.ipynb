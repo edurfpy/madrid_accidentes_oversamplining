{
 "cells": [
  {
   "cell_type": "markdown",
   "metadata": {},
   "source": [
    "## MODELADO CLASIFICACION NVICTIM_INTERV CON UNDERSAMPLING NEAR_MISS"
   ]
  },
  {
   "cell_type": "code",
   "execution_count": 1,
   "metadata": {},
   "outputs": [],
   "source": [
    "import numpy as np\n",
    "import pandas as pd\n",
    "import matplotlib.pyplot as plt\n",
    "import seaborn as sns\n",
    "\n",
    "%matplotlib inline"
   ]
  },
  {
   "cell_type": "markdown",
   "metadata": {},
   "source": [
    "### Carga de los datos ya codificados categóricos"
   ]
  },
  {
   "cell_type": "code",
   "execution_count": 2,
   "metadata": {},
   "outputs": [
    {
     "name": "stdout",
     "output_type": "stream",
     "text": [
      "<class 'pandas.core.frame.DataFrame'>\n",
      "RangeIndex: 86817 entries, 0 to 86816\n",
      "Data columns (total 23 columns):\n",
      "MAL_TIEMPO                               86817 non-null int64\n",
      "MAL_ESTADO_SUELO                         86817 non-null int64\n",
      "num_vehic_implic                         86817 non-null int64\n",
      "conductor_menor                          86817 non-null int64\n",
      "conductor_18_34                          86817 non-null int64\n",
      "conductor_35_49                          86817 non-null int64\n",
      "conductor_50_mas                         86817 non-null int64\n",
      "RANGO_HORARIO_DE 00:00 A 7:00            86817 non-null int64\n",
      "RANGO_HORARIO_DE 12:00 A 17:00           86817 non-null int64\n",
      "RANGO_HORARIO_DE 17:00 A 21:00           86817 non-null int64\n",
      "RANGO_HORARIO_DE 21:00 A 00:00           86817 non-null int64\n",
      "RANGO_HORARIO_DE 7:00 A 12:00            86817 non-null int64\n",
      "DIA_SEMANA_FIN DE SEMANA                 86817 non-null int64\n",
      "DIA_SEMANA_LABORABLE                     86817 non-null int64\n",
      "TIPO_ACCIDENTE_ATROPELLO                 86817 non-null int64\n",
      "TIPO_ACCIDENTE_CAIDA BICICLETA           86817 non-null int64\n",
      "TIPO_ACCIDENTE_CAIDA MOTOR_2_3_RUEDAS    86817 non-null int64\n",
      "TIPO_ACCIDENTE_CAIDA VIAJERO BUS         86817 non-null int64\n",
      "TIPO_ACCIDENTE_CHOQUE CON OBJETO FIJO    86817 non-null int64\n",
      "TIPO_ACCIDENTE_COLISION DOBLE            86817 non-null int64\n",
      "TIPO_ACCIDENTE_COLISION MULTIPLE         86817 non-null int64\n",
      "TIPO_ACCIDENTE_VUELCO_OTROS              86817 non-null int64\n",
      "NVICTIM_INTERV                           86817 non-null object\n",
      "dtypes: int64(22), object(1)\n",
      "memory usage: 15.2+ MB\n"
     ]
    }
   ],
   "source": [
    "df_premodelo = pd.read_csv('./madrid_accidentes_modelar_NVICTIM_INTERV_v1_0.csv',encoding='latin1')\n",
    "\n",
    "df_premodelo.info()"
   ]
  },
  {
   "cell_type": "code",
   "execution_count": null,
   "metadata": {},
   "outputs": [],
   "source": []
  },
  {
   "cell_type": "markdown",
   "metadata": {},
   "source": [
    "## SELECCION CARACTERISTICAS"
   ]
  },
  {
   "cell_type": "markdown",
   "metadata": {},
   "source": [
    "Probaremos ranking importancia características y eliminación recursiva."
   ]
  },
  {
   "cell_type": "code",
   "execution_count": 3,
   "metadata": {},
   "outputs": [
    {
     "data": {
      "text/plain": [
       "(86817, 22)"
      ]
     },
     "execution_count": 3,
     "metadata": {},
     "output_type": "execute_result"
    }
   ],
   "source": [
    "X = df_premodelo.drop(columns='NVICTIM_INTERV')\n",
    "\n",
    "y = df_premodelo['NVICTIM_INTERV']\n",
    "\n",
    "X.shape"
   ]
  },
  {
   "cell_type": "markdown",
   "metadata": {},
   "source": [
    "### Importancia característica, modelo RF"
   ]
  },
  {
   "cell_type": "code",
   "execution_count": 4,
   "metadata": {},
   "outputs": [
    {
     "data": {
      "text/plain": [
       "RandomForestClassifier(bootstrap=True, ccp_alpha=0.0, class_weight=None,\n",
       "                       criterion='gini', max_depth=None, max_features='auto',\n",
       "                       max_leaf_nodes=None, max_samples=None,\n",
       "                       min_impurity_decrease=0.0, min_impurity_split=None,\n",
       "                       min_samples_leaf=1, min_samples_split=2,\n",
       "                       min_weight_fraction_leaf=0.0, n_estimators=500,\n",
       "                       n_jobs=None, oob_score=False, random_state=42, verbose=0,\n",
       "                       warm_start=False)"
      ]
     },
     "execution_count": 4,
     "metadata": {},
     "output_type": "execute_result"
    }
   ],
   "source": [
    "from sklearn.ensemble import RandomForestClassifier\n",
    "\n",
    "model_RF_ranking = RandomForestClassifier(n_estimators=500,random_state=42)\n",
    "\n",
    "model_RF_ranking.fit(X, y)"
   ]
  },
  {
   "cell_type": "code",
   "execution_count": 5,
   "metadata": {},
   "outputs": [
    {
     "data": {
      "text/plain": [
       "num_vehic_implic                         0.213344\n",
       "TIPO_ACCIDENTE_COLISION MULTIPLE         0.119474\n",
       "conductor_18_34                          0.087695\n",
       "conductor_35_49                          0.081014\n",
       "TIPO_ACCIDENTE_CAIDA MOTOR_2_3_RUEDAS    0.068596\n",
       "conductor_50_mas                         0.064594\n",
       "TIPO_ACCIDENTE_COLISION DOBLE            0.052645\n",
       "RANGO_HORARIO_DE 00:00 A 7:00            0.044811\n",
       "MAL_ESTADO_SUELO                         0.035470\n",
       "MAL_TIEMPO                               0.034006\n",
       "TIPO_ACCIDENTE_ATROPELLO                 0.025405\n",
       "RANGO_HORARIO_DE 7:00 A 12:00            0.021158\n",
       "DIA_SEMANA_FIN DE SEMANA                 0.019492\n",
       "RANGO_HORARIO_DE 12:00 A 17:00           0.018086\n",
       "DIA_SEMANA_LABORABLE                     0.018073\n",
       "TIPO_ACCIDENTE_CAIDA BICICLETA           0.017980\n",
       "RANGO_HORARIO_DE 17:00 A 21:00           0.017827\n",
       "RANGO_HORARIO_DE 21:00 A 00:00           0.016384\n",
       "TIPO_ACCIDENTE_CHOQUE CON OBJETO FIJO    0.016109\n",
       "conductor_menor                          0.013364\n",
       "TIPO_ACCIDENTE_VUELCO_OTROS              0.007435\n",
       "TIPO_ACCIDENTE_CAIDA VIAJERO BUS         0.007038\n",
       "dtype: float64"
      ]
     },
     "execution_count": 5,
     "metadata": {},
     "output_type": "execute_result"
    }
   ],
   "source": [
    "ranking_RF = pd.Series(model_RF_ranking.feature_importances_,index=X.columns)\n",
    "\n",
    "ranking_RF.sort_values(ascending=False)"
   ]
  },
  {
   "cell_type": "code",
   "execution_count": null,
   "metadata": {},
   "outputs": [],
   "source": []
  },
  {
   "cell_type": "markdown",
   "metadata": {},
   "source": [
    "### RFE  (ELIMINACION RECURSIVA)"
   ]
  },
  {
   "cell_type": "code",
   "execution_count": 6,
   "metadata": {},
   "outputs": [],
   "source": [
    "from sklearn.feature_selection import RFE\n",
    "from sklearn.linear_model import LogisticRegression, SGDClassifier"
   ]
  },
  {
   "cell_type": "code",
   "execution_count": 7,
   "metadata": {},
   "outputs": [],
   "source": [
    "\n",
    "model_RFE = RandomForestClassifier(random_state=42)\n",
    "rfe = RFE(model_RFE, 18)\n",
    "\n",
    "fit_RFE = rfe.fit(X, y)\n"
   ]
  },
  {
   "cell_type": "code",
   "execution_count": 8,
   "metadata": {},
   "outputs": [
    {
     "data": {
      "text/plain": [
       "1                               MAL_TIEMPO\n",
       "1           TIPO_ACCIDENTE_CAIDA BICICLETA\n",
       "1                 TIPO_ACCIDENTE_ATROPELLO\n",
       "1                     DIA_SEMANA_LABORABLE\n",
       "1                 DIA_SEMANA_FIN DE SEMANA\n",
       "1            RANGO_HORARIO_DE 7:00 A 12:00\n",
       "1         TIPO_ACCIDENTE_COLISION MULTIPLE\n",
       "1           RANGO_HORARIO_DE 17:00 A 21:00\n",
       "1           RANGO_HORARIO_DE 12:00 A 17:00\n",
       "1            RANGO_HORARIO_DE 00:00 A 7:00\n",
       "1                         conductor_50_mas\n",
       "1                          conductor_35_49\n",
       "1                          conductor_18_34\n",
       "1            TIPO_ACCIDENTE_COLISION DOBLE\n",
       "1                         num_vehic_implic\n",
       "1                         MAL_ESTADO_SUELO\n",
       "1    TIPO_ACCIDENTE_CAIDA MOTOR_2_3_RUEDAS\n",
       "1    TIPO_ACCIDENTE_CHOQUE CON OBJETO FIJO\n",
       "2           RANGO_HORARIO_DE 21:00 A 00:00\n",
       "3                          conductor_menor\n",
       "4              TIPO_ACCIDENTE_VUELCO_OTROS\n",
       "5         TIPO_ACCIDENTE_CAIDA VIAJERO BUS\n",
       "dtype: object"
      ]
     },
     "execution_count": 8,
     "metadata": {},
     "output_type": "execute_result"
    }
   ],
   "source": [
    "ranking_RFE = pd.Series(X.columns.values, index=fit_RFE.ranking_)\n",
    "\n",
    "ranking_RFE.sort_index()"
   ]
  },
  {
   "cell_type": "markdown",
   "metadata": {},
   "source": [
    "### Tabla resumen seleccion caracteristicas."
   ]
  },
  {
   "cell_type": "code",
   "execution_count": 9,
   "metadata": {},
   "outputs": [
    {
     "data": {
      "text/html": [
       "<div>\n",
       "<style scoped>\n",
       "    .dataframe tbody tr th:only-of-type {\n",
       "        vertical-align: middle;\n",
       "    }\n",
       "\n",
       "    .dataframe tbody tr th {\n",
       "        vertical-align: top;\n",
       "    }\n",
       "\n",
       "    .dataframe thead th {\n",
       "        text-align: right;\n",
       "    }\n",
       "</style>\n",
       "<table border=\"1\" class=\"dataframe\">\n",
       "  <thead>\n",
       "    <tr style=\"text-align: right;\">\n",
       "      <th></th>\n",
       "      <th>RF_importance</th>\n",
       "      <th>orden_RFE</th>\n",
       "      <th>atributo_RFE</th>\n",
       "    </tr>\n",
       "  </thead>\n",
       "  <tbody>\n",
       "    <tr>\n",
       "      <th>0</th>\n",
       "      <td>num_vehic_implic</td>\n",
       "      <td>1</td>\n",
       "      <td>MAL_TIEMPO</td>\n",
       "    </tr>\n",
       "    <tr>\n",
       "      <th>1</th>\n",
       "      <td>TIPO_ACCIDENTE_COLISION MULTIPLE</td>\n",
       "      <td>1</td>\n",
       "      <td>TIPO_ACCIDENTE_CAIDA BICICLETA</td>\n",
       "    </tr>\n",
       "    <tr>\n",
       "      <th>2</th>\n",
       "      <td>conductor_18_34</td>\n",
       "      <td>1</td>\n",
       "      <td>TIPO_ACCIDENTE_ATROPELLO</td>\n",
       "    </tr>\n",
       "    <tr>\n",
       "      <th>3</th>\n",
       "      <td>conductor_35_49</td>\n",
       "      <td>1</td>\n",
       "      <td>DIA_SEMANA_LABORABLE</td>\n",
       "    </tr>\n",
       "    <tr>\n",
       "      <th>4</th>\n",
       "      <td>TIPO_ACCIDENTE_CAIDA MOTOR_2_3_RUEDAS</td>\n",
       "      <td>1</td>\n",
       "      <td>DIA_SEMANA_FIN DE SEMANA</td>\n",
       "    </tr>\n",
       "    <tr>\n",
       "      <th>5</th>\n",
       "      <td>conductor_50_mas</td>\n",
       "      <td>1</td>\n",
       "      <td>RANGO_HORARIO_DE 7:00 A 12:00</td>\n",
       "    </tr>\n",
       "    <tr>\n",
       "      <th>6</th>\n",
       "      <td>TIPO_ACCIDENTE_COLISION DOBLE</td>\n",
       "      <td>1</td>\n",
       "      <td>TIPO_ACCIDENTE_COLISION MULTIPLE</td>\n",
       "    </tr>\n",
       "    <tr>\n",
       "      <th>7</th>\n",
       "      <td>RANGO_HORARIO_DE 00:00 A 7:00</td>\n",
       "      <td>1</td>\n",
       "      <td>RANGO_HORARIO_DE 17:00 A 21:00</td>\n",
       "    </tr>\n",
       "    <tr>\n",
       "      <th>8</th>\n",
       "      <td>MAL_ESTADO_SUELO</td>\n",
       "      <td>1</td>\n",
       "      <td>RANGO_HORARIO_DE 12:00 A 17:00</td>\n",
       "    </tr>\n",
       "    <tr>\n",
       "      <th>9</th>\n",
       "      <td>MAL_TIEMPO</td>\n",
       "      <td>1</td>\n",
       "      <td>RANGO_HORARIO_DE 00:00 A 7:00</td>\n",
       "    </tr>\n",
       "    <tr>\n",
       "      <th>10</th>\n",
       "      <td>TIPO_ACCIDENTE_ATROPELLO</td>\n",
       "      <td>1</td>\n",
       "      <td>conductor_50_mas</td>\n",
       "    </tr>\n",
       "    <tr>\n",
       "      <th>11</th>\n",
       "      <td>RANGO_HORARIO_DE 7:00 A 12:00</td>\n",
       "      <td>1</td>\n",
       "      <td>conductor_35_49</td>\n",
       "    </tr>\n",
       "    <tr>\n",
       "      <th>12</th>\n",
       "      <td>DIA_SEMANA_FIN DE SEMANA</td>\n",
       "      <td>1</td>\n",
       "      <td>conductor_18_34</td>\n",
       "    </tr>\n",
       "    <tr>\n",
       "      <th>13</th>\n",
       "      <td>RANGO_HORARIO_DE 12:00 A 17:00</td>\n",
       "      <td>1</td>\n",
       "      <td>TIPO_ACCIDENTE_COLISION DOBLE</td>\n",
       "    </tr>\n",
       "    <tr>\n",
       "      <th>14</th>\n",
       "      <td>DIA_SEMANA_LABORABLE</td>\n",
       "      <td>1</td>\n",
       "      <td>num_vehic_implic</td>\n",
       "    </tr>\n",
       "    <tr>\n",
       "      <th>15</th>\n",
       "      <td>TIPO_ACCIDENTE_CAIDA BICICLETA</td>\n",
       "      <td>1</td>\n",
       "      <td>MAL_ESTADO_SUELO</td>\n",
       "    </tr>\n",
       "    <tr>\n",
       "      <th>16</th>\n",
       "      <td>RANGO_HORARIO_DE 17:00 A 21:00</td>\n",
       "      <td>1</td>\n",
       "      <td>TIPO_ACCIDENTE_CAIDA MOTOR_2_3_RUEDAS</td>\n",
       "    </tr>\n",
       "    <tr>\n",
       "      <th>17</th>\n",
       "      <td>RANGO_HORARIO_DE 21:00 A 00:00</td>\n",
       "      <td>1</td>\n",
       "      <td>TIPO_ACCIDENTE_CHOQUE CON OBJETO FIJO</td>\n",
       "    </tr>\n",
       "    <tr>\n",
       "      <th>18</th>\n",
       "      <td>TIPO_ACCIDENTE_CHOQUE CON OBJETO FIJO</td>\n",
       "      <td>2</td>\n",
       "      <td>RANGO_HORARIO_DE 21:00 A 00:00</td>\n",
       "    </tr>\n",
       "    <tr>\n",
       "      <th>19</th>\n",
       "      <td>conductor_menor</td>\n",
       "      <td>3</td>\n",
       "      <td>conductor_menor</td>\n",
       "    </tr>\n",
       "    <tr>\n",
       "      <th>20</th>\n",
       "      <td>TIPO_ACCIDENTE_VUELCO_OTROS</td>\n",
       "      <td>4</td>\n",
       "      <td>TIPO_ACCIDENTE_VUELCO_OTROS</td>\n",
       "    </tr>\n",
       "    <tr>\n",
       "      <th>21</th>\n",
       "      <td>TIPO_ACCIDENTE_CAIDA VIAJERO BUS</td>\n",
       "      <td>5</td>\n",
       "      <td>TIPO_ACCIDENTE_CAIDA VIAJERO BUS</td>\n",
       "    </tr>\n",
       "  </tbody>\n",
       "</table>\n",
       "</div>"
      ],
      "text/plain": [
       "                            RF_importance  orden_RFE  \\\n",
       "0                        num_vehic_implic          1   \n",
       "1        TIPO_ACCIDENTE_COLISION MULTIPLE          1   \n",
       "2                         conductor_18_34          1   \n",
       "3                         conductor_35_49          1   \n",
       "4   TIPO_ACCIDENTE_CAIDA MOTOR_2_3_RUEDAS          1   \n",
       "5                        conductor_50_mas          1   \n",
       "6           TIPO_ACCIDENTE_COLISION DOBLE          1   \n",
       "7           RANGO_HORARIO_DE 00:00 A 7:00          1   \n",
       "8                        MAL_ESTADO_SUELO          1   \n",
       "9                              MAL_TIEMPO          1   \n",
       "10               TIPO_ACCIDENTE_ATROPELLO          1   \n",
       "11          RANGO_HORARIO_DE 7:00 A 12:00          1   \n",
       "12               DIA_SEMANA_FIN DE SEMANA          1   \n",
       "13         RANGO_HORARIO_DE 12:00 A 17:00          1   \n",
       "14                   DIA_SEMANA_LABORABLE          1   \n",
       "15         TIPO_ACCIDENTE_CAIDA BICICLETA          1   \n",
       "16         RANGO_HORARIO_DE 17:00 A 21:00          1   \n",
       "17         RANGO_HORARIO_DE 21:00 A 00:00          1   \n",
       "18  TIPO_ACCIDENTE_CHOQUE CON OBJETO FIJO          2   \n",
       "19                        conductor_menor          3   \n",
       "20            TIPO_ACCIDENTE_VUELCO_OTROS          4   \n",
       "21       TIPO_ACCIDENTE_CAIDA VIAJERO BUS          5   \n",
       "\n",
       "                             atributo_RFE  \n",
       "0                              MAL_TIEMPO  \n",
       "1          TIPO_ACCIDENTE_CAIDA BICICLETA  \n",
       "2                TIPO_ACCIDENTE_ATROPELLO  \n",
       "3                    DIA_SEMANA_LABORABLE  \n",
       "4                DIA_SEMANA_FIN DE SEMANA  \n",
       "5           RANGO_HORARIO_DE 7:00 A 12:00  \n",
       "6        TIPO_ACCIDENTE_COLISION MULTIPLE  \n",
       "7          RANGO_HORARIO_DE 17:00 A 21:00  \n",
       "8          RANGO_HORARIO_DE 12:00 A 17:00  \n",
       "9           RANGO_HORARIO_DE 00:00 A 7:00  \n",
       "10                       conductor_50_mas  \n",
       "11                        conductor_35_49  \n",
       "12                        conductor_18_34  \n",
       "13          TIPO_ACCIDENTE_COLISION DOBLE  \n",
       "14                       num_vehic_implic  \n",
       "15                       MAL_ESTADO_SUELO  \n",
       "16  TIPO_ACCIDENTE_CAIDA MOTOR_2_3_RUEDAS  \n",
       "17  TIPO_ACCIDENTE_CHOQUE CON OBJETO FIJO  \n",
       "18         RANGO_HORARIO_DE 21:00 A 00:00  \n",
       "19                        conductor_menor  \n",
       "20            TIPO_ACCIDENTE_VUELCO_OTROS  \n",
       "21       TIPO_ACCIDENTE_CAIDA VIAJERO BUS  "
      ]
     },
     "execution_count": 9,
     "metadata": {},
     "output_type": "execute_result"
    }
   ],
   "source": [
    "tabla_ranking = pd.DataFrame({'RF_importance': ranking_RF.sort_values(ascending=False).index, \\\n",
    "                             'orden_RFE': ranking_RFE.sort_index().index, 'atributo_RFE': ranking_RFE.sort_index().values})\n",
    "\n",
    "tabla_ranking"
   ]
  },
  {
   "cell_type": "markdown",
   "metadata": {},
   "source": [
    "Nos quedamos con las de RFE"
   ]
  },
  {
   "cell_type": "code",
   "execution_count": 10,
   "metadata": {},
   "outputs": [
    {
     "data": {
      "text/plain": [
       "(86817, 18)"
      ]
     },
     "execution_count": 10,
     "metadata": {},
     "output_type": "execute_result"
    }
   ],
   "source": [
    "X.drop(columns=['RANGO_HORARIO_DE 21:00 A 00:00','conductor_menor', \\\n",
    "                'TIPO_ACCIDENTE_VUELCO_OTROS','TIPO_ACCIDENTE_CAIDA VIAJERO BUS'], inplace=True)\n",
    "\n",
    "\n",
    "\n",
    "# 'MAL_ESTADO_SUELO','MAL_TIEMPO', \\\n",
    "# 'conductor_50_mas',\n",
    "# 'RANGO_HORARIO_DE 7:00 A 12:00','RANGO_HORARIO_DE 12:00 A 17:00','RANGO_HORARIO_DE 17:00 A 21:00',\n",
    "# 'TIPO_ACCIDENTE_ATROPELLO','TIPO_ACCIDENTE_CAIDA BICICLETA', \\'TIPO_ACCIDENTE_CHOQUE CON OBJETO FIJO',\n",
    "# 'DIA_SEMANA_LABORABLE',\n",
    "\n",
    "\n",
    "X.shape"
   ]
  },
  {
   "cell_type": "code",
   "execution_count": 11,
   "metadata": {},
   "outputs": [
    {
     "data": {
      "text/plain": [
       "Index(['MAL_TIEMPO', 'MAL_ESTADO_SUELO', 'num_vehic_implic', 'conductor_18_34',\n",
       "       'conductor_35_49', 'conductor_50_mas', 'RANGO_HORARIO_DE 00:00 A 7:00',\n",
       "       'RANGO_HORARIO_DE 12:00 A 17:00', 'RANGO_HORARIO_DE 17:00 A 21:00',\n",
       "       'RANGO_HORARIO_DE 7:00 A 12:00', 'DIA_SEMANA_FIN DE SEMANA',\n",
       "       'DIA_SEMANA_LABORABLE', 'TIPO_ACCIDENTE_ATROPELLO',\n",
       "       'TIPO_ACCIDENTE_CAIDA BICICLETA',\n",
       "       'TIPO_ACCIDENTE_CAIDA MOTOR_2_3_RUEDAS',\n",
       "       'TIPO_ACCIDENTE_CHOQUE CON OBJETO FIJO',\n",
       "       'TIPO_ACCIDENTE_COLISION DOBLE', 'TIPO_ACCIDENTE_COLISION MULTIPLE'],\n",
       "      dtype='object')"
      ]
     },
     "execution_count": 11,
     "metadata": {},
     "output_type": "execute_result"
    }
   ],
   "source": [
    "X.columns"
   ]
  },
  {
   "cell_type": "markdown",
   "metadata": {},
   "source": [
    "### SEPARACIÓN CONJUNTOS TRAIN Y TEST ESTRATIFICADO"
   ]
  },
  {
   "cell_type": "code",
   "execution_count": 12,
   "metadata": {},
   "outputs": [],
   "source": [
    "from sklearn.model_selection import StratifiedShuffleSplit\n",
    "\n",
    "train_test_split = StratifiedShuffleSplit(n_splits=1, test_size=0.3, random_state=42)\n",
    "\n",
    "for train_index, test_index in train_test_split.split(X, y):\n",
    "    \n",
    "    X_train, X_test = X.loc[train_index], X.loc[test_index]\n",
    "    \n",
    "    y_train, y_test = y[train_index], y[test_index]"
   ]
  },
  {
   "cell_type": "code",
   "execution_count": 13,
   "metadata": {},
   "outputs": [
    {
     "data": {
      "text/plain": [
       "LEVE           0.804561\n",
       "MEDIA/GRAVE    0.195439\n",
       "Name: NVICTIM_INTERV, dtype: float64"
      ]
     },
     "execution_count": 13,
     "metadata": {},
     "output_type": "execute_result"
    }
   ],
   "source": [
    "y_train.value_counts(normalize=True)"
   ]
  },
  {
   "cell_type": "code",
   "execution_count": 14,
   "metadata": {},
   "outputs": [
    {
     "data": {
      "text/plain": [
       "LEVE           0.804538\n",
       "MEDIA/GRAVE    0.195462\n",
       "Name: NVICTIM_INTERV, dtype: float64"
      ]
     },
     "execution_count": 14,
     "metadata": {},
     "output_type": "execute_result"
    }
   ],
   "source": [
    "y_test.value_counts(normalize=True)"
   ]
  },
  {
   "cell_type": "code",
   "execution_count": null,
   "metadata": {},
   "outputs": [],
   "source": []
  },
  {
   "cell_type": "markdown",
   "metadata": {},
   "source": [
    "## MODELOS DECISION TREES, RANDOM FOREST Y GRADIENT BOOST CLASSIFIER"
   ]
  },
  {
   "cell_type": "markdown",
   "metadata": {},
   "source": [
    "### Comunes a todos los modelos"
   ]
  },
  {
   "cell_type": "code",
   "execution_count": 15,
   "metadata": {},
   "outputs": [],
   "source": [
    "from sklearn.model_selection import StratifiedKFold, cross_val_score\n",
    "from sklearn.metrics import classification_report, confusion_matrix\n",
    "from sklearn.metrics import f1_score \n",
    "\n",
    "num_folds = 10\n",
    "skf = StratifiedKFold(n_splits=num_folds)\n",
    "\n",
    "scoring = 'roc_auc'\n",
    "#'f1_macro' 'roc_auc'"
   ]
  },
  {
   "cell_type": "markdown",
   "metadata": {},
   "source": [
    "## IMBALANCED LEARNING: UNDERSAMPLING 'NearMiss'"
   ]
  },
  {
   "cell_type": "code",
   "execution_count": 16,
   "metadata": {},
   "outputs": [
    {
     "data": {
      "text/plain": [
       "((23754, 18), (23754,))"
      ]
     },
     "execution_count": 16,
     "metadata": {},
     "output_type": "execute_result"
    }
   ],
   "source": [
    "from imblearn.under_sampling import NearMiss\n",
    "\n",
    "nrmiss = NearMiss(sampling_strategy='majority', n_jobs=-1)\n",
    "\n",
    "X_train_rsmpl, y_train_rsmpl = nrmiss.fit_sample(X_train, y_train)\n",
    "\n",
    "X_train_rsmpl.shape, y_train_rsmpl.shape"
   ]
  },
  {
   "cell_type": "code",
   "execution_count": 17,
   "metadata": {},
   "outputs": [
    {
     "data": {
      "text/plain": [
       "LEVE           48894\n",
       "MEDIA/GRAVE    11877\n",
       "Name: NVICTIM_INTERV, dtype: int64"
      ]
     },
     "execution_count": 17,
     "metadata": {},
     "output_type": "execute_result"
    }
   ],
   "source": [
    "# TARGET ORIGINAL\n",
    "y_train.value_counts()"
   ]
  },
  {
   "cell_type": "code",
   "execution_count": 18,
   "metadata": {},
   "outputs": [
    {
     "data": {
      "text/plain": [
       "LEVE           11877\n",
       "MEDIA/GRAVE    11877\n",
       "Name: NVICTIM_INTERV, dtype: int64"
      ]
     },
     "execution_count": 18,
     "metadata": {},
     "output_type": "execute_result"
    }
   ],
   "source": [
    "# TARGET DESPUES UNDERSAMPLING NEAR_MISS.\n",
    "y_train_rsmpl.value_counts()"
   ]
  },
  {
   "cell_type": "code",
   "execution_count": null,
   "metadata": {},
   "outputs": [],
   "source": []
  },
  {
   "cell_type": "markdown",
   "metadata": {},
   "source": [
    "## Decision Trees"
   ]
  },
  {
   "cell_type": "code",
   "execution_count": 19,
   "metadata": {},
   "outputs": [
    {
     "name": "stdout",
     "output_type": "stream",
     "text": [
      "DECISION TREE:\n",
      "\n",
      "Media: 0.684924194795966  Desviación: 0.009061893202807262\n"
     ]
    }
   ],
   "source": [
    "from sklearn.tree import DecisionTreeClassifier\n",
    "\n",
    "modelo_DesTree = DecisionTreeClassifier(class_weight='balanced', random_state=42)\n",
    "\n",
    "resultadosDesTree = cross_val_score(modelo_DesTree, X_train_rsmpl, y_train_rsmpl, cv=skf, scoring=scoring)\n",
    "\n",
    "print('DECISION TREE:\\n')\n",
    "print('Media:',resultadosDesTree.mean(),' Desviación:',resultadosDesTree.std())"
   ]
  },
  {
   "cell_type": "code",
   "execution_count": 20,
   "metadata": {},
   "outputs": [
    {
     "name": "stdout",
     "output_type": "stream",
     "text": [
      "Classification Report LOGISTIC REGRESSION: \n",
      "               precision    recall  f1-score   support\n",
      "\n",
      "        LEVE       0.85      0.58      0.69     20955\n",
      " MEDIA/GRAVE       0.25      0.57      0.35      5091\n",
      "\n",
      "    accuracy                           0.58     26046\n",
      "   macro avg       0.55      0.58      0.52     26046\n",
      "weighted avg       0.73      0.58      0.62     26046\n",
      "\n"
     ]
    }
   ],
   "source": [
    "\n",
    "modelo_DesTree.fit(X_train_rsmpl, y_train_rsmpl)\n",
    "\n",
    "y_preds = modelo_DesTree.predict(X_test)\n",
    "\n",
    "report = classification_report(y_test, y_preds)\n",
    "print('Classification Report LOGISTIC REGRESSION: \\n', report)\n"
   ]
  },
  {
   "cell_type": "code",
   "execution_count": 21,
   "metadata": {},
   "outputs": [
    {
     "data": {
      "image/png": "[encoded data removed]",
      "text/plain": [
       "<Figure size 432x288 with 2 Axes>"
      ]
     },
     "metadata": {
      "needs_background": "light"
     },
     "output_type": "display_data"
    }
   ],
   "source": [
    "# matriz confusion\n",
    "mat_conf = confusion_matrix(y_test, y_preds)\n",
    "\n",
    "# dataframe auxiliar para grafica\n",
    "dataframe = pd.DataFrame(mat_conf, index=['LEVE', 'MEDIA/GRAVE'], columns=['LEVE', 'MEDIA/GRAVE'])\n",
    "\n",
    "# crear heatmap\n",
    "sns.heatmap(dataframe, annot=True, cbar=True, cmap='Blues')\n",
    "plt.title('Confusion Matrix')\n",
    "plt.tight_layout(), plt.xlabel('Predicted Values'), plt.ylabel('True Values')\n",
    "plt.show()"
   ]
  },
  {
   "cell_type": "code",
   "execution_count": null,
   "metadata": {},
   "outputs": [],
   "source": []
  },
  {
   "cell_type": "markdown",
   "metadata": {},
   "source": [
    "## Random Forest"
   ]
  },
  {
   "cell_type": "code",
   "execution_count": 22,
   "metadata": {},
   "outputs": [
    {
     "name": "stdout",
     "output_type": "stream",
     "text": [
      "Random Forest:\n",
      "\n",
      "Media: 0.6870486311706202  Desviación: 0.009814743063626081\n"
     ]
    }
   ],
   "source": [
    "n_trees = 300\n",
    "modelo_RF = RandomForestClassifier(n_estimators=n_trees, n_jobs=-1, random_state=42, class_weight='balanced')\n",
    "\n",
    "resultadosRF = cross_val_score(modelo_RF, X_train_rsmpl, y_train_rsmpl, cv=skf, scoring=scoring)\n",
    "\n",
    "print('Random Forest:\\n')\n",
    "print('Media:',resultadosRF.mean(),' Desviación:',resultadosRF.std())\n"
   ]
  },
  {
   "cell_type": "code",
   "execution_count": null,
   "metadata": {},
   "outputs": [],
   "source": []
  },
  {
   "cell_type": "code",
   "execution_count": 23,
   "metadata": {},
   "outputs": [
    {
     "name": "stdout",
     "output_type": "stream",
     "text": [
      "Classification Report Random Forest: \n",
      "               precision    recall  f1-score   support\n",
      "\n",
      "        LEVE       0.85      0.58      0.69     20955\n",
      " MEDIA/GRAVE       0.25      0.57      0.35      5091\n",
      "\n",
      "    accuracy                           0.57     26046\n",
      "   macro avg       0.55      0.57      0.52     26046\n",
      "weighted avg       0.73      0.57      0.62     26046\n",
      "\n"
     ]
    }
   ],
   "source": [
    "\n",
    "modelo_RF.fit(X_train_rsmpl, y_train_rsmpl)\n",
    "\n",
    "y_preds = modelo_RF.predict(X_test)\n",
    "\n",
    "report = classification_report(y_test, y_preds)\n",
    "print('Classification Report Random Forest: \\n', report)\n"
   ]
  },
  {
   "cell_type": "code",
   "execution_count": 24,
   "metadata": {},
   "outputs": [
    {
     "data": {
      "image/png": "[encoded data removed]",
      "text/plain": [
       "<Figure size 432x288 with 2 Axes>"
      ]
     },
     "metadata": {
      "needs_background": "light"
     },
     "output_type": "display_data"
    }
   ],
   "source": [
    "# matriz confusion\n",
    "mat_conf = confusion_matrix(y_test, y_preds)\n",
    "\n",
    "# dataframe auxiliar para grafica\n",
    "dataframe = pd.DataFrame(mat_conf, index=['LEVE', 'MEDIA/GRAVE'], columns=['LEVE', 'MEDIA/GRAVE'])\n",
    "\n",
    "# creamos heatmap\n",
    "sns.heatmap(dataframe, annot=True, cbar=True, cmap='Blues')\n",
    "plt.title('Confusion Matrix')\n",
    "plt.tight_layout(), plt.xlabel('Predicted Values'), plt.ylabel('True Values')\n",
    "plt.show()"
   ]
  },
  {
   "cell_type": "code",
   "execution_count": null,
   "metadata": {},
   "outputs": [],
   "source": []
  },
  {
   "cell_type": "markdown",
   "metadata": {},
   "source": [
    "## GradientBoostingClassifier"
   ]
  },
  {
   "cell_type": "code",
   "execution_count": 25,
   "metadata": {},
   "outputs": [
    {
     "name": "stdout",
     "output_type": "stream",
     "text": [
      "GRADIENT BOOST CLASSIFIER:\n",
      "\n",
      "Media: 0.6947468779405193  Desviación: 0.007804408169586019\n"
     ]
    }
   ],
   "source": [
    "from sklearn.ensemble import GradientBoostingClassifier\n",
    "\n",
    "num_trees = 300\n",
    "modelo_GBC = GradientBoostingClassifier(n_estimators=num_trees, random_state=42)\n",
    "\n",
    "resultadosGBC = cross_val_score(modelo_GBC, X_train_rsmpl, y_train_rsmpl, cv=skf, scoring=scoring)\n",
    "\n",
    "print('GRADIENT BOOST CLASSIFIER:\\n')\n",
    "print('Media:',resultadosGBC.mean(),' Desviación:',resultadosGBC.std())\n",
    "\n"
   ]
  },
  {
   "cell_type": "code",
   "execution_count": 26,
   "metadata": {},
   "outputs": [
    {
     "name": "stdout",
     "output_type": "stream",
     "text": [
      "Classification Report GRADIENT BOOST CLASSIFIER: \n",
      "               precision    recall  f1-score   support\n",
      "\n",
      "        LEVE       0.85      0.61      0.71     20955\n",
      " MEDIA/GRAVE       0.26      0.57      0.36      5091\n",
      "\n",
      "    accuracy                           0.60     26046\n",
      "   macro avg       0.56      0.59      0.54     26046\n",
      "weighted avg       0.74      0.60      0.64     26046\n",
      "\n"
     ]
    }
   ],
   "source": [
    "\n",
    "modelo_GBC.fit(X_train_rsmpl, y_train_rsmpl)\n",
    "\n",
    "y_preds = modelo_GBC.predict(X_test)\n",
    "\n",
    "report = classification_report(y_test, y_preds)\n",
    "print('Classification Report GRADIENT BOOST CLASSIFIER: \\n', report)\n"
   ]
  },
  {
   "cell_type": "code",
   "execution_count": 27,
   "metadata": {},
   "outputs": [
    {
     "data": {
      "image/png": "[encoded data removed]",
      "text/plain": [
       "<Figure size 432x288 with 2 Axes>"
      ]
     },
     "metadata": {
      "needs_background": "light"
     },
     "output_type": "display_data"
    }
   ],
   "source": [
    "# matriz confusion\n",
    "mat_conf = confusion_matrix(y_test, y_preds)\n",
    "\n",
    "# dataframe auxiliar para grafica\n",
    "dataframe = pd.DataFrame(mat_conf, index=['LEVE', 'MEDIA/GRAVE'], columns=['LEVE', 'MEDIA/GRAVE'])\n",
    "\n",
    "# crear heatmap\n",
    "sns.heatmap(dataframe, annot=True, cbar=True, cmap='Blues')\n",
    "plt.title('Confusion Matrix')\n",
    "plt.tight_layout(), plt.xlabel('Predicted Values'), plt.ylabel('True Values')\n",
    "plt.show()"
   ]
  },
  {
   "cell_type": "code",
   "execution_count": null,
   "metadata": {},
   "outputs": [],
   "source": []
  },
  {
   "cell_type": "markdown",
   "metadata": {},
   "source": [
    "## PROBAR POSIBILIDAD DE REFINAR UNDERSAMPLING NEAR_MISS especificando tasa undersampling (sampling_strategy)"
   ]
  },
  {
   "cell_type": "code",
   "execution_count": 29,
   "metadata": {},
   "outputs": [],
   "source": [
    "modelos = []\n",
    "\n",
    "modelos.append(('RF',RandomForestClassifier(n_estimators=n_trees, n_jobs=-1, random_state=42, class_weight='balanced')))\n",
    "modelos.append(('DECS_TREE', DecisionTreeClassifier(class_weight='balanced', random_state=42)))\n",
    "modelos.append(('GRAD_BOOST_CLASS', GradientBoostingClassifier(n_estimators=num_trees, random_state=42)))"
   ]
  },
  {
   "cell_type": "code",
   "execution_count": 30,
   "metadata": {},
   "outputs": [
    {
     "data": {
      "text/plain": [
       "[0.3,\n",
       " 0.4,\n",
       " 0.5,\n",
       " 0.6000000000000001,\n",
       " 0.7000000000000002,\n",
       " 0.8000000000000003,\n",
       " 0.9000000000000001]"
      ]
     },
     "execution_count": 30,
     "metadata": {},
     "output_type": "execute_result"
    }
   ],
   "source": [
    "sampling_strategy = list(np.arange(0.3,1,0.1))\n",
    "sampling_strategy"
   ]
  },
  {
   "cell_type": "code",
   "execution_count": null,
   "metadata": {},
   "outputs": [],
   "source": []
  },
  {
   "cell_type": "code",
   "execution_count": 31,
   "metadata": {},
   "outputs": [
    {
     "name": "stdout",
     "output_type": "stream",
     "text": [
      "ESTRATEGIA: 0.3 \n",
      "\n",
      "RF :\n",
      "\n",
      "Media: 0.6874539101974756  Desviación: 0.008164730559855905 \n",
      "\n",
      "DECS_TREE :\n",
      "\n",
      "Media: 0.6876384217323639  Desviación: 0.00807895190532495 \n",
      "\n",
      "GRAD_BOOST_CLASS :\n",
      "\n",
      "Media: 0.6925944648763503  Desviación: 0.007561100307926784 \n",
      "\n",
      "------------------------------------------------------------ \n",
      "\n",
      "ESTRATEGIA: 0.4 \n",
      "\n",
      "RF :\n",
      "\n",
      "Media: 0.685003659726141  Desviación: 0.007770189424230646 \n",
      "\n",
      "DECS_TREE :\n",
      "\n",
      "Media: 0.6850725639673751  Desviación: 0.00736197037835551 \n",
      "\n",
      "GRAD_BOOST_CLASS :\n",
      "\n",
      "Media: 0.6921147041067834  Desviación: 0.008380209063560835 \n",
      "\n",
      "------------------------------------------------------------ \n",
      "\n",
      "ESTRATEGIA: 0.5 \n",
      "\n",
      "RF :\n",
      "\n",
      "Media: 0.6858622673299025  Desviación: 0.005997908170522844 \n",
      "\n",
      "DECS_TREE :\n",
      "\n",
      "Media: 0.6857655185892535  Desviación: 0.00607715443114483 \n",
      "\n",
      "GRAD_BOOST_CLASS :\n",
      "\n",
      "Media: 0.6926366036425874  Desviación: 0.007023442224338792 \n",
      "\n",
      "------------------------------------------------------------ \n",
      "\n",
      "ESTRATEGIA: 0.6000000000000001 \n",
      "\n",
      "RF :\n",
      "\n",
      "Media: 0.6849829237923376  Desviación: 0.010476241076075263 \n",
      "\n",
      "DECS_TREE :\n",
      "\n",
      "Media: 0.6840455636566124  Desviación: 0.009784163873196873 \n",
      "\n",
      "GRAD_BOOST_CLASS :\n",
      "\n",
      "Media: 0.6923516794316151  Desviación: 0.01015293756152734 \n",
      "\n",
      "------------------------------------------------------------ \n",
      "\n",
      "ESTRATEGIA: 0.7000000000000002 \n",
      "\n",
      "RF :\n",
      "\n",
      "Media: 0.6854078364059664  Desviación: 0.008341115627077518 \n",
      "\n",
      "DECS_TREE :\n",
      "\n",
      "Media: 0.6839713665219436  Desviación: 0.007704469304966622 \n",
      "\n",
      "GRAD_BOOST_CLASS :\n",
      "\n",
      "Media: 0.6921061103170034  Desviación: 0.007586629136940553 \n",
      "\n",
      "------------------------------------------------------------ \n",
      "\n",
      "ESTRATEGIA: 0.8000000000000003 \n",
      "\n",
      "RF :\n",
      "\n",
      "Media: 0.6862222391413718  Desviación: 0.007089602050257455 \n",
      "\n",
      "DECS_TREE :\n",
      "\n",
      "Media: 0.6850959713566198  Desviación: 0.006454436114000386 \n",
      "\n",
      "GRAD_BOOST_CLASS :\n",
      "\n",
      "Media: 0.6924654764984016  Desviación: 0.008811149682977297 \n",
      "\n",
      "------------------------------------------------------------ \n",
      "\n",
      "ESTRATEGIA: 0.9000000000000001 \n",
      "\n",
      "RF :\n",
      "\n",
      "Media: 0.685459073473248  Desviación: 0.01035161756510898 \n",
      "\n",
      "DECS_TREE :\n",
      "\n",
      "Media: 0.6840159811845631  Desviación: 0.010286797439679161 \n",
      "\n",
      "GRAD_BOOST_CLASS :\n",
      "\n",
      "Media: 0.6926236841486162  Desviación: 0.008766922788114868 \n",
      "\n",
      "------------------------------------------------------------ \n",
      "\n"
     ]
    }
   ],
   "source": [
    "num_trees = 300\n",
    "\n",
    "for ratio in sampling_strategy:\n",
    "    \n",
    "    nrmiss = NearMiss(sampling_strategy=ratio, n_jobs=-1)\n",
    "    X_train_rsmpl, y_train_rsmpl = nrmiss.fit_sample(X_train, y_train)\n",
    "    \n",
    "    print('ESTRATEGIA:',ratio,'\\n')\n",
    "    \n",
    "    for nombre, modelo in modelos:\n",
    "                \n",
    "        model = modelo\n",
    "        \n",
    "        resultados = cross_val_score(model, X_train_rsmpl, y_train_rsmpl, cv=skf, scoring=scoring)\n",
    "        \n",
    "        print(nombre,':\\n')\n",
    "        print('Media:',resultados.mean(),' Desviación:',resultados.std(),'\\n')\n",
    "        \n",
    "    print('----------'*6,'\\n')\n",
    "\n",
    "    \n"
   ]
  },
  {
   "cell_type": "markdown",
   "metadata": {},
   "source": [
    "Los resultados no son mejores que los obtenidos antes."
   ]
  },
  {
   "cell_type": "markdown",
   "metadata": {},
   "source": [
    "**SE DESECHA LA TÉCNICA DE UNDERSAMPLING UTILIZADA POR OBTENER PEORES RESULTADOS QUE LOS OBTENIDOS APLICANDO OVERSAMPLING**"
   ]
  },
  {
   "cell_type": "code",
   "execution_count": null,
   "metadata": {},
   "outputs": [],
   "source": []
  }
 ],
 "metadata": {
  "kernelspec": {
   "display_name": "Python 3",
   "language": "python",
   "name": "python3"
  },
  "language_info": {
   "codemirror_mode": {
    "name": "ipython",
    "version": 3
   },
   "file_extension": ".py",
   "mimetype": "text/x-python",
   "name": "python",
   "nbconvert_exporter": "python",
   "pygments_lexer": "ipython3",
   "version": "3.7.3"
  }
 },
 "nbformat": 4,
 "nbformat_minor": 2
}
