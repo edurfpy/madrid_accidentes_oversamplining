{
 "cells": [
  {
   "cell_type": "markdown",
   "metadata": {},
   "source": [
    "## MODELADO CLASIFICACION NVICTIM_INTERV CON OVERSAMPLING (SMOTE)"
   ]
  },
  {
   "cell_type": "code",
   "execution_count": 1,
   "metadata": {},
   "outputs": [],
   "source": [
    "import numpy as np\n",
    "import pandas as pd\n",
    "import matplotlib.pyplot as plt\n",
    "import seaborn as sns\n",
    "\n",
    "%matplotlib inline"
   ]
  },
  {
   "cell_type": "markdown",
   "metadata": {},
   "source": [
    "### Carga de los datos ya codificados categóricos"
   ]
  },
  {
   "cell_type": "code",
   "execution_count": 2,
   "metadata": {},
   "outputs": [
    {
     "name": "stdout",
     "output_type": "stream",
     "text": [
      "<class 'pandas.core.frame.DataFrame'>\n",
      "RangeIndex: 86817 entries, 0 to 86816\n",
      "Data columns (total 23 columns):\n",
      "MAL_TIEMPO                               86817 non-null int64\n",
      "MAL_ESTADO_SUELO                         86817 non-null int64\n",
      "num_vehic_implic                         86817 non-null int64\n",
      "conductor_menor                          86817 non-null int64\n",
      "conductor_18_34                          86817 non-null int64\n",
      "conductor_35_49                          86817 non-null int64\n",
      "conductor_50_mas                         86817 non-null int64\n",
      "RANGO_HORARIO_DE 00:00 A 7:00            86817 non-null int64\n",
      "RANGO_HORARIO_DE 12:00 A 17:00           86817 non-null int64\n",
      "RANGO_HORARIO_DE 17:00 A 21:00           86817 non-null int64\n",
      "RANGO_HORARIO_DE 21:00 A 00:00           86817 non-null int64\n",
      "RANGO_HORARIO_DE 7:00 A 12:00            86817 non-null int64\n",
      "DIA_SEMANA_FIN DE SEMANA                 86817 non-null int64\n",
      "DIA_SEMANA_LABORABLE                     86817 non-null int64\n",
      "TIPO_ACCIDENTE_ATROPELLO                 86817 non-null int64\n",
      "TIPO_ACCIDENTE_CAIDA BICICLETA           86817 non-null int64\n",
      "TIPO_ACCIDENTE_CAIDA MOTOR_2_3_RUEDAS    86817 non-null int64\n",
      "TIPO_ACCIDENTE_CAIDA VIAJERO BUS         86817 non-null int64\n",
      "TIPO_ACCIDENTE_CHOQUE CON OBJETO FIJO    86817 non-null int64\n",
      "TIPO_ACCIDENTE_COLISION DOBLE            86817 non-null int64\n",
      "TIPO_ACCIDENTE_COLISION MULTIPLE         86817 non-null int64\n",
      "TIPO_ACCIDENTE_VUELCO_OTROS              86817 non-null int64\n",
      "NVICTIM_INTERV                           86817 non-null object\n",
      "dtypes: int64(22), object(1)\n",
      "memory usage: 15.2+ MB\n"
     ]
    }
   ],
   "source": [
    "df_premodelo = pd.read_csv('./madrid_accidentes_modelar_NVICTIM_INTERV_v1_0.csv',encoding='latin1')\n",
    "\n",
    "df_premodelo.info()"
   ]
  },
  {
   "cell_type": "code",
   "execution_count": null,
   "metadata": {},
   "outputs": [],
   "source": []
  },
  {
   "cell_type": "markdown",
   "metadata": {},
   "source": [
    "## SELECCION CARACTERISTICAS"
   ]
  },
  {
   "cell_type": "markdown",
   "metadata": {},
   "source": [
    "Probaremos ranking importancia características y eliminación recursiva."
   ]
  },
  {
   "cell_type": "code",
   "execution_count": 3,
   "metadata": {},
   "outputs": [
    {
     "data": {
      "text/plain": [
       "(86817, 22)"
      ]
     },
     "execution_count": 3,
     "metadata": {},
     "output_type": "execute_result"
    }
   ],
   "source": [
    "X = df_premodelo.drop(columns='NVICTIM_INTERV')\n",
    "\n",
    "y = df_premodelo['NVICTIM_INTERV']\n",
    "\n",
    "X.shape"
   ]
  },
  {
   "cell_type": "markdown",
   "metadata": {},
   "source": [
    "### Importancia característica, modelo RF"
   ]
  },
  {
   "cell_type": "code",
   "execution_count": 4,
   "metadata": {},
   "outputs": [
    {
     "data": {
      "text/plain": [
       "RandomForestClassifier(bootstrap=True, ccp_alpha=0.0, class_weight=None,\n",
       "                       criterion='gini', max_depth=None, max_features='auto',\n",
       "                       max_leaf_nodes=None, max_samples=None,\n",
       "                       min_impurity_decrease=0.0, min_impurity_split=None,\n",
       "                       min_samples_leaf=1, min_samples_split=2,\n",
       "                       min_weight_fraction_leaf=0.0, n_estimators=500,\n",
       "                       n_jobs=None, oob_score=False, random_state=42, verbose=0,\n",
       "                       warm_start=False)"
      ]
     },
     "execution_count": 4,
     "metadata": {},
     "output_type": "execute_result"
    }
   ],
   "source": [
    "from sklearn.ensemble import RandomForestClassifier\n",
    "\n",
    "model_RF_ranking = RandomForestClassifier(n_estimators=500,random_state=42)\n",
    "\n",
    "model_RF_ranking.fit(X, y)"
   ]
  },
  {
   "cell_type": "code",
   "execution_count": 5,
   "metadata": {},
   "outputs": [
    {
     "data": {
      "text/plain": [
       "num_vehic_implic                         0.213344\n",
       "TIPO_ACCIDENTE_COLISION MULTIPLE         0.119474\n",
       "conductor_18_34                          0.087695\n",
       "conductor_35_49                          0.081014\n",
       "TIPO_ACCIDENTE_CAIDA MOTOR_2_3_RUEDAS    0.068596\n",
       "conductor_50_mas                         0.064594\n",
       "TIPO_ACCIDENTE_COLISION DOBLE            0.052645\n",
       "RANGO_HORARIO_DE 00:00 A 7:00            0.044811\n",
       "MAL_ESTADO_SUELO                         0.035470\n",
       "MAL_TIEMPO                               0.034006\n",
       "TIPO_ACCIDENTE_ATROPELLO                 0.025405\n",
       "RANGO_HORARIO_DE 7:00 A 12:00            0.021158\n",
       "DIA_SEMANA_FIN DE SEMANA                 0.019492\n",
       "RANGO_HORARIO_DE 12:00 A 17:00           0.018086\n",
       "DIA_SEMANA_LABORABLE                     0.018073\n",
       "TIPO_ACCIDENTE_CAIDA BICICLETA           0.017980\n",
       "RANGO_HORARIO_DE 17:00 A 21:00           0.017827\n",
       "RANGO_HORARIO_DE 21:00 A 00:00           0.016384\n",
       "TIPO_ACCIDENTE_CHOQUE CON OBJETO FIJO    0.016109\n",
       "conductor_menor                          0.013364\n",
       "TIPO_ACCIDENTE_VUELCO_OTROS              0.007435\n",
       "TIPO_ACCIDENTE_CAIDA VIAJERO BUS         0.007038\n",
       "dtype: float64"
      ]
     },
     "execution_count": 5,
     "metadata": {},
     "output_type": "execute_result"
    }
   ],
   "source": [
    "ranking_RF = pd.Series(model_RF_ranking.feature_importances_,index=X.columns)\n",
    "\n",
    "ranking_RF.sort_values(ascending=False)"
   ]
  },
  {
   "cell_type": "code",
   "execution_count": null,
   "metadata": {},
   "outputs": [],
   "source": []
  },
  {
   "cell_type": "markdown",
   "metadata": {},
   "source": [
    "### RFE  (ELIMINACION RECURSIVA)"
   ]
  },
  {
   "cell_type": "code",
   "execution_count": 6,
   "metadata": {},
   "outputs": [],
   "source": [
    "from sklearn.feature_selection import RFE\n",
    "from sklearn.linear_model import LogisticRegression, SGDClassifier"
   ]
  },
  {
   "cell_type": "code",
   "execution_count": 7,
   "metadata": {},
   "outputs": [],
   "source": [
    "\n",
    "model_RFE = RandomForestClassifier(random_state=42)\n",
    "rfe = RFE(model_RFE, 18)\n",
    "\n",
    "fit_RFE = rfe.fit(X, y)\n"
   ]
  },
  {
   "cell_type": "code",
   "execution_count": 8,
   "metadata": {},
   "outputs": [
    {
     "data": {
      "text/plain": [
       "1                               MAL_TIEMPO\n",
       "1           TIPO_ACCIDENTE_CAIDA BICICLETA\n",
       "1                 TIPO_ACCIDENTE_ATROPELLO\n",
       "1                     DIA_SEMANA_LABORABLE\n",
       "1                 DIA_SEMANA_FIN DE SEMANA\n",
       "1            RANGO_HORARIO_DE 7:00 A 12:00\n",
       "1         TIPO_ACCIDENTE_COLISION MULTIPLE\n",
       "1           RANGO_HORARIO_DE 17:00 A 21:00\n",
       "1           RANGO_HORARIO_DE 12:00 A 17:00\n",
       "1            RANGO_HORARIO_DE 00:00 A 7:00\n",
       "1                         conductor_50_mas\n",
       "1                          conductor_35_49\n",
       "1                          conductor_18_34\n",
       "1            TIPO_ACCIDENTE_COLISION DOBLE\n",
       "1                         num_vehic_implic\n",
       "1                         MAL_ESTADO_SUELO\n",
       "1    TIPO_ACCIDENTE_CAIDA MOTOR_2_3_RUEDAS\n",
       "1    TIPO_ACCIDENTE_CHOQUE CON OBJETO FIJO\n",
       "2           RANGO_HORARIO_DE 21:00 A 00:00\n",
       "3                          conductor_menor\n",
       "4              TIPO_ACCIDENTE_VUELCO_OTROS\n",
       "5         TIPO_ACCIDENTE_CAIDA VIAJERO BUS\n",
       "dtype: object"
      ]
     },
     "execution_count": 8,
     "metadata": {},
     "output_type": "execute_result"
    }
   ],
   "source": [
    "ranking_RFE = pd.Series(X.columns.values, index=fit_RFE.ranking_)\n",
    "\n",
    "ranking_RFE.sort_index()"
   ]
  },
  {
   "cell_type": "markdown",
   "metadata": {},
   "source": [
    "### Tabla resumen seleccion caracteristicas."
   ]
  },
  {
   "cell_type": "code",
   "execution_count": 9,
   "metadata": {},
   "outputs": [
    {
     "data": {
      "text/html": [
       "<div>\n",
       "<style scoped>\n",
       "    .dataframe tbody tr th:only-of-type {\n",
       "        vertical-align: middle;\n",
       "    }\n",
       "\n",
       "    .dataframe tbody tr th {\n",
       "        vertical-align: top;\n",
       "    }\n",
       "\n",
       "    .dataframe thead th {\n",
       "        text-align: right;\n",
       "    }\n",
       "</style>\n",
       "<table border=\"1\" class=\"dataframe\">\n",
       "  <thead>\n",
       "    <tr style=\"text-align: right;\">\n",
       "      <th></th>\n",
       "      <th>RF_importance</th>\n",
       "      <th>orden_RFE</th>\n",
       "      <th>atributo_RFE</th>\n",
       "    </tr>\n",
       "  </thead>\n",
       "  <tbody>\n",
       "    <tr>\n",
       "      <th>0</th>\n",
       "      <td>num_vehic_implic</td>\n",
       "      <td>1</td>\n",
       "      <td>MAL_TIEMPO</td>\n",
       "    </tr>\n",
       "    <tr>\n",
       "      <th>1</th>\n",
       "      <td>TIPO_ACCIDENTE_COLISION MULTIPLE</td>\n",
       "      <td>1</td>\n",
       "      <td>TIPO_ACCIDENTE_CAIDA BICICLETA</td>\n",
       "    </tr>\n",
       "    <tr>\n",
       "      <th>2</th>\n",
       "      <td>conductor_18_34</td>\n",
       "      <td>1</td>\n",
       "      <td>TIPO_ACCIDENTE_ATROPELLO</td>\n",
       "    </tr>\n",
       "    <tr>\n",
       "      <th>3</th>\n",
       "      <td>conductor_35_49</td>\n",
       "      <td>1</td>\n",
       "      <td>DIA_SEMANA_LABORABLE</td>\n",
       "    </tr>\n",
       "    <tr>\n",
       "      <th>4</th>\n",
       "      <td>TIPO_ACCIDENTE_CAIDA MOTOR_2_3_RUEDAS</td>\n",
       "      <td>1</td>\n",
       "      <td>DIA_SEMANA_FIN DE SEMANA</td>\n",
       "    </tr>\n",
       "    <tr>\n",
       "      <th>5</th>\n",
       "      <td>conductor_50_mas</td>\n",
       "      <td>1</td>\n",
       "      <td>RANGO_HORARIO_DE 7:00 A 12:00</td>\n",
       "    </tr>\n",
       "    <tr>\n",
       "      <th>6</th>\n",
       "      <td>TIPO_ACCIDENTE_COLISION DOBLE</td>\n",
       "      <td>1</td>\n",
       "      <td>TIPO_ACCIDENTE_COLISION MULTIPLE</td>\n",
       "    </tr>\n",
       "    <tr>\n",
       "      <th>7</th>\n",
       "      <td>RANGO_HORARIO_DE 00:00 A 7:00</td>\n",
       "      <td>1</td>\n",
       "      <td>RANGO_HORARIO_DE 17:00 A 21:00</td>\n",
       "    </tr>\n",
       "    <tr>\n",
       "      <th>8</th>\n",
       "      <td>MAL_ESTADO_SUELO</td>\n",
       "      <td>1</td>\n",
       "      <td>RANGO_HORARIO_DE 12:00 A 17:00</td>\n",
       "    </tr>\n",
       "    <tr>\n",
       "      <th>9</th>\n",
       "      <td>MAL_TIEMPO</td>\n",
       "      <td>1</td>\n",
       "      <td>RANGO_HORARIO_DE 00:00 A 7:00</td>\n",
       "    </tr>\n",
       "    <tr>\n",
       "      <th>10</th>\n",
       "      <td>TIPO_ACCIDENTE_ATROPELLO</td>\n",
       "      <td>1</td>\n",
       "      <td>conductor_50_mas</td>\n",
       "    </tr>\n",
       "    <tr>\n",
       "      <th>11</th>\n",
       "      <td>RANGO_HORARIO_DE 7:00 A 12:00</td>\n",
       "      <td>1</td>\n",
       "      <td>conductor_35_49</td>\n",
       "    </tr>\n",
       "    <tr>\n",
       "      <th>12</th>\n",
       "      <td>DIA_SEMANA_FIN DE SEMANA</td>\n",
       "      <td>1</td>\n",
       "      <td>conductor_18_34</td>\n",
       "    </tr>\n",
       "    <tr>\n",
       "      <th>13</th>\n",
       "      <td>RANGO_HORARIO_DE 12:00 A 17:00</td>\n",
       "      <td>1</td>\n",
       "      <td>TIPO_ACCIDENTE_COLISION DOBLE</td>\n",
       "    </tr>\n",
       "    <tr>\n",
       "      <th>14</th>\n",
       "      <td>DIA_SEMANA_LABORABLE</td>\n",
       "      <td>1</td>\n",
       "      <td>num_vehic_implic</td>\n",
       "    </tr>\n",
       "    <tr>\n",
       "      <th>15</th>\n",
       "      <td>TIPO_ACCIDENTE_CAIDA BICICLETA</td>\n",
       "      <td>1</td>\n",
       "      <td>MAL_ESTADO_SUELO</td>\n",
       "    </tr>\n",
       "    <tr>\n",
       "      <th>16</th>\n",
       "      <td>RANGO_HORARIO_DE 17:00 A 21:00</td>\n",
       "      <td>1</td>\n",
       "      <td>TIPO_ACCIDENTE_CAIDA MOTOR_2_3_RUEDAS</td>\n",
       "    </tr>\n",
       "    <tr>\n",
       "      <th>17</th>\n",
       "      <td>RANGO_HORARIO_DE 21:00 A 00:00</td>\n",
       "      <td>1</td>\n",
       "      <td>TIPO_ACCIDENTE_CHOQUE CON OBJETO FIJO</td>\n",
       "    </tr>\n",
       "    <tr>\n",
       "      <th>18</th>\n",
       "      <td>TIPO_ACCIDENTE_CHOQUE CON OBJETO FIJO</td>\n",
       "      <td>2</td>\n",
       "      <td>RANGO_HORARIO_DE 21:00 A 00:00</td>\n",
       "    </tr>\n",
       "    <tr>\n",
       "      <th>19</th>\n",
       "      <td>conductor_menor</td>\n",
       "      <td>3</td>\n",
       "      <td>conductor_menor</td>\n",
       "    </tr>\n",
       "    <tr>\n",
       "      <th>20</th>\n",
       "      <td>TIPO_ACCIDENTE_VUELCO_OTROS</td>\n",
       "      <td>4</td>\n",
       "      <td>TIPO_ACCIDENTE_VUELCO_OTROS</td>\n",
       "    </tr>\n",
       "    <tr>\n",
       "      <th>21</th>\n",
       "      <td>TIPO_ACCIDENTE_CAIDA VIAJERO BUS</td>\n",
       "      <td>5</td>\n",
       "      <td>TIPO_ACCIDENTE_CAIDA VIAJERO BUS</td>\n",
       "    </tr>\n",
       "  </tbody>\n",
       "</table>\n",
       "</div>"
      ],
      "text/plain": [
       "                            RF_importance  orden_RFE  \\\n",
       "0                        num_vehic_implic          1   \n",
       "1        TIPO_ACCIDENTE_COLISION MULTIPLE          1   \n",
       "2                         conductor_18_34          1   \n",
       "3                         conductor_35_49          1   \n",
       "4   TIPO_ACCIDENTE_CAIDA MOTOR_2_3_RUEDAS          1   \n",
       "5                        conductor_50_mas          1   \n",
       "6           TIPO_ACCIDENTE_COLISION DOBLE          1   \n",
       "7           RANGO_HORARIO_DE 00:00 A 7:00          1   \n",
       "8                        MAL_ESTADO_SUELO          1   \n",
       "9                              MAL_TIEMPO          1   \n",
       "10               TIPO_ACCIDENTE_ATROPELLO          1   \n",
       "11          RANGO_HORARIO_DE 7:00 A 12:00          1   \n",
       "12               DIA_SEMANA_FIN DE SEMANA          1   \n",
       "13         RANGO_HORARIO_DE 12:00 A 17:00          1   \n",
       "14                   DIA_SEMANA_LABORABLE          1   \n",
       "15         TIPO_ACCIDENTE_CAIDA BICICLETA          1   \n",
       "16         RANGO_HORARIO_DE 17:00 A 21:00          1   \n",
       "17         RANGO_HORARIO_DE 21:00 A 00:00          1   \n",
       "18  TIPO_ACCIDENTE_CHOQUE CON OBJETO FIJO          2   \n",
       "19                        conductor_menor          3   \n",
       "20            TIPO_ACCIDENTE_VUELCO_OTROS          4   \n",
       "21       TIPO_ACCIDENTE_CAIDA VIAJERO BUS          5   \n",
       "\n",
       "                             atributo_RFE  \n",
       "0                              MAL_TIEMPO  \n",
       "1          TIPO_ACCIDENTE_CAIDA BICICLETA  \n",
       "2                TIPO_ACCIDENTE_ATROPELLO  \n",
       "3                    DIA_SEMANA_LABORABLE  \n",
       "4                DIA_SEMANA_FIN DE SEMANA  \n",
       "5           RANGO_HORARIO_DE 7:00 A 12:00  \n",
       "6        TIPO_ACCIDENTE_COLISION MULTIPLE  \n",
       "7          RANGO_HORARIO_DE 17:00 A 21:00  \n",
       "8          RANGO_HORARIO_DE 12:00 A 17:00  \n",
       "9           RANGO_HORARIO_DE 00:00 A 7:00  \n",
       "10                       conductor_50_mas  \n",
       "11                        conductor_35_49  \n",
       "12                        conductor_18_34  \n",
       "13          TIPO_ACCIDENTE_COLISION DOBLE  \n",
       "14                       num_vehic_implic  \n",
       "15                       MAL_ESTADO_SUELO  \n",
       "16  TIPO_ACCIDENTE_CAIDA MOTOR_2_3_RUEDAS  \n",
       "17  TIPO_ACCIDENTE_CHOQUE CON OBJETO FIJO  \n",
       "18         RANGO_HORARIO_DE 21:00 A 00:00  \n",
       "19                        conductor_menor  \n",
       "20            TIPO_ACCIDENTE_VUELCO_OTROS  \n",
       "21       TIPO_ACCIDENTE_CAIDA VIAJERO BUS  "
      ]
     },
     "execution_count": 9,
     "metadata": {},
     "output_type": "execute_result"
    }
   ],
   "source": [
    "tabla_ranking = pd.DataFrame({'RF_importance': ranking_RF.sort_values(ascending=False).index, \\\n",
    "                             'orden_RFE': ranking_RFE.sort_index().index, 'atributo_RFE': ranking_RFE.sort_index().values})\n",
    "\n",
    "tabla_ranking"
   ]
  },
  {
   "cell_type": "markdown",
   "metadata": {},
   "source": [
    "Nos quedamos con las de RFE"
   ]
  },
  {
   "cell_type": "code",
   "execution_count": 10,
   "metadata": {},
   "outputs": [
    {
     "data": {
      "text/plain": [
       "(86817, 18)"
      ]
     },
     "execution_count": 10,
     "metadata": {},
     "output_type": "execute_result"
    }
   ],
   "source": [
    "X.drop(columns=['RANGO_HORARIO_DE 21:00 A 00:00','conductor_menor', \\\n",
    "                'TIPO_ACCIDENTE_CAIDA VIAJERO BUS','TIPO_ACCIDENTE_VUELCO_OTROS'], inplace=True)\n",
    "\n",
    "\n",
    "\n",
    "# 'MAL_ESTADO_SUELO','MAL_TIEMPO', \\\n",
    "# 'conductor_35_49', 'conductor_50_mas',\n",
    "#  'TIPO_ACCIDENTE_ATROPELLO', \\'TIPO_ACCIDENTE_CAIDA BICICLETA','TIPO_ACCIDENTE_CHOQUE CON OBJETO FIJO', \\\n",
    "# 'RANGO_HORARIO_DE 7:00 A 12:00','RANGO_HORARIO_DE 12:00 A 17:00','RANGO_HORARIO_DE 17:00 A 21:00'\n",
    "# 'DIA_SEMANA_FIN DE SEMANA','DIA_SEMANA_LABORABLE', \\\n",
    "\n",
    "X.shape"
   ]
  },
  {
   "cell_type": "code",
   "execution_count": 11,
   "metadata": {},
   "outputs": [
    {
     "data": {
      "text/plain": [
       "Index(['MAL_TIEMPO', 'MAL_ESTADO_SUELO', 'num_vehic_implic', 'conductor_18_34',\n",
       "       'conductor_35_49', 'conductor_50_mas', 'RANGO_HORARIO_DE 00:00 A 7:00',\n",
       "       'RANGO_HORARIO_DE 12:00 A 17:00', 'RANGO_HORARIO_DE 17:00 A 21:00',\n",
       "       'RANGO_HORARIO_DE 7:00 A 12:00', 'DIA_SEMANA_FIN DE SEMANA',\n",
       "       'DIA_SEMANA_LABORABLE', 'TIPO_ACCIDENTE_ATROPELLO',\n",
       "       'TIPO_ACCIDENTE_CAIDA BICICLETA',\n",
       "       'TIPO_ACCIDENTE_CAIDA MOTOR_2_3_RUEDAS',\n",
       "       'TIPO_ACCIDENTE_CHOQUE CON OBJETO FIJO',\n",
       "       'TIPO_ACCIDENTE_COLISION DOBLE', 'TIPO_ACCIDENTE_COLISION MULTIPLE'],\n",
       "      dtype='object')"
      ]
     },
     "execution_count": 11,
     "metadata": {},
     "output_type": "execute_result"
    }
   ],
   "source": [
    "X.columns"
   ]
  },
  {
   "cell_type": "markdown",
   "metadata": {},
   "source": [
    "### SEPARACIÓN CONJUNTOS TRAIN Y TEST ESTRATIFICADO"
   ]
  },
  {
   "cell_type": "code",
   "execution_count": 12,
   "metadata": {},
   "outputs": [],
   "source": [
    "from sklearn.model_selection import StratifiedShuffleSplit\n",
    "\n",
    "train_test_split = StratifiedShuffleSplit(n_splits=1, test_size=0.3, random_state=42)\n",
    "\n",
    "for train_index, test_index in train_test_split.split(X, y):\n",
    "    \n",
    "    X_train, X_test = X.loc[train_index], X.loc[test_index]\n",
    "    \n",
    "    y_train, y_test = y[train_index], y[test_index]"
   ]
  },
  {
   "cell_type": "code",
   "execution_count": 13,
   "metadata": {},
   "outputs": [
    {
     "data": {
      "text/plain": [
       "LEVE           0.804561\n",
       "MEDIA/GRAVE    0.195439\n",
       "Name: NVICTIM_INTERV, dtype: float64"
      ]
     },
     "execution_count": 13,
     "metadata": {},
     "output_type": "execute_result"
    }
   ],
   "source": [
    "y_train.value_counts(normalize=True)"
   ]
  },
  {
   "cell_type": "code",
   "execution_count": 14,
   "metadata": {},
   "outputs": [
    {
     "data": {
      "text/plain": [
       "LEVE           0.804538\n",
       "MEDIA/GRAVE    0.195462\n",
       "Name: NVICTIM_INTERV, dtype: float64"
      ]
     },
     "execution_count": 14,
     "metadata": {},
     "output_type": "execute_result"
    }
   ],
   "source": [
    "y_test.value_counts(normalize=True)"
   ]
  },
  {
   "cell_type": "code",
   "execution_count": null,
   "metadata": {},
   "outputs": [],
   "source": []
  },
  {
   "cell_type": "markdown",
   "metadata": {},
   "source": [
    "## Comunes a todos los modelos"
   ]
  },
  {
   "cell_type": "code",
   "execution_count": 15,
   "metadata": {},
   "outputs": [],
   "source": [
    "from sklearn.model_selection import StratifiedKFold, cross_val_score\n",
    "from sklearn.metrics import classification_report, confusion_matrix\n",
    "from sklearn.metrics import f1_score \n",
    "\n",
    "num_folds = 10\n",
    "skf = StratifiedKFold(n_splits=num_folds)\n",
    "\n",
    "scoring = 'roc_auc'\n",
    "#'f1_macro' 'roc_auc'"
   ]
  },
  {
   "cell_type": "markdown",
   "metadata": {},
   "source": [
    "## IMBALANCED LEARNING"
   ]
  },
  {
   "cell_type": "markdown",
   "metadata": {},
   "source": [
    "Explicar que los malos resultados se deben al target desbalanceado, cuesta detectar el minoritario y que es necesario tecnicads de resampling"
   ]
  },
  {
   "cell_type": "markdown",
   "metadata": {},
   "source": [
    "### SMOTE"
   ]
  },
  {
   "cell_type": "code",
   "execution_count": 16,
   "metadata": {},
   "outputs": [
    {
     "data": {
      "text/plain": [
       "((97788, 18), (97788,))"
      ]
     },
     "execution_count": 16,
     "metadata": {},
     "output_type": "execute_result"
    }
   ],
   "source": [
    "from imblearn.over_sampling import SMOTE\n",
    "\n",
    "smote = SMOTE(sampling_strategy='minority', random_state=42, n_jobs=-1)\n",
    "\n",
    "X_train_rsmpl, y_train_rsmpl = smote.fit_sample(X_train, y_train)\n",
    "\n",
    "X_train_rsmpl.shape, y_train_rsmpl.shape"
   ]
  },
  {
   "cell_type": "code",
   "execution_count": 17,
   "metadata": {},
   "outputs": [
    {
     "data": {
      "text/plain": [
       "LEVE           48894\n",
       "MEDIA/GRAVE    11877\n",
       "Name: NVICTIM_INTERV, dtype: int64"
      ]
     },
     "execution_count": 17,
     "metadata": {},
     "output_type": "execute_result"
    }
   ],
   "source": [
    "# TARGET DESBALANCEADO\n",
    "y_train.value_counts()"
   ]
  },
  {
   "cell_type": "code",
   "execution_count": 18,
   "metadata": {},
   "outputs": [
    {
     "data": {
      "text/plain": [
       "LEVE           48894\n",
       "MEDIA/GRAVE    48894\n",
       "Name: NVICTIM_INTERV, dtype: int64"
      ]
     },
     "execution_count": 18,
     "metadata": {},
     "output_type": "execute_result"
    }
   ],
   "source": [
    "# TARGET BALANCEADO DESPUES DE SMOTE\n",
    "y_train_rsmpl.value_counts()"
   ]
  },
  {
   "cell_type": "code",
   "execution_count": null,
   "metadata": {},
   "outputs": [],
   "source": []
  },
  {
   "cell_type": "markdown",
   "metadata": {},
   "source": [
    "## Decision Trees"
   ]
  },
  {
   "cell_type": "code",
   "execution_count": 19,
   "metadata": {},
   "outputs": [
    {
     "name": "stdout",
     "output_type": "stream",
     "text": [
      "DECISION TREE:\n",
      "\n",
      "Media: 0.7114575061440143  Desviación: 0.011462930708697942\n"
     ]
    }
   ],
   "source": [
    "from sklearn.tree import DecisionTreeClassifier\n",
    "\n",
    "modelo_DesTree = DecisionTreeClassifier(class_weight='balanced', random_state=42)\n",
    "\n",
    "resultadosDesTree = cross_val_score(modelo_DesTree, X_train_rsmpl, y_train_rsmpl, cv=skf, scoring=scoring)\n",
    "\n",
    "print('DECISION TREE:\\n')\n",
    "print('Media:',resultadosDesTree.mean(),' Desviación:',resultadosDesTree.std())\n",
    "\n"
   ]
  },
  {
   "cell_type": "code",
   "execution_count": 20,
   "metadata": {},
   "outputs": [
    {
     "name": "stdout",
     "output_type": "stream",
     "text": [
      "Classification Report DECISION TREE: \n",
      "               precision    recall  f1-score   support\n",
      "\n",
      "        LEVE       0.86      0.63      0.73     20955\n",
      " MEDIA/GRAVE       0.28      0.59      0.38      5091\n",
      "\n",
      "    accuracy                           0.62     26046\n",
      "   macro avg       0.57      0.61      0.55     26046\n",
      "weighted avg       0.75      0.62      0.66     26046\n",
      "\n"
     ]
    }
   ],
   "source": [
    "\n",
    "modelo_DesTree.fit(X_train_rsmpl, y_train_rsmpl)\n",
    "\n",
    "y_preds = modelo_DesTree.predict(X_test)\n",
    "\n",
    "report = classification_report(y_test, y_preds)\n",
    "print('Classification Report DECISION TREE: \\n', report)\n"
   ]
  },
  {
   "cell_type": "code",
   "execution_count": 21,
   "metadata": {},
   "outputs": [
    {
     "data": {
      "image/png": "[encoded data removed]",
      "text/plain": [
       "<Figure size 432x288 with 2 Axes>"
      ]
     },
     "metadata": {
      "needs_background": "light"
     },
     "output_type": "display_data"
    }
   ],
   "source": [
    "# matriz confusion\n",
    "mat_conf = confusion_matrix(y_test, y_preds)\n",
    "\n",
    "# dataframe auxiliar para crear grafico\n",
    "dataframe = pd.DataFrame(mat_conf, index=['LEVE', 'MEDIA/GRAVE'], columns=['LEVE', 'MEDIA/GRAVE'])\n",
    "\n",
    "# crear heatmap\n",
    "sns.heatmap(dataframe, annot=True, cbar=True, cmap='Blues')\n",
    "plt.title('Confusion Matrix')\n",
    "plt.tight_layout(), plt.xlabel('Predicted Values'), plt.ylabel('True Values')\n",
    "plt.show()"
   ]
  },
  {
   "cell_type": "code",
   "execution_count": null,
   "metadata": {},
   "outputs": [],
   "source": []
  },
  {
   "cell_type": "markdown",
   "metadata": {},
   "source": [
    "## Random Forest"
   ]
  },
  {
   "cell_type": "code",
   "execution_count": 22,
   "metadata": {},
   "outputs": [
    {
     "name": "stdout",
     "output_type": "stream",
     "text": [
      "Random Forest:\n",
      "\n",
      "Media: 0.7140703328672962  Desviación: 0.010446370027107778\n"
     ]
    }
   ],
   "source": [
    "n_trees = 300\n",
    "modelo_RF = RandomForestClassifier(n_estimators=n_trees, n_jobs=-1, random_state=42, class_weight='balanced')\n",
    "\n",
    "resultadosRF = cross_val_score(modelo_RF, X_train_rsmpl, y_train_rsmpl, cv=skf, scoring=scoring)\n",
    "\n",
    "print('Random Forest:\\n')\n",
    "print('Media:',resultadosRF.mean(),' Desviación:',resultadosRF.std())\n"
   ]
  },
  {
   "cell_type": "code",
   "execution_count": null,
   "metadata": {},
   "outputs": [],
   "source": []
  },
  {
   "cell_type": "code",
   "execution_count": 23,
   "metadata": {},
   "outputs": [
    {
     "name": "stdout",
     "output_type": "stream",
     "text": [
      "Classification Report Random Forest: \n",
      "               precision    recall  f1-score   support\n",
      "\n",
      "        LEVE       0.86      0.63      0.73     20955\n",
      " MEDIA/GRAVE       0.28      0.60      0.38      5091\n",
      "\n",
      "    accuracy                           0.62     26046\n",
      "   macro avg       0.57      0.61      0.55     26046\n",
      "weighted avg       0.75      0.62      0.66     26046\n",
      "\n"
     ]
    }
   ],
   "source": [
    "\n",
    "modelo_RF.fit(X_train_rsmpl, y_train_rsmpl)\n",
    "\n",
    "y_preds = modelo_RF.predict(X_test)\n",
    "\n",
    "report = classification_report(y_test, y_preds)\n",
    "print('Classification Report Random Forest: \\n', report)\n"
   ]
  },
  {
   "cell_type": "code",
   "execution_count": 24,
   "metadata": {},
   "outputs": [
    {
     "data": {
      "image/png": "[encoded data removed]",
      "text/plain": [
       "<Figure size 432x288 with 2 Axes>"
      ]
     },
     "metadata": {
      "needs_background": "light"
     },
     "output_type": "display_data"
    }
   ],
   "source": [
    "# matriz de confusion\n",
    "mat_conf = confusion_matrix(y_test, y_preds)\n",
    "\n",
    "# dataframe auxiliar para grafico\n",
    "dataframe = pd.DataFrame(mat_conf, index=['LEVE', 'MEDIA/GRAVE'], columns=['LEVE', 'MEDIA/GRAVE'])\n",
    "\n",
    "# crear heatmap\n",
    "sns.heatmap(dataframe, annot=True, cbar=True, cmap='Blues')\n",
    "plt.title('Confusion Matrix')\n",
    "plt.tight_layout(), plt.xlabel('Predicted Values'), plt.ylabel('True Values')\n",
    "plt.show()"
   ]
  },
  {
   "cell_type": "code",
   "execution_count": null,
   "metadata": {},
   "outputs": [],
   "source": []
  },
  {
   "cell_type": "markdown",
   "metadata": {},
   "source": [
    "## GradientBoostingClassifier"
   ]
  },
  {
   "cell_type": "code",
   "execution_count": 25,
   "metadata": {},
   "outputs": [
    {
     "name": "stdout",
     "output_type": "stream",
     "text": [
      "GRADIENT BOOST CLASSIFIER:\n",
      "\n",
      "Media: 0.6995572695279719  Desviación: 0.005073217769406771\n"
     ]
    }
   ],
   "source": [
    "from sklearn.ensemble import GradientBoostingClassifier\n",
    "\n",
    "num_trees = 300\n",
    "modelo_GBC = GradientBoostingClassifier(n_estimators=num_trees, random_state=42)\n",
    "\n",
    "resultadosGBC = cross_val_score(modelo_GBC, X_train_rsmpl, y_train_rsmpl, cv=skf, scoring=scoring)\n",
    "\n",
    "print('GRADIENT BOOST CLASSIFIER:\\n')\n",
    "print('Media:',resultadosGBC.mean(),' Desviación:',resultadosGBC.std())\n",
    "\n"
   ]
  },
  {
   "cell_type": "code",
   "execution_count": 26,
   "metadata": {},
   "outputs": [
    {
     "name": "stdout",
     "output_type": "stream",
     "text": [
      "Classification Report GRADIENT BOOST CLASSIFIER: \n",
      "               precision    recall  f1-score   support\n",
      "\n",
      "        LEVE       0.88      0.58      0.70     20955\n",
      " MEDIA/GRAVE       0.28      0.69      0.40      5091\n",
      "\n",
      "    accuracy                           0.60     26046\n",
      "   macro avg       0.58      0.63      0.55     26046\n",
      "weighted avg       0.77      0.60      0.64     26046\n",
      "\n"
     ]
    }
   ],
   "source": [
    "\n",
    "modelo_GBC.fit(X_train_rsmpl, y_train_rsmpl)\n",
    "\n",
    "y_preds = modelo_GBC.predict(X_test)\n",
    "\n",
    "report = classification_report(y_test, y_preds)\n",
    "print('Classification Report GRADIENT BOOST CLASSIFIER: \\n', report)\n"
   ]
  },
  {
   "cell_type": "code",
   "execution_count": 27,
   "metadata": {},
   "outputs": [
    {
     "data": {
      "image/png": "[encoded data removed]",
      "text/plain": [
       "<Figure size 432x288 with 2 Axes>"
      ]
     },
     "metadata": {
      "needs_background": "light"
     },
     "output_type": "display_data"
    }
   ],
   "source": [
    "# matriz de confusión\n",
    "mat_conf = confusion_matrix(y_test, y_preds)\n",
    "\n",
    "# dataframe auxiliar para crear grafico\n",
    "dataframe = pd.DataFrame(mat_conf, index=['LEVE', 'MEDIA/GRAVE'], columns=['LEVE', 'MEDIA/GRAVE'])\n",
    "\n",
    "# crear heatmap\n",
    "sns.heatmap(dataframe, annot=True, cbar=True, cmap='Blues')\n",
    "plt.title('Confusion Matrix')\n",
    "plt.tight_layout(), plt.xlabel('Predicted Values'), plt.ylabel('True Values')\n",
    "plt.show()"
   ]
  },
  {
   "cell_type": "code",
   "execution_count": null,
   "metadata": {},
   "outputs": [],
   "source": []
  },
  {
   "cell_type": "markdown",
   "metadata": {},
   "source": [
    "## PROBAR POSIBILIDAD DE REFINAR SMOTE especificando tasa oversampling (sampling_strategy)"
   ]
  },
  {
   "cell_type": "code",
   "execution_count": 28,
   "metadata": {},
   "outputs": [],
   "source": [
    "modelos = []\n",
    "\n",
    "modelos.append(('RF',RandomForestClassifier(n_estimators=n_trees, n_jobs=-1, random_state=42, class_weight='balanced')))\n",
    "modelos.append(('DECS_TREE', DecisionTreeClassifier(class_weight='balanced', random_state=42)))\n",
    "modelos.append(('GRAD_BOOST_CLASS', GradientBoostingClassifier(n_estimators=num_trees, random_state=42)))\n"
   ]
  },
  {
   "cell_type": "code",
   "execution_count": 29,
   "metadata": {},
   "outputs": [
    {
     "data": {
      "text/plain": [
       "[0.3,\n",
       " 0.4,\n",
       " 0.5,\n",
       " 0.6000000000000001,\n",
       " 0.7000000000000002,\n",
       " 0.8000000000000003,\n",
       " 0.9000000000000001]"
      ]
     },
     "execution_count": 29,
     "metadata": {},
     "output_type": "execute_result"
    }
   ],
   "source": [
    "sampling_strategy = list(np.arange(0.3,1,0.1))\n",
    "sampling_strategy"
   ]
  },
  {
   "cell_type": "code",
   "execution_count": 30,
   "metadata": {},
   "outputs": [
    {
     "name": "stdout",
     "output_type": "stream",
     "text": [
      "ESTRATEGIA: 0.3 \n",
      "\n",
      "RF :\n",
      "\n",
      "Media: 0.681065343161837  Desviación: 0.01711309588749027 \n",
      "\n",
      "DECS_TREE :\n",
      "\n",
      "Media: 0.6770521197286492  Desviación: 0.017538555202612233 \n",
      "\n",
      "GRAD_BOOST_CLASS :\n",
      "\n",
      "Media: 0.6912427321619925  Desviación: 0.006486527643854345 \n",
      "\n",
      "------------------------------------------------------------ \n",
      "\n",
      "ESTRATEGIA: 0.4 \n",
      "\n",
      "RF :\n",
      "\n",
      "Media: 0.6934167609165786  Desviación: 0.018853770434186817 \n",
      "\n",
      "DECS_TREE :\n",
      "\n",
      "Media: 0.6893917537868798  Desviación: 0.019645189012669022 \n",
      "\n",
      "GRAD_BOOST_CLASS :\n",
      "\n",
      "Media: 0.6940568859228887  Desviación: 0.007487704283572455 \n",
      "\n",
      "------------------------------------------------------------ \n",
      "\n",
      "ESTRATEGIA: 0.5 \n",
      "\n",
      "RF :\n",
      "\n",
      "Media: 0.700215354498961  Desviación: 0.016195239203786543 \n",
      "\n",
      "DECS_TREE :\n",
      "\n",
      "Media: 0.6968188810960501  Desviación: 0.01762006433796069 \n",
      "\n",
      "GRAD_BOOST_CLASS :\n",
      "\n",
      "Media: 0.694872790536886  Desviación: 0.006045590372162375 \n",
      "\n",
      "------------------------------------------------------------ \n",
      "\n",
      "ESTRATEGIA: 0.6000000000000001 \n",
      "\n",
      "RF :\n",
      "\n",
      "Media: 0.7045960139897585  Desviación: 0.013955637268489583 \n",
      "\n",
      "DECS_TREE :\n",
      "\n",
      "Media: 0.7012307261556938  Desviación: 0.014549756885347723 \n",
      "\n",
      "GRAD_BOOST_CLASS :\n",
      "\n",
      "Media: 0.6959276372199101  Desviación: 0.006139631114246674 \n",
      "\n",
      "------------------------------------------------------------ \n",
      "\n",
      "ESTRATEGIA: 0.7000000000000002 \n",
      "\n",
      "RF :\n",
      "\n",
      "Media: 0.7079721012713752  Desviación: 0.013528627956938283 \n",
      "\n",
      "DECS_TREE :\n",
      "\n",
      "Media: 0.704636774320855  Desviación: 0.014470801177524579 \n",
      "\n",
      "GRAD_BOOST_CLASS :\n",
      "\n",
      "Media: 0.6973967577529999  Desviación: 0.006411903360693819 \n",
      "\n",
      "------------------------------------------------------------ \n",
      "\n",
      "ESTRATEGIA: 0.8000000000000003 \n",
      "\n",
      "RF :\n",
      "\n",
      "Media: 0.7106776874214077  Desviación: 0.012103245437845413 \n",
      "\n",
      "DECS_TREE :\n",
      "\n",
      "Media: 0.7077743021399061  Desviación: 0.012988892803722153 \n",
      "\n",
      "GRAD_BOOST_CLASS :\n",
      "\n",
      "Media: 0.6979735250846006  Desviación: 0.0048456054928069136 \n",
      "\n",
      "------------------------------------------------------------ \n",
      "\n",
      "ESTRATEGIA: 0.9000000000000001 \n",
      "\n",
      "RF :\n",
      "\n",
      "Media: 0.7126807721420916  Desviación: 0.01058269264396595 \n",
      "\n",
      "DECS_TREE :\n",
      "\n",
      "Media: 0.7099892167322762  Desviación: 0.01143688162901321 \n",
      "\n",
      "GRAD_BOOST_CLASS :\n",
      "\n",
      "Media: 0.698892604391683  Desviación: 0.0052187365167406 \n",
      "\n",
      "------------------------------------------------------------ \n",
      "\n"
     ]
    }
   ],
   "source": [
    "num_trees = 300\n",
    "\n",
    "for ratio in sampling_strategy:\n",
    "    \n",
    "    smote = SMOTE(sampling_strategy=ratio, random_state=42, n_jobs=-1)\n",
    "    X_train_rsmpl, y_train_rsmpl = smote.fit_sample(X_train, y_train)\n",
    "    \n",
    "    print('ESTRATEGIA:',ratio,'\\n')\n",
    "    \n",
    "    for nombre, modelo in modelos:\n",
    "                \n",
    "        model = modelo\n",
    "        \n",
    "        resultados = cross_val_score(model, X_train_rsmpl, y_train_rsmpl, cv=skf, scoring=scoring)\n",
    "        \n",
    "        print(nombre,':\\n')\n",
    "        print('Media:',resultados.mean(),' Desviación:',resultados.std(),'\\n')\n",
    "        \n",
    "    print('----------'*6,'\\n')\n",
    "\n",
    "\n",
    "    "
   ]
  },
  {
   "cell_type": "code",
   "execution_count": null,
   "metadata": {},
   "outputs": [],
   "source": []
  },
  {
   "cell_type": "code",
   "execution_count": null,
   "metadata": {},
   "outputs": [],
   "source": []
  },
  {
   "cell_type": "markdown",
   "metadata": {},
   "source": [
    "# TUNNING DEL MODELO, HIPERPARÁMETROS"
   ]
  },
  {
   "cell_type": "markdown",
   "metadata": {},
   "source": [
    "## Partimos del mejor caso, SMOTE con sampling_strategy=minority y 18 atributos"
   ]
  },
  {
   "cell_type": "code",
   "execution_count": 31,
   "metadata": {},
   "outputs": [
    {
     "data": {
      "text/plain": [
       "((97788, 18), (97788,))"
      ]
     },
     "execution_count": 31,
     "metadata": {},
     "output_type": "execute_result"
    }
   ],
   "source": [
    "smote = SMOTE(sampling_strategy='minority', random_state=42, n_jobs=-1)\n",
    "\n",
    "X_train_rsmpl, y_train_rsmpl = smote.fit_sample(X_train, y_train)\n",
    "\n",
    "X_train_rsmpl.shape, y_train_rsmpl.shape"
   ]
  },
  {
   "cell_type": "code",
   "execution_count": null,
   "metadata": {},
   "outputs": [],
   "source": []
  },
  {
   "cell_type": "markdown",
   "metadata": {},
   "source": [
    "## Prueba por fases de hiperparámetros"
   ]
  },
  {
   "cell_type": "markdown",
   "metadata": {},
   "source": [
    "## n_estimators and Learning rate"
   ]
  },
  {
   "cell_type": "code",
   "execution_count": 33,
   "metadata": {},
   "outputs": [
    {
     "name": "stderr",
     "output_type": "stream",
     "text": [
      "C:\\Users\\edurp\\Anaconda3\\lib\\site-packages\\sklearn\\model_selection\\_search.py:825: FutureWarning: The parameter 'iid' is deprecated in 0.22 and will be removed in 0.24.\n",
      "  \"removed in 0.24.\", FutureWarning\n"
     ]
    },
    {
     "name": "stdout",
     "output_type": "stream",
     "text": [
      "Parametros: {'learning_rate': 0.1, 'n_estimators': 800}\n",
      "AUC: 0.7048861728042566\n"
     ]
    }
   ],
   "source": [
    "from sklearn.model_selection import GridSearchCV\n",
    "\n",
    "p_test1 = {'learning_rate':[0.1,0.08,0.06,0.04,0.02,0.01], 'n_estimators':[40,60,80,100,300,500,800]}\n",
    "\n",
    "tuning = GridSearchCV(estimator=GradientBoostingClassifier(max_depth=4,max_features='sqrt',random_state=42), \\\n",
    "                      param_grid = p_test1, scoring='roc_auc',n_jobs=-1,iid=False, cv=5)\n",
    "\n",
    "tuning.fit(X_train_rsmpl,y_train_rsmpl)\n",
    "\n",
    "print('Parametros:',tuning.best_params_)\n",
    "print('AUC:',tuning.best_score_)\n",
    "\n",
    "\n",
    "\n",
    "\n"
   ]
  },
  {
   "cell_type": "code",
   "execution_count": null,
   "metadata": {},
   "outputs": [],
   "source": []
  },
  {
   "cell_type": "markdown",
   "metadata": {},
   "source": [
    "## max_depth"
   ]
  },
  {
   "cell_type": "code",
   "execution_count": 36,
   "metadata": {},
   "outputs": [
    {
     "name": "stderr",
     "output_type": "stream",
     "text": [
      "C:\\Users\\edurp\\Anaconda3\\lib\\site-packages\\sklearn\\model_selection\\_search.py:825: FutureWarning: The parameter 'iid' is deprecated in 0.22 and will be removed in 0.24.\n",
      "  \"removed in 0.24.\", FutureWarning\n"
     ]
    },
    {
     "name": "stdout",
     "output_type": "stream",
     "text": [
      "Parametros: {'max_depth': 7}\n",
      "AUC: 0.7115717462706617\n"
     ]
    }
   ],
   "source": [
    "p_test2 = {'max_depth':[2,3,4,5,6,7]}\n",
    "\n",
    "tuning = GridSearchCV(estimator=GradientBoostingClassifier(learning_rate=0.1,n_estimators=800,max_depth=4,max_features='sqrt', \\\n",
    "                                                           random_state=42), \\\n",
    "                      param_grid = p_test2, scoring='roc_auc',n_jobs=-1,iid=False, cv=5)\n",
    "\n",
    "tuning.fit(X_train_rsmpl,y_train_rsmpl)\n",
    "\n",
    "print('Parametros:',tuning.best_params_)\n",
    "print('AUC:',tuning.best_score_)\n",
    "\n"
   ]
  },
  {
   "cell_type": "markdown",
   "metadata": {},
   "source": [
    "#### el óptimo es el valor máximo del rango que le suministramos, probamos con valores mayores"
   ]
  },
  {
   "cell_type": "code",
   "execution_count": 37,
   "metadata": {},
   "outputs": [
    {
     "name": "stderr",
     "output_type": "stream",
     "text": [
      "C:\\Users\\edurp\\Anaconda3\\lib\\site-packages\\sklearn\\model_selection\\_search.py:825: FutureWarning: The parameter 'iid' is deprecated in 0.22 and will be removed in 0.24.\n",
      "  \"removed in 0.24.\", FutureWarning\n"
     ]
    },
    {
     "name": "stdout",
     "output_type": "stream",
     "text": [
      "Parametros: {'max_depth': 10}\n",
      "AUC: 0.7128159578542752\n"
     ]
    }
   ],
   "source": [
    "p_test2_b = {'max_depth':[7,8,9,10]}\n",
    "\n",
    "tuning = GridSearchCV(estimator=GradientBoostingClassifier(learning_rate=0.1,n_estimators=800,max_depth=4,max_features='sqrt', \\\n",
    "                                                           random_state=42), \\\n",
    "                      param_grid = p_test2_b, scoring='roc_auc',n_jobs=-1,iid=False, cv=5)\n",
    "\n",
    "tuning.fit(X_train_rsmpl,y_train_rsmpl)\n",
    "\n",
    "print('Parametros:',tuning.best_params_)\n",
    "print('AUC:',tuning.best_score_)"
   ]
  },
  {
   "cell_type": "markdown",
   "metadata": {},
   "source": [
    "La mejora no justifica el aumento de complejidad del modelo, nos quedamos con 7"
   ]
  },
  {
   "cell_type": "code",
   "execution_count": null,
   "metadata": {},
   "outputs": [],
   "source": []
  },
  {
   "cell_type": "markdown",
   "metadata": {},
   "source": [
    "## Min samples leaf y max_features"
   ]
  },
  {
   "cell_type": "code",
   "execution_count": 42,
   "metadata": {},
   "outputs": [
    {
     "name": "stderr",
     "output_type": "stream",
     "text": [
      "C:\\Users\\edurp\\Anaconda3\\lib\\site-packages\\sklearn\\model_selection\\_search.py:825: FutureWarning: The parameter 'iid' is deprecated in 0.22 and will be removed in 0.24.\n",
      "  \"removed in 0.24.\", FutureWarning\n"
     ]
    },
    {
     "name": "stdout",
     "output_type": "stream",
     "text": [
      "Parametros: {'max_features': 8, 'min_samples_leaf': 1}\n",
      "AUC: 0.7115794424877807\n"
     ]
    }
   ],
   "source": [
    "p_test3 = {'min_samples_leaf':[1,3,5,7,9],'max_features':[2,3,5,8]}\n",
    "\n",
    "tuning = GridSearchCV(estimator=GradientBoostingClassifier(learning_rate=0.1,n_estimators=800,max_depth=7,random_state=42), \\\n",
    "                      param_grid = p_test3, scoring='roc_auc',n_jobs=-1,iid=False, cv=5)\n",
    "\n",
    "tuning.fit(X_train_rsmpl,y_train_rsmpl)\n",
    "\n",
    "print('Parametros:',tuning.best_params_)\n",
    "print('AUC:',tuning.best_score_)"
   ]
  },
  {
   "cell_type": "code",
   "execution_count": null,
   "metadata": {},
   "outputs": [],
   "source": []
  },
  {
   "cell_type": "markdown",
   "metadata": {},
   "source": [
    "## ENTRENAR Y GUARDAR EL MODELO TUNEADO (VALORES HIPERPARÁMETROS CONSEGUIDOS FASE ANTERIOR)"
   ]
  },
  {
   "cell_type": "code",
   "execution_count": 45,
   "metadata": {},
   "outputs": [],
   "source": [
    "modelo_final = GradientBoostingClassifier(learning_rate=0.1,n_estimators=800,max_depth=7, \\\n",
    "                                          min_samples_leaf=1,max_features=None,random_state=42)"
   ]
  },
  {
   "cell_type": "code",
   "execution_count": 48,
   "metadata": {},
   "outputs": [
    {
     "data": {
      "text/plain": [
       "GradientBoostingClassifier(ccp_alpha=0.0, criterion='friedman_mse', init=None,\n",
       "                           learning_rate=0.1, loss='deviance', max_depth=7,\n",
       "                           max_features=None, max_leaf_nodes=None,\n",
       "                           min_impurity_decrease=0.0, min_impurity_split=None,\n",
       "                           min_samples_leaf=1, min_samples_split=2,\n",
       "                           min_weight_fraction_leaf=0.0, n_estimators=800,\n",
       "                           n_iter_no_change=None, presort='deprecated',\n",
       "                           random_state=42, subsample=1.0, tol=0.0001,\n",
       "                           validation_fraction=0.1, verbose=0,\n",
       "                           warm_start=False)"
      ]
     },
     "execution_count": 48,
     "metadata": {},
     "output_type": "execute_result"
    }
   ],
   "source": [
    "modelo_final.fit(X_train_rsmpl,y_train_rsmpl)"
   ]
  },
  {
   "cell_type": "code",
   "execution_count": null,
   "metadata": {},
   "outputs": [],
   "source": []
  },
  {
   "cell_type": "markdown",
   "metadata": {},
   "source": [
    "### GUARDAR MODELO FINAL"
   ]
  },
  {
   "cell_type": "code",
   "execution_count": null,
   "metadata": {},
   "outputs": [],
   "source": [
    "from sklearn.externals.joblib import dump, load\n",
    "\n",
    "#from sklearn.externals.joblib import load\n",
    "\n",
    "# Guardamos el modelo al disco\n",
    "\n",
    "fichero_modelo_final = './modelo_final_PROYECTO_joblib.sav'\n",
    "dump(modelo_final, fichero_modelo_final)\n",
    "\n",
    "# Comprobamos cargandolo de nuevo\n",
    "\n",
    "modelo_cargado = load(fichero_modelo_final)"
   ]
  },
  {
   "cell_type": "code",
   "execution_count": 58,
   "metadata": {},
   "outputs": [
    {
     "data": {
      "text/plain": [
       "0.6242417261767642"
      ]
     },
     "execution_count": 58,
     "metadata": {},
     "output_type": "execute_result"
    }
   ],
   "source": [
    "modelo_cargado.score(X_test,y_test)"
   ]
  },
  {
   "cell_type": "markdown",
   "metadata": {},
   "source": [
    "Como era de esperar el valor de score que devuelve scikit que es el de 'accuracy' es bajo. Nos quedamos con el AUC de 0.71 de la fase de refinamiento como métrica."
   ]
  },
  {
   "cell_type": "markdown",
   "metadata": {},
   "source": [
    "## CONCLUSIONES."
   ]
  },
  {
   "cell_type": "markdown",
   "metadata": {},
   "source": [
    "Hay que tener en cuenta el contexto maracado por los datos de origen, con target desbalanceado. Con estas circunstancias no hemos podido llegar a un buen modelo predictivo, pero si a un AUC por encima del 0.7 mínimo tolerable (FUENTE nombrada anteriormente del Departamento de Ciencias de la Computación e Inteligencia Artificial de la Universidad de Sevilla), del que podemos sacar conclusiones a partir del 'feature_impotance' que devuelve."
   ]
  },
  {
   "cell_type": "code",
   "execution_count": 56,
   "metadata": {},
   "outputs": [
    {
     "data": {
      "text/plain": [
       "num_vehic_implic                         34.278205\n",
       "TIPO_ACCIDENTE_CAIDA MOTOR_2_3_RUEDAS    11.826766\n",
       "TIPO_ACCIDENTE_COLISION MULTIPLE         11.292249\n",
       "RANGO_HORARIO_DE 00:00 A 7:00             4.849386\n",
       "TIPO_ACCIDENTE_CAIDA BICICLETA            4.282371\n",
       "conductor_18_34                           3.672093\n",
       "TIPO_ACCIDENTE_ATROPELLO                  3.317491\n",
       "DIA_SEMANA_LABORABLE                      3.184933\n",
       "conductor_35_49                           3.120150\n",
       "RANGO_HORARIO_DE 7:00 A 12:00             3.037490\n",
       "MAL_ESTADO_SUELO                          2.848673\n",
       "TIPO_ACCIDENTE_CHOQUE CON OBJETO FIJO     2.695501\n",
       "conductor_50_mas                          2.509605\n",
       "RANGO_HORARIO_DE 12:00 A 17:00            2.342787\n",
       "MAL_TIEMPO                                2.178714\n",
       "RANGO_HORARIO_DE 17:00 A 21:00            2.122440\n",
       "DIA_SEMANA_FIN DE SEMANA                  1.319028\n",
       "TIPO_ACCIDENTE_COLISION DOBLE             1.122118\n",
       "dtype: float64"
      ]
     },
     "execution_count": 56,
     "metadata": {},
     "output_type": "execute_result"
    }
   ],
   "source": [
    "ranking_atributos = pd.Series(modelo_cargado.feature_importances_*100,index=X.columns)\n",
    "\n",
    "ranking_atributos.sort_values(ascending=False)"
   ]
  },
  {
   "cell_type": "markdown",
   "metadata": {},
   "source": [
    "Importancia de las variables a la hora de decidir LEVE o MEDIA/GRAVE para el target NUMERO DE VICTIMAS DISCRETIZADO (mas detalle en la memoria del proyecto)"
   ]
  },
  {
   "cell_type": "code",
   "execution_count": null,
   "metadata": {},
   "outputs": [],
   "source": []
  }
 ],
 "metadata": {
  "kernelspec": {
   "display_name": "Python 3",
   "language": "python",
   "name": "python3"
  },
  "language_info": {
   "codemirror_mode": {
    "name": "ipython",
    "version": 3
   },
   "file_extension": ".py",
   "mimetype": "text/x-python",
   "name": "python",
   "nbconvert_exporter": "python",
   "pygments_lexer": "ipython3",
   "version": "3.7.3"
  }
 },
 "nbformat": 4,
 "nbformat_minor": 2
}
