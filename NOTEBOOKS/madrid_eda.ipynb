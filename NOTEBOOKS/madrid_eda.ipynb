{
 "cells": [
  {
   "cell_type": "markdown",
   "metadata": {},
   "source": [
    "# ANALISIS EXPLORATORIO PREVIO (EDA)"
   ]
  },
  {
   "cell_type": "code",
   "execution_count": 2,
   "metadata": {},
   "outputs": [],
   "source": [
    "import numpy as np\n",
    "import pandas as pd\n",
    "import matplotlib.pyplot as plt\n",
    "import seaborn as sns\n",
    "\n",
    "%matplotlib inline"
   ]
  },
  {
   "cell_type": "code",
   "execution_count": 3,
   "metadata": {},
   "outputs": [],
   "source": [
    "dfm_accidentes = pd.read_csv('madrid_accidentes_final.csv',encoding='latin1')"
   ]
  },
  {
   "cell_type": "code",
   "execution_count": 4,
   "metadata": {},
   "outputs": [
    {
     "name": "stdout",
     "output_type": "stream",
     "text": [
      "<class 'pandas.core.frame.DataFrame'>\n",
      "RangeIndex: 86817 entries, 0 to 86816\n",
      "Data columns (total 32 columns):\n",
      "FECHA                  86817 non-null object\n",
      "RANGO_HORARIO          86817 non-null object\n",
      "DIA_SEMANA             86817 non-null object\n",
      "DISTRITO               86817 non-null object\n",
      "LUGAR_ACCIDENTE        86817 non-null object\n",
      "NUM_CALLE              85528 non-null float64\n",
      "NUM_PARTE              86817 non-null object\n",
      "Granizo                86817 non-null int64\n",
      "Hielo                  86817 non-null int64\n",
      "Lluvia                 86817 non-null int64\n",
      "Niebla                 86817 non-null int64\n",
      "Seco                   86817 non-null int64\n",
      "Nieve                  86817 non-null int64\n",
      "supf_Mojada            86817 non-null int64\n",
      "supf_Aceite            86817 non-null int64\n",
      "supf_Barro             86817 non-null int64\n",
      "supf_Grava_Suelta      86817 non-null int64\n",
      "supf_Hielo             86817 non-null int64\n",
      "supf_Seca_Limpia       86817 non-null int64\n",
      "NUM_VICTIMAS           86817 non-null int64\n",
      "TIPO_ACCIDENTE         86817 non-null object\n",
      "vehiculos_implic       86817 non-null object\n",
      "tipo_persona_implic    86817 non-null object\n",
      "n_hombres              86817 non-null int64\n",
      "n_mujeres              86817 non-null int64\n",
      "n_sex_na               86817 non-null int64\n",
      "n_ilesos               86817 non-null int64\n",
      "n_hgraves              86817 non-null int64\n",
      "n_hleves               86817 non-null int64\n",
      "n_muertos              86817 non-null int64\n",
      "n_lesiv_na             86817 non-null int64\n",
      "tr_edad_implic         86817 non-null object\n",
      "dtypes: float64(1), int64(21), object(10)\n",
      "memory usage: 21.2+ MB\n"
     ]
    }
   ],
   "source": [
    "dfm_accidentes.info()"
   ]
  },
  {
   "cell_type": "code",
   "execution_count": 5,
   "metadata": {},
   "outputs": [
    {
     "data": {
      "text/html": [
       "<div>\n",
       "<style scoped>\n",
       "    .dataframe tbody tr th:only-of-type {\n",
       "        vertical-align: middle;\n",
       "    }\n",
       "\n",
       "    .dataframe tbody tr th {\n",
       "        vertical-align: top;\n",
       "    }\n",
       "\n",
       "    .dataframe thead th {\n",
       "        text-align: right;\n",
       "    }\n",
       "</style>\n",
       "<table border=\"1\" class=\"dataframe\">\n",
       "  <thead>\n",
       "    <tr style=\"text-align: right;\">\n",
       "      <th></th>\n",
       "      <th>FECHA</th>\n",
       "      <th>RANGO_HORARIO</th>\n",
       "      <th>DIA_SEMANA</th>\n",
       "      <th>DISTRITO</th>\n",
       "      <th>LUGAR_ACCIDENTE</th>\n",
       "      <th>NUM_CALLE</th>\n",
       "      <th>NUM_PARTE</th>\n",
       "      <th>Granizo</th>\n",
       "      <th>Hielo</th>\n",
       "      <th>Lluvia</th>\n",
       "      <th>...</th>\n",
       "      <th>tipo_persona_implic</th>\n",
       "      <th>n_hombres</th>\n",
       "      <th>n_mujeres</th>\n",
       "      <th>n_sex_na</th>\n",
       "      <th>n_ilesos</th>\n",
       "      <th>n_hgraves</th>\n",
       "      <th>n_hleves</th>\n",
       "      <th>n_muertos</th>\n",
       "      <th>n_lesiv_na</th>\n",
       "      <th>tr_edad_implic</th>\n",
       "    </tr>\n",
       "  </thead>\n",
       "  <tbody>\n",
       "    <tr>\n",
       "      <th>0</th>\n",
       "      <td>2010-01-01</td>\n",
       "      <td>DE 00:00 A 00:59</td>\n",
       "      <td>VIERNES</td>\n",
       "      <td>CHAMARTIN</td>\n",
       "      <td>CALLE DE CARTAGENA NUM</td>\n",
       "      <td>104.0</td>\n",
       "      <td>2010/135</td>\n",
       "      <td>0</td>\n",
       "      <td>0</td>\n",
       "      <td>1</td>\n",
       "      <td>...</td>\n",
       "      <td>CONDUCTOR_CONDUCTOR_VIAJERO</td>\n",
       "      <td>2</td>\n",
       "      <td>1</td>\n",
       "      <td>0</td>\n",
       "      <td>2</td>\n",
       "      <td>0</td>\n",
       "      <td>1</td>\n",
       "      <td>0</td>\n",
       "      <td>0</td>\n",
       "      <td>DE 18 A 20 AÑOS_DE 50 A 54 AÑOS_DE 40 A 44 AÑOS</td>\n",
       "    </tr>\n",
       "    <tr>\n",
       "      <th>1</th>\n",
       "      <td>2010-01-01</td>\n",
       "      <td>DE 1:00 A 1:59</td>\n",
       "      <td>VIERNES</td>\n",
       "      <td>PUENTE DE VALLECAS</td>\n",
       "      <td>AUTOVIA  M-30 CALZADA 2 KM.</td>\n",
       "      <td>10200.0</td>\n",
       "      <td>2010/94</td>\n",
       "      <td>0</td>\n",
       "      <td>0</td>\n",
       "      <td>0</td>\n",
       "      <td>...</td>\n",
       "      <td>VIAJERO_VIAJERO_VIAJERO_VIAJERO_CONDUCTOR_COND...</td>\n",
       "      <td>2</td>\n",
       "      <td>6</td>\n",
       "      <td>0</td>\n",
       "      <td>1</td>\n",
       "      <td>0</td>\n",
       "      <td>7</td>\n",
       "      <td>0</td>\n",
       "      <td>0</td>\n",
       "      <td>DE 25 A 29 AÑOS_DE 30 A 34 ANOS_DE 25 A 29 AÑO...</td>\n",
       "    </tr>\n",
       "    <tr>\n",
       "      <th>2</th>\n",
       "      <td>2010-01-01</td>\n",
       "      <td>DE 2:00 A 2:59</td>\n",
       "      <td>VIERNES</td>\n",
       "      <td>CHAMBERI</td>\n",
       "      <td>GLORIETA DE EMILIO CASTELAR - PASEO DE LA CAST...</td>\n",
       "      <td>0.0</td>\n",
       "      <td>2010/7</td>\n",
       "      <td>0</td>\n",
       "      <td>0</td>\n",
       "      <td>0</td>\n",
       "      <td>...</td>\n",
       "      <td>CONDUCTOR_CONDUCTOR</td>\n",
       "      <td>2</td>\n",
       "      <td>0</td>\n",
       "      <td>0</td>\n",
       "      <td>1</td>\n",
       "      <td>0</td>\n",
       "      <td>1</td>\n",
       "      <td>0</td>\n",
       "      <td>0</td>\n",
       "      <td>DE 35 A 39 AÑOS_DE 35 A 39 AÑOS</td>\n",
       "    </tr>\n",
       "    <tr>\n",
       "      <th>3</th>\n",
       "      <td>2010-01-01</td>\n",
       "      <td>DE 4:00 A 4:59</td>\n",
       "      <td>VIERNES</td>\n",
       "      <td>RETIRO</td>\n",
       "      <td>AUTOVIA  M-30 CALZADA 1 KM.</td>\n",
       "      <td>8500.0</td>\n",
       "      <td>2010/4</td>\n",
       "      <td>0</td>\n",
       "      <td>0</td>\n",
       "      <td>0</td>\n",
       "      <td>...</td>\n",
       "      <td>TESTIGO_TESTIGO_CONDUCTOR_VIAJERO_VIAJERO_VIAJ...</td>\n",
       "      <td>7</td>\n",
       "      <td>4</td>\n",
       "      <td>0</td>\n",
       "      <td>4</td>\n",
       "      <td>1</td>\n",
       "      <td>6</td>\n",
       "      <td>0</td>\n",
       "      <td>0</td>\n",
       "      <td>DE 25 A 29 AÑOS_DE 30 A 34 ANOS_DE 25 A 29 AÑO...</td>\n",
       "    </tr>\n",
       "    <tr>\n",
       "      <th>4</th>\n",
       "      <td>2010-01-01</td>\n",
       "      <td>DE 5:00 A 5:59</td>\n",
       "      <td>VIERNES</td>\n",
       "      <td>SALAMANCA</td>\n",
       "      <td>CALLE DE O'DONNELL - CALLE DEL DOCTOR ESQUERDO</td>\n",
       "      <td>0.0</td>\n",
       "      <td>2010/172</td>\n",
       "      <td>0</td>\n",
       "      <td>0</td>\n",
       "      <td>0</td>\n",
       "      <td>...</td>\n",
       "      <td>CONDUCTOR_CONDUCTOR_VIAJERO</td>\n",
       "      <td>2</td>\n",
       "      <td>1</td>\n",
       "      <td>0</td>\n",
       "      <td>2</td>\n",
       "      <td>0</td>\n",
       "      <td>1</td>\n",
       "      <td>0</td>\n",
       "      <td>0</td>\n",
       "      <td>DE 60 A 64 AÑOS_DE 25 A 29 AÑOS_DE 25 A 29 AÑOS</td>\n",
       "    </tr>\n",
       "    <tr>\n",
       "      <th>5</th>\n",
       "      <td>2010-01-01</td>\n",
       "      <td>DE 8:00 A 8:59</td>\n",
       "      <td>VIERNES</td>\n",
       "      <td>CARABANCHEL</td>\n",
       "      <td>PASEO DE SANTA MARIA DE LA CABEZA NUM</td>\n",
       "      <td>100.0</td>\n",
       "      <td>2010/6</td>\n",
       "      <td>0</td>\n",
       "      <td>0</td>\n",
       "      <td>0</td>\n",
       "      <td>...</td>\n",
       "      <td>CONDUCTOR_VIAJERO</td>\n",
       "      <td>2</td>\n",
       "      <td>0</td>\n",
       "      <td>0</td>\n",
       "      <td>0</td>\n",
       "      <td>0</td>\n",
       "      <td>2</td>\n",
       "      <td>0</td>\n",
       "      <td>0</td>\n",
       "      <td>DE 35 A 39 AÑOS_DE 45 A 49 AÑOS</td>\n",
       "    </tr>\n",
       "    <tr>\n",
       "      <th>6</th>\n",
       "      <td>2010-01-01</td>\n",
       "      <td>DE 9:00 A 9:59</td>\n",
       "      <td>VIERNES</td>\n",
       "      <td>CIUDAD LINEAL</td>\n",
       "      <td>AUTOVIA  M-30 CALZADA 2 KM.</td>\n",
       "      <td>0.0</td>\n",
       "      <td>2010/193</td>\n",
       "      <td>0</td>\n",
       "      <td>0</td>\n",
       "      <td>1</td>\n",
       "      <td>...</td>\n",
       "      <td>CONDUCTOR</td>\n",
       "      <td>1</td>\n",
       "      <td>0</td>\n",
       "      <td>0</td>\n",
       "      <td>0</td>\n",
       "      <td>0</td>\n",
       "      <td>1</td>\n",
       "      <td>0</td>\n",
       "      <td>0</td>\n",
       "      <td>DE 30 A 34 ANOS</td>\n",
       "    </tr>\n",
       "    <tr>\n",
       "      <th>7</th>\n",
       "      <td>2010-01-01</td>\n",
       "      <td>DE 9:00 A 9:59</td>\n",
       "      <td>VIERNES</td>\n",
       "      <td>MONCLOA-ARAVACA</td>\n",
       "      <td>AUTOVIA  M-30 CALZADA 1 KM.</td>\n",
       "      <td>20300.0</td>\n",
       "      <td>2010/195</td>\n",
       "      <td>0</td>\n",
       "      <td>0</td>\n",
       "      <td>1</td>\n",
       "      <td>...</td>\n",
       "      <td>CONDUCTOR</td>\n",
       "      <td>1</td>\n",
       "      <td>0</td>\n",
       "      <td>0</td>\n",
       "      <td>0</td>\n",
       "      <td>0</td>\n",
       "      <td>1</td>\n",
       "      <td>0</td>\n",
       "      <td>0</td>\n",
       "      <td>DE 25 A 29 AÑOS</td>\n",
       "    </tr>\n",
       "    <tr>\n",
       "      <th>8</th>\n",
       "      <td>2010-01-01</td>\n",
       "      <td>DE 9:00 A 9:59</td>\n",
       "      <td>VIERNES</td>\n",
       "      <td>SALAMANCA</td>\n",
       "      <td>AUTOVIA  M-30 CALZADA 1 KM.</td>\n",
       "      <td>5000.0</td>\n",
       "      <td>2010/203</td>\n",
       "      <td>0</td>\n",
       "      <td>0</td>\n",
       "      <td>1</td>\n",
       "      <td>...</td>\n",
       "      <td>TESTIGO_TESTIGO_TESTIGO_CONDUCTOR</td>\n",
       "      <td>3</td>\n",
       "      <td>1</td>\n",
       "      <td>0</td>\n",
       "      <td>3</td>\n",
       "      <td>1</td>\n",
       "      <td>0</td>\n",
       "      <td>0</td>\n",
       "      <td>0</td>\n",
       "      <td>DE 21 A 24 AÑOS_DE 21 A 24 AÑOS_DE 21 A 24 AÑO...</td>\n",
       "    </tr>\n",
       "    <tr>\n",
       "      <th>9</th>\n",
       "      <td>2010-01-01</td>\n",
       "      <td>DE 20:00 A 20:59</td>\n",
       "      <td>VIERNES</td>\n",
       "      <td>TETUAN</td>\n",
       "      <td>CALLE DEL ARROYO - CALLE DE PINOS BAJA</td>\n",
       "      <td>0.0</td>\n",
       "      <td>2010/21</td>\n",
       "      <td>0</td>\n",
       "      <td>0</td>\n",
       "      <td>0</td>\n",
       "      <td>...</td>\n",
       "      <td>TESTIGO_CONDUCTOR_CONDUCTOR_VIAJERO_VIAJERO</td>\n",
       "      <td>4</td>\n",
       "      <td>1</td>\n",
       "      <td>0</td>\n",
       "      <td>4</td>\n",
       "      <td>0</td>\n",
       "      <td>1</td>\n",
       "      <td>0</td>\n",
       "      <td>0</td>\n",
       "      <td>DE 18 A 20 AÑOS_DE 35 A 39 AÑOS_DE 35 A 39 AÑO...</td>\n",
       "    </tr>\n",
       "  </tbody>\n",
       "</table>\n",
       "<p>10 rows × 32 columns</p>\n",
       "</div>"
      ],
      "text/plain": [
       "        FECHA     RANGO_HORARIO DIA_SEMANA            DISTRITO  \\\n",
       "0  2010-01-01  DE 00:00 A 00:59    VIERNES           CHAMARTIN   \n",
       "1  2010-01-01    DE 1:00 A 1:59    VIERNES  PUENTE DE VALLECAS   \n",
       "2  2010-01-01    DE 2:00 A 2:59    VIERNES            CHAMBERI   \n",
       "3  2010-01-01    DE 4:00 A 4:59    VIERNES              RETIRO   \n",
       "4  2010-01-01    DE 5:00 A 5:59    VIERNES           SALAMANCA   \n",
       "5  2010-01-01    DE 8:00 A 8:59    VIERNES         CARABANCHEL   \n",
       "6  2010-01-01    DE 9:00 A 9:59    VIERNES       CIUDAD LINEAL   \n",
       "7  2010-01-01    DE 9:00 A 9:59    VIERNES     MONCLOA-ARAVACA   \n",
       "8  2010-01-01    DE 9:00 A 9:59    VIERNES           SALAMANCA   \n",
       "9  2010-01-01  DE 20:00 A 20:59    VIERNES              TETUAN   \n",
       "\n",
       "                                     LUGAR_ACCIDENTE  NUM_CALLE NUM_PARTE  \\\n",
       "0                             CALLE DE CARTAGENA NUM      104.0  2010/135   \n",
       "1                        AUTOVIA  M-30 CALZADA 2 KM.    10200.0   2010/94   \n",
       "2  GLORIETA DE EMILIO CASTELAR - PASEO DE LA CAST...        0.0    2010/7   \n",
       "3                        AUTOVIA  M-30 CALZADA 1 KM.     8500.0    2010/4   \n",
       "4     CALLE DE O'DONNELL - CALLE DEL DOCTOR ESQUERDO        0.0  2010/172   \n",
       "5              PASEO DE SANTA MARIA DE LA CABEZA NUM      100.0    2010/6   \n",
       "6                        AUTOVIA  M-30 CALZADA 2 KM.        0.0  2010/193   \n",
       "7                        AUTOVIA  M-30 CALZADA 1 KM.    20300.0  2010/195   \n",
       "8                        AUTOVIA  M-30 CALZADA 1 KM.     5000.0  2010/203   \n",
       "9             CALLE DEL ARROYO - CALLE DE PINOS BAJA        0.0   2010/21   \n",
       "\n",
       "   Granizo  Hielo  Lluvia  ...  \\\n",
       "0        0      0       1  ...   \n",
       "1        0      0       0  ...   \n",
       "2        0      0       0  ...   \n",
       "3        0      0       0  ...   \n",
       "4        0      0       0  ...   \n",
       "5        0      0       0  ...   \n",
       "6        0      0       1  ...   \n",
       "7        0      0       1  ...   \n",
       "8        0      0       1  ...   \n",
       "9        0      0       0  ...   \n",
       "\n",
       "                                 tipo_persona_implic  n_hombres  n_mujeres  \\\n",
       "0                        CONDUCTOR_CONDUCTOR_VIAJERO          2          1   \n",
       "1  VIAJERO_VIAJERO_VIAJERO_VIAJERO_CONDUCTOR_COND...          2          6   \n",
       "2                                CONDUCTOR_CONDUCTOR          2          0   \n",
       "3  TESTIGO_TESTIGO_CONDUCTOR_VIAJERO_VIAJERO_VIAJ...          7          4   \n",
       "4                        CONDUCTOR_CONDUCTOR_VIAJERO          2          1   \n",
       "5                                  CONDUCTOR_VIAJERO          2          0   \n",
       "6                                          CONDUCTOR          1          0   \n",
       "7                                          CONDUCTOR          1          0   \n",
       "8                  TESTIGO_TESTIGO_TESTIGO_CONDUCTOR          3          1   \n",
       "9        TESTIGO_CONDUCTOR_CONDUCTOR_VIAJERO_VIAJERO          4          1   \n",
       "\n",
       "   n_sex_na  n_ilesos  n_hgraves  n_hleves  n_muertos  n_lesiv_na  \\\n",
       "0         0         2          0         1          0           0   \n",
       "1         0         1          0         7          0           0   \n",
       "2         0         1          0         1          0           0   \n",
       "3         0         4          1         6          0           0   \n",
       "4         0         2          0         1          0           0   \n",
       "5         0         0          0         2          0           0   \n",
       "6         0         0          0         1          0           0   \n",
       "7         0         0          0         1          0           0   \n",
       "8         0         3          1         0          0           0   \n",
       "9         0         4          0         1          0           0   \n",
       "\n",
       "                                      tr_edad_implic  \n",
       "0    DE 18 A 20 AÑOS_DE 50 A 54 AÑOS_DE 40 A 44 AÑOS  \n",
       "1  DE 25 A 29 AÑOS_DE 30 A 34 ANOS_DE 25 A 29 AÑO...  \n",
       "2                    DE 35 A 39 AÑOS_DE 35 A 39 AÑOS  \n",
       "3  DE 25 A 29 AÑOS_DE 30 A 34 ANOS_DE 25 A 29 AÑO...  \n",
       "4    DE 60 A 64 AÑOS_DE 25 A 29 AÑOS_DE 25 A 29 AÑOS  \n",
       "5                    DE 35 A 39 AÑOS_DE 45 A 49 AÑOS  \n",
       "6                                    DE 30 A 34 ANOS  \n",
       "7                                    DE 25 A 29 AÑOS  \n",
       "8  DE 21 A 24 AÑOS_DE 21 A 24 AÑOS_DE 21 A 24 AÑO...  \n",
       "9  DE 18 A 20 AÑOS_DE 35 A 39 AÑOS_DE 35 A 39 AÑO...  \n",
       "\n",
       "[10 rows x 32 columns]"
      ]
     },
     "execution_count": 5,
     "metadata": {},
     "output_type": "execute_result"
    }
   ],
   "source": [
    "dfm_accidentes.head(10)"
   ]
  },
  {
   "cell_type": "markdown",
   "metadata": {},
   "source": [
    "## VALORES PERDIDOS."
   ]
  },
  {
   "cell_type": "code",
   "execution_count": 6,
   "metadata": {},
   "outputs": [
    {
     "data": {
      "text/html": [
       "<div>\n",
       "<style scoped>\n",
       "    .dataframe tbody tr th:only-of-type {\n",
       "        vertical-align: middle;\n",
       "    }\n",
       "\n",
       "    .dataframe tbody tr th {\n",
       "        vertical-align: top;\n",
       "    }\n",
       "\n",
       "    .dataframe thead th {\n",
       "        text-align: right;\n",
       "    }\n",
       "</style>\n",
       "<table border=\"1\" class=\"dataframe\">\n",
       "  <thead>\n",
       "    <tr style=\"text-align: right;\">\n",
       "      <th></th>\n",
       "      <th>Total</th>\n",
       "      <th>Percent</th>\n",
       "    </tr>\n",
       "  </thead>\n",
       "  <tbody>\n",
       "    <tr>\n",
       "      <th>NUM_CALLE</th>\n",
       "      <td>1289</td>\n",
       "      <td>0.014847</td>\n",
       "    </tr>\n",
       "  </tbody>\n",
       "</table>\n",
       "</div>"
      ],
      "text/plain": [
       "           Total   Percent\n",
       "NUM_CALLE   1289  0.014847"
      ]
     },
     "execution_count": 6,
     "metadata": {},
     "output_type": "execute_result"
    }
   ],
   "source": [
    "total = dfm_accidentes.isnull().sum().sort_values(ascending=False)\n",
    "percent = (dfm_accidentes.isnull().sum()/dfm_accidentes.isnull().count()).sort_values(ascending=False)\n",
    "\n",
    "missing_data = pd.concat([total, percent], axis=1, keys=['Total', 'Percent'])\n",
    "missing_data[missing_data['Total'] > 0]"
   ]
  },
  {
   "cell_type": "code",
   "execution_count": 7,
   "metadata": {},
   "outputs": [
    {
     "data": {
      "text/plain": [
       "Index(['FECHA', 'RANGO_HORARIO', 'DIA_SEMANA', 'DISTRITO', 'LUGAR_ACCIDENTE',\n",
       "       'NUM_CALLE', 'NUM_PARTE', 'Granizo', 'Hielo', 'Lluvia', 'Niebla',\n",
       "       'Seco', 'Nieve', 'supf_Mojada', 'supf_Aceite', 'supf_Barro',\n",
       "       'supf_Grava_Suelta', 'supf_Hielo', 'supf_Seca_Limpia', 'NUM_VICTIMAS',\n",
       "       'TIPO_ACCIDENTE', 'vehiculos_implic', 'tipo_persona_implic',\n",
       "       'n_hombres', 'n_mujeres', 'n_sex_na', 'n_ilesos', 'n_hgraves',\n",
       "       'n_hleves', 'n_muertos', 'n_lesiv_na', 'tr_edad_implic'],\n",
       "      dtype='object')"
      ]
     },
     "execution_count": 7,
     "metadata": {},
     "output_type": "execute_result"
    }
   ],
   "source": [
    "dfm_accidentes.columns"
   ]
  },
  {
   "cell_type": "code",
   "execution_count": 8,
   "metadata": {},
   "outputs": [
    {
     "name": "stdout",
     "output_type": "stream",
     "text": [
      "RANGO_HORARIO : 0\n",
      "DIA_SEMANA : 0\n",
      "DISTRITO : 0\n",
      "LUGAR_ACCIDENTE : 0\n",
      "NUM_PARTE : 0\n",
      "TIPO_ACCIDENTE : 0\n",
      "vehiculos_implic : 0\n",
      "tipo_persona_implic : 0\n",
      "tr_edad_implic : 0\n"
     ]
    }
   ],
   "source": [
    "var_texto = ['RANGO_HORARIO', 'DIA_SEMANA', 'DISTRITO', 'LUGAR_ACCIDENTE','NUM_PARTE','TIPO_ACCIDENTE', 'vehiculos_implic', \\\n",
    "             'tipo_persona_implic', 'tr_edad_implic']\n",
    "\n",
    "for col in var_texto:\n",
    "    print(col,':',sum(dfm_accidentes[col].str.len()==0))"
   ]
  },
  {
   "cell_type": "code",
   "execution_count": null,
   "metadata": {},
   "outputs": [],
   "source": []
  },
  {
   "cell_type": "code",
   "execution_count": 9,
   "metadata": {},
   "outputs": [],
   "source": [
    "def conteo(col,tabla=False):\n",
    "    print(col.name,'\\n')\n",
    "    print('Nº valores unicos:',len(col.unique()),'\\n')\n",
    "    print('Valores unicos:',col.unique()[:25],'\\n')\n",
    "    if tabla:\n",
    "        print(col.value_counts())\n",
    "    print('\\n')"
   ]
  },
  {
   "cell_type": "code",
   "execution_count": null,
   "metadata": {},
   "outputs": [],
   "source": []
  },
  {
   "cell_type": "markdown",
   "metadata": {},
   "source": [
    "## ¿CUANDO?"
   ]
  },
  {
   "cell_type": "code",
   "execution_count": 10,
   "metadata": {},
   "outputs": [
    {
     "name": "stdout",
     "output_type": "stream",
     "text": [
      "RANGO_HORARIO \n",
      "\n",
      "Nº valores unicos: 24 \n",
      "\n",
      "Valores unicos: ['DE 00:00 A 00:59' 'DE 1:00 A 1:59' 'DE 2:00 A 2:59' 'DE 4:00 A 4:59'\n",
      " 'DE 5:00 A 5:59' 'DE 8:00 A 8:59' 'DE 9:00 A 9:59' 'DE 20:00 A 20:59'\n",
      " 'DE 21:00 A 21:59' 'DE 6:00 A 6:59' 'DE 11:00 A 11:59' 'DE 12:00 A 12:59'\n",
      " 'DE 13:00 A 13:59' 'DE 14:00 A 14:59' 'DE 15:00 A 15:59'\n",
      " 'DE 18:00 A 18:59' 'DE 19:00 A 19:59' 'DE 22:00 A 22:59'\n",
      " 'DE 16:00 A 16:59' 'DE 17:00 A 17:59' 'DE 23:00 A 23:59' 'DE 7:00 A 7:59'\n",
      " 'DE 10:00 A 10:59' 'DE 3:00 A 3:59'] \n",
      "\n",
      "\n",
      "\n",
      "DIA_SEMANA \n",
      "\n",
      "Nº valores unicos: 7 \n",
      "\n",
      "Valores unicos: ['VIERNES' 'SABADO' 'DOMINGO' 'LUNES' 'MARTES' 'MIERCOLES' 'JUEVES'] \n",
      "\n",
      "\n",
      "\n"
     ]
    },
    {
     "data": {
      "text/plain": [
       "RANGO_HORARIO    None\n",
       "DIA_SEMANA       None\n",
       "dtype: object"
      ]
     },
     "execution_count": 10,
     "metadata": {},
     "output_type": "execute_result"
    }
   ],
   "source": [
    "dfm_accidentes[['RANGO_HORARIO','DIA_SEMANA']].apply(conteo)"
   ]
  },
  {
   "cell_type": "code",
   "execution_count": 11,
   "metadata": {},
   "outputs": [
    {
     "data": {
      "text/plain": [
       "<matplotlib.axes._subplots.AxesSubplot at 0x1e5a5982e48>"
      ]
     },
     "execution_count": 11,
     "metadata": {},
     "output_type": "execute_result"
    },
    {
     "data": {
      "image/png": "[encoded data removed]",
      "text/plain": [
       "<Figure size 1440x1008 with 2 Axes>"
      ]
     },
     "metadata": {},
     "output_type": "display_data"
    }
   ],
   "source": [
    "sns.set(style=\"darkgrid\")\n",
    "\n",
    "fig = plt.figure(figsize=(20,14))\n",
    "\n",
    "ax1 = fig.add_subplot(211)\n",
    "bar1 = sns.countplot(x=\"RANGO_HORARIO\", data=dfm_accidentes)\n",
    "bar1.set_xticklabels(bar1.get_xticklabels(), rotation=45)\n",
    "\n",
    "ax2 = fig.add_subplot(212)\n",
    "sns.countplot(x=\"DIA_SEMANA\", data=dfm_accidentes)"
   ]
  },
  {
   "cell_type": "markdown",
   "metadata": {},
   "source": [
    "## ¿DONDE?"
   ]
  },
  {
   "cell_type": "code",
   "execution_count": 12,
   "metadata": {},
   "outputs": [
    {
     "name": "stdout",
     "output_type": "stream",
     "text": [
      "DISTRITO \n",
      "\n",
      "Nº valores unicos: 21 \n",
      "\n",
      "Valores unicos: ['CHAMARTIN' 'PUENTE DE VALLECAS' 'CHAMBERI' 'RETIRO' 'SALAMANCA'\n",
      " 'CARABANCHEL' 'CIUDAD LINEAL' 'MONCLOA-ARAVACA' 'TETUAN'\n",
      " 'VILLA DE VALLECAS' 'MORATALAZ' 'ARGANZUELA' 'SAN BLAS' 'VILLAVERDE'\n",
      " 'HORTALEZA' 'FUENCARRAL-EL PARDO' 'VICALVARO' 'USERA' 'LATINA' 'BARAJAS'\n",
      " 'CENTRO'] \n",
      "\n",
      "\n",
      "\n",
      "LUGAR_ACCIDENTE \n",
      "\n",
      "Nº valores unicos: 16320 \n",
      "\n",
      "Valores unicos: ['CALLE DE CARTAGENA NUM' 'AUTOVIA  M-30 CALZADA 2 KM.'\n",
      " 'GLORIETA DE EMILIO CASTELAR - PASEO DE LA CASTELLANA'\n",
      " 'AUTOVIA  M-30 CALZADA 1 KM.'\n",
      " \"CALLE DE O'DONNELL - CALLE DEL DOCTOR ESQUERDO\"\n",
      " 'PASEO DE SANTA MARIA DE LA CABEZA NUM'\n",
      " 'CALLE DEL ARROYO - CALLE DE PINOS BAJA'\n",
      " 'CALLE DE ARGENTINA - CALLE DE SAMBARA'\n",
      " 'PLAZA DE CASTILLA - AVENIDA DE ASTURIAS'\n",
      " 'CAMINO DEL SANTISIMO - CALLE DEL ALTO DEL RETIRO'\n",
      " 'CALLE DE HILARION ESLAVA NUM' 'AUTOVIA  M-23 SALIDA KM.'\n",
      " 'CALLE DE VALDEBERNARDO - CALLE DE LA HACIENDA DE PAVONES'\n",
      " 'AVENIDA DE LA PAZ - CALLE DE ANTONIA CALAS'\n",
      " 'CALLE DE ROBERTO DOMINGO NUM' 'CALLE DE LA CAÑADA NUM'\n",
      " 'PLAZA DE LA INDEPENDENCIA - CALLE DE ALCALA'\n",
      " 'PASEO DE LAS DELICIAS - CALLE DE TORTOSA' 'CALLE DE ARTURO SORIA NUM'\n",
      " 'CALLE DE LOS HERMANOS GARCIA NOBLEJAS - CALLE DE POBLADURA DEL VALLE'\n",
      " 'AVENIDA DE ANDALUCIA - AUTOVIA  M-40' 'CALLE DE MERCEDES ARTEAGA NUM'\n",
      " 'CARRETERA DE CANILLAS - CALLE DEL RIO DUERO'\n",
      " 'AVENIDA DE BETANZOS - CALLE DE CHANTADA'\n",
      " 'AVENIDA DE ENTREVIAS - CALLE DE LA MANCHA'] \n",
      "\n",
      "\n",
      "\n",
      "NUM_CALLE \n",
      "\n",
      "Nº valores unicos: 879 \n",
      "\n",
      "Valores unicos: [104.0 10200.0 0.0 8500.0 100.0 20300.0 5000.0 34.0 3300.0 3.0 44.0 99.0\n",
      " 7.0 91.0 200.0 12200.0 36.0 7000.0 8.0 332.0 6.0 21600.0 31000.0 20.0\n",
      " 7700.0] \n",
      "\n",
      "\n",
      "\n"
     ]
    },
    {
     "data": {
      "text/plain": [
       "DISTRITO           None\n",
       "LUGAR_ACCIDENTE    None\n",
       "NUM_CALLE          None\n",
       "dtype: object"
      ]
     },
     "execution_count": 12,
     "metadata": {},
     "output_type": "execute_result"
    }
   ],
   "source": [
    "dfm_accidentes[['DISTRITO', 'LUGAR_ACCIDENTE','NUM_CALLE']].apply(conteo)\n"
   ]
  },
  {
   "cell_type": "code",
   "execution_count": 13,
   "metadata": {},
   "outputs": [
    {
     "data": {
      "text/plain": [
       "[Text(0, 0, 'CHAMARTIN'),\n",
       " Text(0, 0, 'PUENTE DE VALLECAS'),\n",
       " Text(0, 0, 'CHAMBERI'),\n",
       " Text(0, 0, 'RETIRO'),\n",
       " Text(0, 0, 'SALAMANCA'),\n",
       " Text(0, 0, 'CARABANCHEL'),\n",
       " Text(0, 0, 'CIUDAD LINEAL'),\n",
       " Text(0, 0, 'MONCLOA-ARAVACA'),\n",
       " Text(0, 0, 'TETUAN'),\n",
       " Text(0, 0, 'VILLA DE VALLECAS'),\n",
       " Text(0, 0, 'MORATALAZ'),\n",
       " Text(0, 0, 'ARGANZUELA'),\n",
       " Text(0, 0, 'SAN BLAS'),\n",
       " Text(0, 0, 'VILLAVERDE'),\n",
       " Text(0, 0, 'HORTALEZA'),\n",
       " Text(0, 0, 'FUENCARRAL-EL PARDO'),\n",
       " Text(0, 0, 'VICALVARO'),\n",
       " Text(0, 0, 'USERA'),\n",
       " Text(0, 0, 'LATINA'),\n",
       " Text(0, 0, 'BARAJAS'),\n",
       " Text(0, 0, 'CENTRO')]"
      ]
     },
     "execution_count": 13,
     "metadata": {},
     "output_type": "execute_result"
    },
    {
     "data": {
      "image/png": "[encoded data removed]",
      "text/plain": [
       "<Figure size 1440x432 with 1 Axes>"
      ]
     },
     "metadata": {},
     "output_type": "display_data"
    }
   ],
   "source": [
    "fig = plt.figure(figsize=(20,6))\n",
    "\n",
    "ax1 = fig.add_subplot(111)\n",
    "bar1 = sns.countplot(x=\"DISTRITO\", data=dfm_accidentes)\n",
    "bar1.set_xticklabels(bar1.get_xticklabels(), rotation=45)\n"
   ]
  },
  {
   "cell_type": "code",
   "execution_count": null,
   "metadata": {},
   "outputs": [],
   "source": []
  },
  {
   "cell_type": "markdown",
   "metadata": {},
   "source": [
    "## CONDICIONES AMBIENTALES"
   ]
  },
  {
   "cell_type": "code",
   "execution_count": 14,
   "metadata": {},
   "outputs": [
    {
     "name": "stdout",
     "output_type": "stream",
     "text": [
      "Granizo \n",
      "\n",
      "Nº valores unicos: 2 \n",
      "\n",
      "Valores unicos: [0 1] \n",
      "\n",
      "0    86807\n",
      "1       10\n",
      "Name: Granizo, dtype: int64\n",
      "\n",
      "\n",
      "Hielo \n",
      "\n",
      "Nº valores unicos: 2 \n",
      "\n",
      "Valores unicos: [0 1] \n",
      "\n",
      "0    86703\n",
      "1      114\n",
      "Name: Hielo, dtype: int64\n",
      "\n",
      "\n",
      "Lluvia \n",
      "\n",
      "Nº valores unicos: 2 \n",
      "\n",
      "Valores unicos: [1 0] \n",
      "\n",
      "0    76032\n",
      "1    10785\n",
      "Name: Lluvia, dtype: int64\n",
      "\n",
      "\n",
      "Niebla \n",
      "\n",
      "Nº valores unicos: 2 \n",
      "\n",
      "Valores unicos: [0 1] \n",
      "\n",
      "0    86579\n",
      "1      238\n",
      "Name: Niebla, dtype: int64\n",
      "\n",
      "\n",
      "Seco \n",
      "\n",
      "Nº valores unicos: 2 \n",
      "\n",
      "Valores unicos: [0 1] \n",
      "\n",
      "1    75651\n",
      "0    11166\n",
      "Name: Seco, dtype: int64\n",
      "\n",
      "\n",
      "Nieve \n",
      "\n",
      "Nº valores unicos: 2 \n",
      "\n",
      "Valores unicos: [0 1] \n",
      "\n",
      "0    86688\n",
      "1      129\n",
      "Name: Nieve, dtype: int64\n",
      "\n",
      "\n"
     ]
    },
    {
     "data": {
      "text/plain": [
       "Granizo    None\n",
       "Hielo      None\n",
       "Lluvia     None\n",
       "Niebla     None\n",
       "Seco       None\n",
       "Nieve      None\n",
       "dtype: object"
      ]
     },
     "execution_count": 14,
     "metadata": {},
     "output_type": "execute_result"
    }
   ],
   "source": [
    "dfm_accidentes.loc[:,'Granizo':'Nieve'].apply(conteo,tabla=True)"
   ]
  },
  {
   "cell_type": "code",
   "execution_count": 15,
   "metadata": {},
   "outputs": [
    {
     "data": {
      "image/png": "[encoded data removed]",
      "text/plain": [
       "<Figure size 1440x864 with 6 Axes>"
      ]
     },
     "metadata": {},
     "output_type": "display_data"
    }
   ],
   "source": [
    "fig_amb = plt.figure(figsize=(20,12))\n",
    "\n",
    "ax1=fig_amb.add_subplot(231)\n",
    "bar1=sns.countplot(x=\"Granizo\", data=dfm_accidentes)\n",
    "\n",
    "ax2=fig_amb.add_subplot(232)\n",
    "bar2=sns.countplot(x=\"Hielo\", data=dfm_accidentes)\n",
    "\n",
    "ax3=fig_amb.add_subplot(233)\n",
    "bar3=sns.countplot(x=\"Lluvia\", data=dfm_accidentes)\n",
    "\n",
    "ax4=fig_amb.add_subplot(234)\n",
    "bar4=sns.countplot(x=\"Niebla\", data=dfm_accidentes)\n",
    "\n",
    "ax5=fig_amb.add_subplot(235)\n",
    "bar5=sns.countplot(x=\"Seco\", data=dfm_accidentes)\n",
    "\n",
    "ax6=fig_amb.add_subplot(236)\n",
    "bar6=sns.countplot(x=\"Nieve\", data=dfm_accidentes)\n"
   ]
  },
  {
   "cell_type": "code",
   "execution_count": null,
   "metadata": {},
   "outputs": [],
   "source": []
  },
  {
   "cell_type": "markdown",
   "metadata": {},
   "source": [
    "## CONDICIONES DE LA CARRETERA"
   ]
  },
  {
   "cell_type": "code",
   "execution_count": 16,
   "metadata": {},
   "outputs": [
    {
     "name": "stdout",
     "output_type": "stream",
     "text": [
      "supf_Mojada \n",
      "\n",
      "Nº valores unicos: 2 \n",
      "\n",
      "Valores unicos: [1 0] \n",
      "\n",
      "0    74350\n",
      "1    12467\n",
      "Name: supf_Mojada, dtype: int64\n",
      "\n",
      "\n",
      "supf_Aceite \n",
      "\n",
      "Nº valores unicos: 2 \n",
      "\n",
      "Valores unicos: [0 1] \n",
      "\n",
      "0    86499\n",
      "1      318\n",
      "Name: supf_Aceite, dtype: int64\n",
      "\n",
      "\n",
      "supf_Barro \n",
      "\n",
      "Nº valores unicos: 2 \n",
      "\n",
      "Valores unicos: [0 1] \n",
      "\n",
      "0    86712\n",
      "1      105\n",
      "Name: supf_Barro, dtype: int64\n",
      "\n",
      "\n",
      "supf_Grava_Suelta \n",
      "\n",
      "Nº valores unicos: 2 \n",
      "\n",
      "Valores unicos: [0 1] \n",
      "\n",
      "0    86460\n",
      "1      357\n",
      "Name: supf_Grava_Suelta, dtype: int64\n",
      "\n",
      "\n",
      "supf_Hielo \n",
      "\n",
      "Nº valores unicos: 2 \n",
      "\n",
      "Valores unicos: [0 1] \n",
      "\n",
      "0    86644\n",
      "1      173\n",
      "Name: supf_Hielo, dtype: int64\n",
      "\n",
      "\n",
      "supf_Seca_Limpia \n",
      "\n",
      "Nº valores unicos: 2 \n",
      "\n",
      "Valores unicos: [0 1] \n",
      "\n",
      "1    73163\n",
      "0    13654\n",
      "Name: supf_Seca_Limpia, dtype: int64\n",
      "\n",
      "\n"
     ]
    },
    {
     "data": {
      "text/plain": [
       "supf_Mojada          None\n",
       "supf_Aceite          None\n",
       "supf_Barro           None\n",
       "supf_Grava_Suelta    None\n",
       "supf_Hielo           None\n",
       "supf_Seca_Limpia     None\n",
       "dtype: object"
      ]
     },
     "execution_count": 16,
     "metadata": {},
     "output_type": "execute_result"
    }
   ],
   "source": [
    "dfm_accidentes.loc[:,'supf_Mojada':'supf_Seca_Limpia'].apply(conteo,tabla=True)\n"
   ]
  },
  {
   "cell_type": "code",
   "execution_count": 17,
   "metadata": {},
   "outputs": [
    {
     "data": {
      "image/png": "[encoded data removed]",
      "text/plain": [
       "<Figure size 1440x864 with 6 Axes>"
      ]
     },
     "metadata": {},
     "output_type": "display_data"
    }
   ],
   "source": [
    "fig_carret = plt.figure(figsize=(20,12))\n",
    "\n",
    "ax1=fig_carret.add_subplot(231)\n",
    "bar1=sns.countplot(x=\"supf_Mojada\", data=dfm_accidentes)\n",
    "\n",
    "ax2=fig_carret.add_subplot(232)\n",
    "bar2=sns.countplot(x=\"supf_Aceite\", data=dfm_accidentes)\n",
    "\n",
    "ax3=fig_carret.add_subplot(233)\n",
    "bar3=sns.countplot(x=\"supf_Barro\", data=dfm_accidentes)\n",
    "\n",
    "ax4=fig_carret.add_subplot(234)\n",
    "bar4=sns.countplot(x=\"supf_Grava_Suelta\", data=dfm_accidentes)\n",
    "\n",
    "ax5=fig_carret.add_subplot(235)\n",
    "bar5=sns.countplot(x=\"supf_Hielo\", data=dfm_accidentes)\n",
    "\n",
    "ax6=fig_carret.add_subplot(236)\n",
    "bar6=sns.countplot(x=\"supf_Seca_Limpia\", data=dfm_accidentes)\n"
   ]
  },
  {
   "cell_type": "code",
   "execution_count": null,
   "metadata": {},
   "outputs": [],
   "source": []
  },
  {
   "cell_type": "markdown",
   "metadata": {},
   "source": [
    "## VICTIMAS Y LESIVIDAD."
   ]
  },
  {
   "cell_type": "markdown",
   "metadata": {},
   "source": [
    "### 1. TOTALES."
   ]
  },
  {
   "cell_type": "code",
   "execution_count": 18,
   "metadata": {},
   "outputs": [
    {
     "data": {
      "text/plain": [
       "num_victimas    111841\n",
       "num_ilesos      130053\n",
       "num_leves       102716\n",
       "num_graves        8850\n",
       "num_muertos        275\n",
       "num_na           11104\n",
       "dtype: int64"
      ]
     },
     "execution_count": 18,
     "metadata": {},
     "output_type": "execute_result"
    }
   ],
   "source": [
    "tot_victim, tot_ilesos = sum(dfm_accidentes.NUM_VICTIMAS), sum(dfm_accidentes.n_ilesos)\n",
    "tot_leves, tot_graves = sum(dfm_accidentes.n_hleves), sum(dfm_accidentes.n_hgraves)\n",
    "tot_muertos, tot_na = sum(dfm_accidentes.n_muertos), sum(dfm_accidentes.n_lesiv_na)\n",
    "\n",
    "sergrafvictim = pd.Series({'num_victimas': tot_victim, 'num_ilesos': tot_ilesos, 'num_leves': tot_leves, \\\n",
    "                            'num_graves': tot_graves, 'num_muertos': tot_muertos, 'num_na': tot_na})\n",
    "\n",
    "sergrafvictim"
   ]
  },
  {
   "cell_type": "code",
   "execution_count": 19,
   "metadata": {},
   "outputs": [
    {
     "data": {
      "text/plain": [
       "<matplotlib.axes._subplots.AxesSubplot at 0x1e5a6bcbb70>"
      ]
     },
     "execution_count": 19,
     "metadata": {},
     "output_type": "execute_result"
    },
    {
     "data": {
      "image/png": "[encoded data removed]",
      "text/plain": [
       "<Figure size 864x432 with 1 Axes>"
      ]
     },
     "metadata": {},
     "output_type": "display_data"
    }
   ],
   "source": [
    "fig_vict = plt.figure(figsize=(12,6))\n",
    "\n",
    "sns.barplot(x=sergrafvictim.index, y=sergrafvictim.values)"
   ]
  },
  {
   "cell_type": "code",
   "execution_count": null,
   "metadata": {},
   "outputs": [],
   "source": []
  },
  {
   "cell_type": "markdown",
   "metadata": {},
   "source": [
    "### 2. POR ACCIDENTE."
   ]
  },
  {
   "cell_type": "code",
   "execution_count": 20,
   "metadata": {},
   "outputs": [
    {
     "name": "stdout",
     "output_type": "stream",
     "text": [
      "NUM_VICTIMAS \n",
      "\n",
      "Nº valores unicos: 19 \n",
      "\n",
      "Valores unicos: [ 1  7  2  3  4  5  9  6  8 18 13 11 22 10 14 12 16 19 15] \n",
      "\n",
      "1     69849\n",
      "2     12092\n",
      "3      3075\n",
      "4      1089\n",
      "5       415\n",
      "6       146\n",
      "7        83\n",
      "8        27\n",
      "9        13\n",
      "10       10\n",
      "11        4\n",
      "13        3\n",
      "19        2\n",
      "12        2\n",
      "14        2\n",
      "18        2\n",
      "15        1\n",
      "16        1\n",
      "22        1\n",
      "Name: NUM_VICTIMAS, dtype: int64\n",
      "\n",
      "\n",
      "n_ilesos \n",
      "\n",
      "Nº valores unicos: 16 \n",
      "\n",
      "Valores unicos: [ 2  1  4  0  3  6  5  8  7  9 10 12 24 13 11 16] \n",
      "\n",
      "1     34631\n",
      "2     22763\n",
      "0     15394\n",
      "3      9202\n",
      "4      3038\n",
      "5      1114\n",
      "6       413\n",
      "7       139\n",
      "8        58\n",
      "9        38\n",
      "10       11\n",
      "11        9\n",
      "12        3\n",
      "13        2\n",
      "24        1\n",
      "16        1\n",
      "Name: n_ilesos, dtype: int64\n",
      "\n",
      "\n",
      "n_hgraves \n",
      "\n",
      "Nº valores unicos: 9 \n",
      "\n",
      "Valores unicos: [ 0  1  2  3  6  4  7  5 10] \n",
      "\n",
      "0     78589\n",
      "1      7727\n",
      "2       428\n",
      "3        47\n",
      "4        15\n",
      "5         6\n",
      "7         2\n",
      "6         2\n",
      "10        1\n",
      "Name: n_hgraves, dtype: int64\n",
      "\n",
      "\n",
      "n_hleves \n",
      "\n",
      "Nº valores unicos: 20 \n",
      "\n",
      "Valores unicos: [ 1  7  6  2  0  3  4  5  9  8 18 12 11 21 10 13 16 14 19 15] \n",
      "\n",
      "1     64108\n",
      "2     11101\n",
      "0      7098\n",
      "3      2858\n",
      "4      1008\n",
      "5       379\n",
      "6       142\n",
      "7        62\n",
      "8        27\n",
      "9        10\n",
      "10        9\n",
      "11        3\n",
      "19        2\n",
      "12        2\n",
      "13        2\n",
      "18        2\n",
      "14        1\n",
      "15        1\n",
      "16        1\n",
      "21        1\n",
      "Name: n_hleves, dtype: int64\n",
      "\n",
      "\n",
      "n_muertos \n",
      "\n",
      "Nº valores unicos: 3 \n",
      "\n",
      "Valores unicos: [0 1 2] \n",
      "\n",
      "0    86551\n",
      "1      257\n",
      "2        9\n",
      "Name: n_muertos, dtype: int64\n",
      "\n",
      "\n",
      "n_lesiv_na \n",
      "\n",
      "Nº valores unicos: 13 \n",
      "\n",
      "Valores unicos: [ 0  1  2  4  3  5  6 12  7  8 10  9 11] \n",
      "\n",
      "0     78169\n",
      "1      7113\n",
      "2       986\n",
      "3       350\n",
      "4       116\n",
      "5        46\n",
      "6        17\n",
      "8         7\n",
      "7         6\n",
      "12        2\n",
      "11        2\n",
      "10        2\n",
      "9         1\n",
      "Name: n_lesiv_na, dtype: int64\n",
      "\n",
      "\n"
     ]
    },
    {
     "data": {
      "text/plain": [
       "NUM_VICTIMAS    None\n",
       "n_ilesos        None\n",
       "n_hgraves       None\n",
       "n_hleves        None\n",
       "n_muertos       None\n",
       "n_lesiv_na      None\n",
       "dtype: object"
      ]
     },
     "execution_count": 20,
     "metadata": {},
     "output_type": "execute_result"
    }
   ],
   "source": [
    "dfm_accidentes[['NUM_VICTIMAS','n_ilesos', 'n_hgraves','n_hleves', 'n_muertos', 'n_lesiv_na']].apply(conteo,tabla=True)"
   ]
  },
  {
   "cell_type": "code",
   "execution_count": 1,
   "metadata": {},
   "outputs": [
    {
     "data": {
      "text/plain": [
       "0.804554407546909"
      ]
     },
     "execution_count": 1,
     "metadata": {},
     "output_type": "execute_result"
    }
   ],
   "source": [
    "69849/86817"
   ]
  },
  {
   "cell_type": "code",
   "execution_count": 21,
   "metadata": {},
   "outputs": [
    {
     "data": {
      "image/png": "[encoded data removed]",
      "text/plain": [
       "<Figure size 1440x864 with 6 Axes>"
      ]
     },
     "metadata": {},
     "output_type": "display_data"
    }
   ],
   "source": [
    "fig_vict = plt.figure(figsize=(20,12))\n",
    "\n",
    "ax1=fig_vict.add_subplot(321)\n",
    "bar1=sns.countplot(x='NUM_VICTIMAS', data=dfm_accidentes)\n",
    "\n",
    "ax2=fig_vict.add_subplot(322)\n",
    "bar2=sns.countplot(x=\"n_ilesos\", data=dfm_accidentes)\n",
    "\n",
    "ax3=fig_vict.add_subplot(323)\n",
    "bar3=sns.countplot(x=\"n_hgraves\", data=dfm_accidentes)\n",
    "\n",
    "ax4=fig_vict.add_subplot(324)\n",
    "bar4=sns.countplot(x=\"n_hleves\", data=dfm_accidentes)\n",
    "\n",
    "ax5=fig_vict.add_subplot(325)\n",
    "bar5=sns.countplot(x=\"n_muertos\", data=dfm_accidentes)\n",
    "\n",
    "ax6=fig_vict.add_subplot(326)\n",
    "bar6=sns.countplot(x=\"n_lesiv_na\", data=dfm_accidentes)\n"
   ]
  },
  {
   "cell_type": "code",
   "execution_count": null,
   "metadata": {},
   "outputs": [],
   "source": []
  },
  {
   "cell_type": "markdown",
   "metadata": {},
   "source": [
    "## TIPO ACCIDENTE"
   ]
  },
  {
   "cell_type": "code",
   "execution_count": 22,
   "metadata": {},
   "outputs": [
    {
     "data": {
      "text/plain": [
       "COLISIÓN DOBLE             48001\n",
       "ATROPELLO                  13671\n",
       "CAÍDA MOTOCICLETA           8358\n",
       "COLISIÓN MÚLTIPLE           6384\n",
       "CHOQUE CON OBJETO FIJO      5217\n",
       "CAÍDA BICICLETA             1778\n",
       "CAÍDA CICLOMOTOR            1642\n",
       "CAÍDA VIAJERO BUS            829\n",
       "VUELCO                       579\n",
       "OTRAS CAUSAS                 352\n",
       "CAÍDA VEHÍCULO 3 RUEDAS        6\n",
       "Name: TIPO_ACCIDENTE, dtype: int64"
      ]
     },
     "execution_count": 22,
     "metadata": {},
     "output_type": "execute_result"
    }
   ],
   "source": [
    "dfm_accidentes.TIPO_ACCIDENTE.value_counts()"
   ]
  },
  {
   "cell_type": "code",
   "execution_count": 23,
   "metadata": {},
   "outputs": [
    {
     "data": {
      "text/plain": [
       "[Text(0, 0, 'COLISIÓN DOBLE'),\n",
       " Text(0, 0, 'COLISIÓN MÚLTIPLE'),\n",
       " Text(0, 0, 'CHOQUE CON OBJETO FIJO'),\n",
       " Text(0, 0, 'CAÍDA MOTOCICLETA'),\n",
       " Text(0, 0, 'ATROPELLO'),\n",
       " Text(0, 0, 'VUELCO'),\n",
       " Text(0, 0, 'CAÍDA CICLOMOTOR'),\n",
       " Text(0, 0, 'CAÍDA VIAJERO BUS'),\n",
       " Text(0, 0, 'OTRAS CAUSAS'),\n",
       " Text(0, 0, 'CAÍDA BICICLETA'),\n",
       " Text(0, 0, 'CAÍDA VEHÍCULO 3 RUEDAS')]"
      ]
     },
     "execution_count": 23,
     "metadata": {},
     "output_type": "execute_result"
    },
    {
     "data": {
      "image/png": "[encoded data removed]",
      "text/plain": [
       "<Figure size 1440x576 with 1 Axes>"
      ]
     },
     "metadata": {},
     "output_type": "display_data"
    }
   ],
   "source": [
    "figtipo = plt.figure(figsize=(20,8))\n",
    "\n",
    "ax1 = figtipo.add_subplot(111)\n",
    "bar1 = sns.countplot(x=\"TIPO_ACCIDENTE\", data=dfm_accidentes)\n",
    "bar1.set_xticklabels(bar1.get_xticklabels(), rotation=45)"
   ]
  },
  {
   "cell_type": "markdown",
   "metadata": {},
   "source": [
    "## CARACTERISTICAS VICTIMA"
   ]
  },
  {
   "cell_type": "code",
   "execution_count": 24,
   "metadata": {},
   "outputs": [
    {
     "name": "stdout",
     "output_type": "stream",
     "text": [
      "SEXO \n",
      "\n",
      "Nº valores unicos: 3 \n",
      "\n",
      "Valores unicos: ['HOMBRE' 'MUJER' 'NO ASIGNADO'] \n",
      "\n",
      "HOMBRE         160165\n",
      "MUJER           80717\n",
      "NO ASIGNADO     12116\n",
      "Name: SEXO, dtype: int64\n",
      "\n",
      "\n",
      "Tramo_Edad \n",
      "\n",
      "Nº valores unicos: 18 \n",
      "\n",
      "Valores unicos: ['DE 18 A 20 AÑOS' 'DE 50 A 54 AÑOS' 'DE 40 A 44 AÑOS' 'DE 25 A 29 AÑOS'\n",
      " 'DE 30 A 34 ANOS' 'DE 21 A 24 AÑOS' 'DE 35 A 39 AÑOS' 'DE 60 A 64 AÑOS'\n",
      " 'DE 45 A 49 AÑOS' 'DE 0 A 5 AÑOS' 'DESCONOCIDA' 'DE 70 A 74 AÑOS'\n",
      " 'DE MAS DE 74 AÑOS' 'DE 10 A 14 AÑOS' 'DE 6 A 9 AÑOS' 'DE 55 A 59 AÑOS'\n",
      " 'DE 65 A 69 AÑOS' 'DE 15 A 17 AÑOS'] \n",
      "\n",
      "DE 30 A 34 ANOS      31110\n",
      "DE 35 A 39 AÑOS      30169\n",
      "DE 25 A 29 AÑOS      29797\n",
      "DE 40 A 44 AÑOS      26421\n",
      "DE 45 A 49 AÑOS      22167\n",
      "DESCONOCIDA          19724\n",
      "DE 21 A 24 AÑOS      19532\n",
      "DE 50 A 54 AÑOS      17999\n",
      "DE 55 A 59 AÑOS      12454\n",
      "DE 18 A 20 AÑOS       9304\n",
      "DE 60 A 64 AÑOS       8362\n",
      "DE MAS DE 74 AÑOS     6361\n",
      "DE 65 A 69 AÑOS       5097\n",
      "DE 70 A 74 AÑOS       3656\n",
      "DE 0 A 5 AÑOS         3128\n",
      "DE 10 A 14 AÑOS       2804\n",
      "DE 15 A 17 AÑOS       2593\n",
      "DE 6 A 9 AÑOS         2320\n",
      "Name: Tramo_Edad, dtype: int64\n",
      "\n",
      "\n"
     ]
    },
    {
     "data": {
      "text/plain": [
       "SEXO          None\n",
       "Tramo_Edad    None\n",
       "dtype: object"
      ]
     },
     "execution_count": 24,
     "metadata": {},
     "output_type": "execute_result"
    }
   ],
   "source": [
    "df_por_victima = pd.read_csv('./madrid_accid.csv',encoding='latin1',usecols=['SEXO','Tramo_Edad'])\n",
    "\n",
    "df_por_victima.apply(conteo, tabla=True)"
   ]
  },
  {
   "cell_type": "code",
   "execution_count": 25,
   "metadata": {},
   "outputs": [
    {
     "data": {
      "text/plain": [
       "[Text(0, 0, 'DE 18 A 20 AÑOS'),\n",
       " Text(0, 0, 'DE 50 A 54 AÑOS'),\n",
       " Text(0, 0, 'DE 40 A 44 AÑOS'),\n",
       " Text(0, 0, 'DE 25 A 29 AÑOS'),\n",
       " Text(0, 0, 'DE 30 A 34 ANOS'),\n",
       " Text(0, 0, 'DE 21 A 24 AÑOS'),\n",
       " Text(0, 0, 'DE 35 A 39 AÑOS'),\n",
       " Text(0, 0, 'DE 60 A 64 AÑOS'),\n",
       " Text(0, 0, 'DE 45 A 49 AÑOS'),\n",
       " Text(0, 0, 'DE 0 A 5 AÑOS'),\n",
       " Text(0, 0, 'DESCONOCIDA'),\n",
       " Text(0, 0, 'DE 70 A 74 AÑOS'),\n",
       " Text(0, 0, 'DE MAS DE 74 AÑOS'),\n",
       " Text(0, 0, 'DE 10 A 14 AÑOS'),\n",
       " Text(0, 0, 'DE 6 A 9 AÑOS'),\n",
       " Text(0, 0, 'DE 55 A 59 AÑOS'),\n",
       " Text(0, 0, 'DE 65 A 69 AÑOS'),\n",
       " Text(0, 0, 'DE 15 A 17 AÑOS')]"
      ]
     },
     "execution_count": 25,
     "metadata": {},
     "output_type": "execute_result"
    },
    {
     "data": {
      "image/png": "[encoded data removed]",
      "text/plain": [
       "<Figure size 1440x864 with 2 Axes>"
      ]
     },
     "metadata": {},
     "output_type": "display_data"
    }
   ],
   "source": [
    "fig_porvict = plt.figure(figsize=(20,12))\n",
    "\n",
    "ax1=fig_porvict.add_subplot(211)\n",
    "bar1=sns.countplot(x='SEXO', data=df_por_victima)\n",
    "\n",
    "ax2=fig_porvict.add_subplot(212)\n",
    "bar2=sns.countplot(x=\"Tramo_Edad\", data=df_por_victima)\n",
    "bar2.set_xticklabels(bar2.get_xticklabels(), rotation=45)"
   ]
  },
  {
   "cell_type": "code",
   "execution_count": null,
   "metadata": {},
   "outputs": [],
   "source": []
  },
  {
   "cell_type": "code",
   "execution_count": null,
   "metadata": {},
   "outputs": [],
   "source": []
  },
  {
   "cell_type": "markdown",
   "metadata": {},
   "source": [
    "**POSIBLES VARIABLES TARGET**\n",
    "\n",
    "<ul>\n",
    "<li>número de victimas -> discretizar</li>\n",
    "<li>por gravedad -> categórica a partir pesos por lesividad, o por muertes</li>\n",
    "<li>tipo de accidente -> categórica, estudiar relacion variables</li>\n",
    "<li>edad del conductor -> filtrando por TIPO_PERSONA, quizas unir categorias</li>\n",
    "</ul>"
   ]
  },
  {
   "cell_type": "markdown",
   "metadata": {},
   "source": [
    "## DISCRETIZACION Y RECODIFICACION ATRIBUTOS"
   ]
  },
  {
   "cell_type": "code",
   "execution_count": 26,
   "metadata": {},
   "outputs": [
    {
     "data": {
      "text/plain": [
       "Index(['FECHA', 'RANGO_HORARIO', 'DIA_SEMANA', 'DISTRITO', 'LUGAR_ACCIDENTE',\n",
       "       'NUM_CALLE', 'NUM_PARTE', 'Granizo', 'Hielo', 'Lluvia', 'Niebla',\n",
       "       'Seco', 'Nieve', 'supf_Mojada', 'supf_Aceite', 'supf_Barro',\n",
       "       'supf_Grava_Suelta', 'supf_Hielo', 'supf_Seca_Limpia', 'NUM_VICTIMAS',\n",
       "       'TIPO_ACCIDENTE', 'vehiculos_implic', 'tipo_persona_implic',\n",
       "       'n_hombres', 'n_mujeres', 'n_sex_na', 'n_ilesos', 'n_hgraves',\n",
       "       'n_hleves', 'n_muertos', 'n_lesiv_na', 'tr_edad_implic'],\n",
       "      dtype='object')"
      ]
     },
     "execution_count": 26,
     "metadata": {},
     "output_type": "execute_result"
    }
   ],
   "source": [
    "dfm_accidentes.columns"
   ]
  },
  {
   "cell_type": "markdown",
   "metadata": {},
   "source": [
    "### NUM_VICTIMAS"
   ]
  },
  {
   "cell_type": "code",
   "execution_count": 27,
   "metadata": {},
   "outputs": [
    {
     "data": {
      "text/plain": [
       "(0, 2]      81941\n",
       "(2, 5]       4579\n",
       "(5, 10]       279\n",
       "(10, 25]       18\n",
       "Name: NUM_VICTIMAS, dtype: int64"
      ]
     },
     "execution_count": 27,
     "metadata": {},
     "output_type": "execute_result"
    }
   ],
   "source": [
    "nvict_interv = [0,2,5,10,25]\n",
    "num_vict_discrt = pd.cut(dfm_accidentes.NUM_VICTIMAS, nvict_interv)\n",
    "\n",
    "num_vict_discrt.value_counts()"
   ]
  },
  {
   "cell_type": "code",
   "execution_count": 28,
   "metadata": {},
   "outputs": [
    {
     "data": {
      "text/plain": [
       "0     (0, 2]\n",
       "1    (5, 10]\n",
       "2     (0, 2]\n",
       "3    (5, 10]\n",
       "4     (0, 2]\n",
       "5     (0, 2]\n",
       "6     (0, 2]\n",
       "7     (0, 2]\n",
       "8     (0, 2]\n",
       "9     (0, 2]\n",
       "Name: NUM_VICTIMAS, dtype: category\n",
       "Categories (4, interval[int64]): [(0, 2] < (2, 5] < (5, 10] < (10, 25]]"
      ]
     },
     "execution_count": 28,
     "metadata": {},
     "output_type": "execute_result"
    }
   ],
   "source": [
    "num_vict_discrt[:10]"
   ]
  },
  {
   "cell_type": "code",
   "execution_count": null,
   "metadata": {},
   "outputs": [],
   "source": []
  },
  {
   "cell_type": "markdown",
   "metadata": {},
   "source": [
    "### RANGO_HORARIO"
   ]
  },
  {
   "cell_type": "code",
   "execution_count": 29,
   "metadata": {},
   "outputs": [
    {
     "data": {
      "text/plain": [
       "0    DE 00:00 A 00:59\n",
       "1      DE 1:00 A 1:59\n",
       "2      DE 2:00 A 2:59\n",
       "3      DE 4:00 A 4:59\n",
       "4      DE 5:00 A 5:59\n",
       "Name: RANGO_HORARIO, dtype: object"
      ]
     },
     "execution_count": 29,
     "metadata": {},
     "output_type": "execute_result"
    }
   ],
   "source": [
    "dfm_accidentes.RANGO_HORARIO.head()"
   ]
  },
  {
   "cell_type": "code",
   "execution_count": 30,
   "metadata": {},
   "outputs": [],
   "source": [
    "def extraer_hora(col):\n",
    "    \n",
    "    horas = []\n",
    "    for x in col:\n",
    "        hora = x[3:5]\n",
    "        if hora[-1] == \":\":\n",
    "            hora = hora[:-1]\n",
    "        if hora == \"00\":\n",
    "            hora =\"0\"\n",
    "        horas.append(int(hora))\n",
    "    \n",
    "    return horas\n",
    "        "
   ]
  },
  {
   "cell_type": "code",
   "execution_count": 31,
   "metadata": {},
   "outputs": [
    {
     "data": {
      "text/plain": [
       "0      [0, 7)\n",
       "1      [0, 7)\n",
       "2      [0, 7)\n",
       "3      [0, 7)\n",
       "4      [0, 7)\n",
       "5     [7, 10)\n",
       "6     [7, 10)\n",
       "7     [7, 10)\n",
       "8     [7, 10)\n",
       "9    [18, 22)\n",
       "dtype: category\n",
       "Categories (7, interval[int64]): [[0, 7) < [7, 10) < [10, 13) < [13, 16) < [16, 18) < [18, 22) < [22, 24)]"
      ]
     },
     "execution_count": 31,
     "metadata": {},
     "output_type": "execute_result"
    }
   ],
   "source": [
    "rango_dscrt = pd.Series(extraer_hora(dfm_accidentes.RANGO_HORARIO))\n",
    "rango_dscrt = pd.cut(rango_dscrt, bins=[0,7,10,13,16,18,22,24],right=False)\n",
    "rango_dscrt.head(10)"
   ]
  },
  {
   "cell_type": "code",
   "execution_count": null,
   "metadata": {},
   "outputs": [],
   "source": []
  },
  {
   "cell_type": "markdown",
   "metadata": {},
   "source": [
    "### DIA_SEMANA"
   ]
  },
  {
   "cell_type": "code",
   "execution_count": 32,
   "metadata": {},
   "outputs": [
    {
     "data": {
      "text/plain": [
       "86817"
      ]
     },
     "execution_count": 32,
     "metadata": {},
     "output_type": "execute_result"
    }
   ],
   "source": [
    "dia_sem_map = {'LUNES': 'LABORABLE','MARTES': 'LABORABLE','MIERCOLES': 'LABORABLE','JUEVES': 'LABORABLE', \\\n",
    "              'VIERNES': 'FIN DE SEMANA', 'SABADO': 'FIN DE SEMANA', 'DOMINGO': 'FIN DE SEMANA'}\n",
    "\n",
    "dia_sem_dscrt = dfm_accidentes.DIA_SEMANA.map(dia_sem_map)\n",
    "len(dia_sem_dscrt)"
   ]
  },
  {
   "cell_type": "code",
   "execution_count": 33,
   "metadata": {},
   "outputs": [
    {
     "data": {
      "text/plain": [
       "0    FIN DE SEMANA\n",
       "1    FIN DE SEMANA\n",
       "2    FIN DE SEMANA\n",
       "3    FIN DE SEMANA\n",
       "4    FIN DE SEMANA\n",
       "5    FIN DE SEMANA\n",
       "6    FIN DE SEMANA\n",
       "7    FIN DE SEMANA\n",
       "8    FIN DE SEMANA\n",
       "9    FIN DE SEMANA\n",
       "Name: DIA_SEMANA, dtype: object"
      ]
     },
     "execution_count": 33,
     "metadata": {},
     "output_type": "execute_result"
    }
   ],
   "source": [
    "dia_sem_dscrt.head(10)"
   ]
  },
  {
   "cell_type": "code",
   "execution_count": 34,
   "metadata": {},
   "outputs": [
    {
     "data": {
      "text/plain": [
       "75070        LABORABLE\n",
       "59003    FIN DE SEMANA\n",
       "16000        LABORABLE\n",
       "84234        LABORABLE\n",
       "70524        LABORABLE\n",
       "2508         LABORABLE\n",
       "44504        LABORABLE\n",
       "66330        LABORABLE\n",
       "38784        LABORABLE\n",
       "67490        LABORABLE\n",
       "Name: DIA_SEMANA, dtype: object"
      ]
     },
     "execution_count": 34,
     "metadata": {},
     "output_type": "execute_result"
    }
   ],
   "source": [
    "dia_sem_dscrt.sample(10)"
   ]
  },
  {
   "cell_type": "markdown",
   "metadata": {},
   "source": [
    "## FUNCION GRAVEDAD"
   ]
  },
  {
   "cell_type": "code",
   "execution_count": 35,
   "metadata": {},
   "outputs": [
    {
     "data": {
      "text/plain": [
       "Index(['FECHA', 'RANGO_HORARIO', 'DIA_SEMANA', 'DISTRITO', 'LUGAR_ACCIDENTE',\n",
       "       'NUM_CALLE', 'NUM_PARTE', 'Granizo', 'Hielo', 'Lluvia', 'Niebla',\n",
       "       'Seco', 'Nieve', 'supf_Mojada', 'supf_Aceite', 'supf_Barro',\n",
       "       'supf_Grava_Suelta', 'supf_Hielo', 'supf_Seca_Limpia', 'NUM_VICTIMAS',\n",
       "       'TIPO_ACCIDENTE', 'vehiculos_implic', 'tipo_persona_implic',\n",
       "       'n_hombres', 'n_mujeres', 'n_sex_na', 'n_ilesos', 'n_hgraves',\n",
       "       'n_hleves', 'n_muertos', 'n_lesiv_na', 'tr_edad_implic'],\n",
       "      dtype='object')"
      ]
     },
     "execution_count": 35,
     "metadata": {},
     "output_type": "execute_result"
    }
   ],
   "source": [
    "dfm_accidentes.columns"
   ]
  },
  {
   "cell_type": "code",
   "execution_count": 36,
   "metadata": {},
   "outputs": [],
   "source": [
    "dfm_accidentes['FUNC_GRAVEDAD'] = 10*dfm_accidentes.n_muertos + 5*dfm_accidentes.n_hgraves + 1*dfm_accidentes.n_hleves"
   ]
  },
  {
   "cell_type": "code",
   "execution_count": 37,
   "metadata": {},
   "outputs": [
    {
     "data": {
      "text/plain": [
       "count    86817.000000\n",
       "mean         1.724501\n",
       "std          1.668708\n",
       "min          1.000000\n",
       "25%          1.000000\n",
       "50%          1.000000\n",
       "75%          2.000000\n",
       "max         52.000000\n",
       "Name: FUNC_GRAVEDAD, dtype: float64"
      ]
     },
     "execution_count": 37,
     "metadata": {},
     "output_type": "execute_result"
    }
   ],
   "source": [
    "dfm_accidentes.FUNC_GRAVEDAD.describe()"
   ]
  },
  {
   "cell_type": "code",
   "execution_count": null,
   "metadata": {},
   "outputs": [],
   "source": []
  },
  {
   "cell_type": "code",
   "execution_count": null,
   "metadata": {},
   "outputs": [],
   "source": []
  },
  {
   "cell_type": "markdown",
   "metadata": {},
   "source": [
    "## ANÁLISIS BIVARIANTE"
   ]
  },
  {
   "cell_type": "markdown",
   "metadata": {},
   "source": [
    "### NÚMERO DE VICTIMAS"
   ]
  },
  {
   "cell_type": "code",
   "execution_count": 38,
   "metadata": {},
   "outputs": [
    {
     "name": "stdout",
     "output_type": "stream",
     "text": [
      "NUM_VICT_interv \n",
      "\n",
      "Nº valores unicos: 4 \n",
      "\n",
      "Valores unicos: [(0, 2], (5, 10], (2, 5], (10, 25]]\n",
      "Categories (4, interval[int64]): [(0, 2] < (2, 5] < (5, 10] < (10, 25]] \n",
      "\n",
      "(0, 2]      81941\n",
      "(2, 5]       4579\n",
      "(5, 10]       279\n",
      "(10, 25]       18\n",
      "Name: NUM_VICT_interv, dtype: int64\n",
      "\n",
      "\n"
     ]
    },
    {
     "data": {
      "image/png": "[encoded data removed]",
      "text/plain": [
       "<Figure size 432x288 with 1 Axes>"
      ]
     },
     "metadata": {},
     "output_type": "display_data"
    }
   ],
   "source": [
    "dfm_accidentes['NUM_VICT_interv'] = num_vict_discrt\n",
    "dfm_accidentes['RNG_HORA_interv'] = rango_dscrt\n",
    "dfm_accidentes['DIA_SEM_interv'] = dia_sem_dscrt\n",
    "\n",
    "sns.countplot(x=\"NUM_VICT_interv\", data=dfm_accidentes)\n",
    "conteo(dfm_accidentes.NUM_VICT_interv, tabla=True)"
   ]
  },
  {
   "cell_type": "markdown",
   "metadata": {},
   "source": [
    "### Numero de victimas con rango de hora."
   ]
  },
  {
   "cell_type": "code",
   "execution_count": 39,
   "metadata": {},
   "outputs": [
    {
     "data": {
      "text/plain": [
       "<matplotlib.axes._subplots.AxesSubplot at 0x1e5ab17e518>"
      ]
     },
     "execution_count": 39,
     "metadata": {},
     "output_type": "execute_result"
    },
    {
     "data": {
      "image/png": "[encoded data removed]",
      "text/plain": [
       "<Figure size 1440x576 with 1 Axes>"
      ]
     },
     "metadata": {},
     "output_type": "display_data"
    }
   ],
   "source": [
    "fig_biv1 = plt.figure(figsize=(20,8))\n",
    "sns.countplot(x=\"RNG_HORA_interv\", hue=\"NUM_VICT_interv\", data=dfm_accidentes)"
   ]
  },
  {
   "cell_type": "code",
   "execution_count": 40,
   "metadata": {},
   "outputs": [
    {
     "data": {
      "text/html": [
       "<div>\n",
       "<style scoped>\n",
       "    .dataframe tbody tr th:only-of-type {\n",
       "        vertical-align: middle;\n",
       "    }\n",
       "\n",
       "    .dataframe tbody tr th {\n",
       "        vertical-align: top;\n",
       "    }\n",
       "\n",
       "    .dataframe thead th {\n",
       "        text-align: right;\n",
       "    }\n",
       "</style>\n",
       "<table border=\"1\" class=\"dataframe\">\n",
       "  <thead>\n",
       "    <tr style=\"text-align: right;\">\n",
       "      <th>RNG_HORA_interv</th>\n",
       "      <th>[0, 7)</th>\n",
       "      <th>[7, 10)</th>\n",
       "      <th>[10, 13)</th>\n",
       "      <th>[13, 16)</th>\n",
       "      <th>[16, 18)</th>\n",
       "      <th>[18, 22)</th>\n",
       "      <th>[22, 24)</th>\n",
       "    </tr>\n",
       "    <tr>\n",
       "      <th>NUM_VICT_interv</th>\n",
       "      <th></th>\n",
       "      <th></th>\n",
       "      <th></th>\n",
       "      <th></th>\n",
       "      <th></th>\n",
       "      <th></th>\n",
       "      <th></th>\n",
       "    </tr>\n",
       "  </thead>\n",
       "  <tbody>\n",
       "    <tr>\n",
       "      <th>(0, 2]</th>\n",
       "      <td>6247</td>\n",
       "      <td>11970</td>\n",
       "      <td>13081</td>\n",
       "      <td>16215</td>\n",
       "      <td>8788</td>\n",
       "      <td>20027</td>\n",
       "      <td>5613</td>\n",
       "    </tr>\n",
       "    <tr>\n",
       "      <th>(2, 5]</th>\n",
       "      <td>631</td>\n",
       "      <td>441</td>\n",
       "      <td>592</td>\n",
       "      <td>855</td>\n",
       "      <td>506</td>\n",
       "      <td>1191</td>\n",
       "      <td>363</td>\n",
       "    </tr>\n",
       "    <tr>\n",
       "      <th>(5, 10]</th>\n",
       "      <td>52</td>\n",
       "      <td>17</td>\n",
       "      <td>30</td>\n",
       "      <td>32</td>\n",
       "      <td>30</td>\n",
       "      <td>89</td>\n",
       "      <td>29</td>\n",
       "    </tr>\n",
       "    <tr>\n",
       "      <th>(10, 25]</th>\n",
       "      <td>1</td>\n",
       "      <td>1</td>\n",
       "      <td>6</td>\n",
       "      <td>4</td>\n",
       "      <td>2</td>\n",
       "      <td>4</td>\n",
       "      <td>0</td>\n",
       "    </tr>\n",
       "  </tbody>\n",
       "</table>\n",
       "</div>"
      ],
      "text/plain": [
       "RNG_HORA_interv  [0, 7)  [7, 10)  [10, 13)  [13, 16)  [16, 18)  [18, 22)  \\\n",
       "NUM_VICT_interv                                                            \n",
       "(0, 2]             6247    11970     13081     16215      8788     20027   \n",
       "(2, 5]              631      441       592       855       506      1191   \n",
       "(5, 10]              52       17        30        32        30        89   \n",
       "(10, 25]              1        1         6         4         2         4   \n",
       "\n",
       "RNG_HORA_interv  [22, 24)  \n",
       "NUM_VICT_interv            \n",
       "(0, 2]               5613  \n",
       "(2, 5]                363  \n",
       "(5, 10]                29  \n",
       "(10, 25]                0  "
      ]
     },
     "execution_count": 40,
     "metadata": {},
     "output_type": "execute_result"
    }
   ],
   "source": [
    "cruzada_vict_hora = pd.crosstab(dfm_accidentes.NUM_VICT_interv, dfm_accidentes.RNG_HORA_interv)\n",
    "cruzada_vict_hora"
   ]
  },
  {
   "cell_type": "markdown",
   "metadata": {},
   "source": [
    "#### Test chi cuadrado de independencia"
   ]
  },
  {
   "cell_type": "code",
   "execution_count": 41,
   "metadata": {},
   "outputs": [
    {
     "data": {
      "text/plain": [
       "(405.18171562933253,\n",
       " 7.5989436091927505e-75,\n",
       " 18,\n",
       " array([[6.54172652e+03, 1.17309362e+04, 1.29390461e+04, 1.61452566e+04,\n",
       "         8.80221346e+03, 2.01140865e+04, 5.66773449e+03],\n",
       "        [3.65562609e+02, 6.55544317e+02, 7.23055519e+02, 9.02223919e+02,\n",
       "         4.91882396e+02, 1.12400877e+03, 3.16722474e+02],\n",
       "        [2.22738519e+01, 3.99425343e+01, 4.40560144e+01, 5.49728049e+01,\n",
       "         2.99705588e+01, 6.84862297e+01, 1.92980062e+01],\n",
       "        [1.43702270e+00, 2.57693770e+00, 2.84232351e+00, 3.54663257e+00,\n",
       "         1.93358444e+00, 4.41846643e+00, 1.24503265e+00]]))"
      ]
     },
     "execution_count": 41,
     "metadata": {},
     "output_type": "execute_result"
    }
   ],
   "source": [
    "from scipy import stats\n",
    "\n",
    "stats.chi2_contingency(cruzada_vict_hora)"
   ]
  },
  {
   "cell_type": "markdown",
   "metadata": {},
   "source": [
    "p-valor significativo, en la tabla esperada menor de 5 los correspondientes a la minoritaria, pero **parece que SI HAY RELACION**"
   ]
  },
  {
   "cell_type": "code",
   "execution_count": null,
   "metadata": {},
   "outputs": [],
   "source": []
  },
  {
   "cell_type": "markdown",
   "metadata": {},
   "source": [
    "### Numero de victimas con dia de la semana."
   ]
  },
  {
   "cell_type": "code",
   "execution_count": 42,
   "metadata": {},
   "outputs": [
    {
     "data": {
      "text/plain": [
       "<matplotlib.axes._subplots.AxesSubplot at 0x1e5ab3bedd8>"
      ]
     },
     "execution_count": 42,
     "metadata": {},
     "output_type": "execute_result"
    },
    {
     "data": {
      "image/png": "[encoded data removed]",
      "text/plain": [
       "<Figure size 1440x576 with 1 Axes>"
      ]
     },
     "metadata": {},
     "output_type": "display_data"
    }
   ],
   "source": [
    "fig_biv2 = plt.figure(figsize=(20,8))\n",
    "sns.countplot(x=\"DIA_SEM_interv\", hue=\"NUM_VICT_interv\", data=dfm_accidentes)"
   ]
  },
  {
   "cell_type": "code",
   "execution_count": 43,
   "metadata": {},
   "outputs": [
    {
     "data": {
      "text/html": [
       "<div>\n",
       "<style scoped>\n",
       "    .dataframe tbody tr th:only-of-type {\n",
       "        vertical-align: middle;\n",
       "    }\n",
       "\n",
       "    .dataframe tbody tr th {\n",
       "        vertical-align: top;\n",
       "    }\n",
       "\n",
       "    .dataframe thead th {\n",
       "        text-align: right;\n",
       "    }\n",
       "</style>\n",
       "<table border=\"1\" class=\"dataframe\">\n",
       "  <thead>\n",
       "    <tr style=\"text-align: right;\">\n",
       "      <th>DIA_SEM_interv</th>\n",
       "      <th>FIN DE SEMANA</th>\n",
       "      <th>LABORABLE</th>\n",
       "    </tr>\n",
       "    <tr>\n",
       "      <th>NUM_VICT_interv</th>\n",
       "      <th></th>\n",
       "      <th></th>\n",
       "    </tr>\n",
       "  </thead>\n",
       "  <tbody>\n",
       "    <tr>\n",
       "      <th>(0, 2]</th>\n",
       "      <td>30834</td>\n",
       "      <td>51107</td>\n",
       "    </tr>\n",
       "    <tr>\n",
       "      <th>(2, 5]</th>\n",
       "      <td>2171</td>\n",
       "      <td>2408</td>\n",
       "    </tr>\n",
       "    <tr>\n",
       "      <th>(5, 10]</th>\n",
       "      <td>148</td>\n",
       "      <td>131</td>\n",
       "    </tr>\n",
       "    <tr>\n",
       "      <th>(10, 25]</th>\n",
       "      <td>3</td>\n",
       "      <td>15</td>\n",
       "    </tr>\n",
       "  </tbody>\n",
       "</table>\n",
       "</div>"
      ],
      "text/plain": [
       "DIA_SEM_interv   FIN DE SEMANA  LABORABLE\n",
       "NUM_VICT_interv                          \n",
       "(0, 2]                   30834      51107\n",
       "(2, 5]                    2171       2408\n",
       "(5, 10]                    148        131\n",
       "(10, 25]                     3         15"
      ]
     },
     "execution_count": 43,
     "metadata": {},
     "output_type": "execute_result"
    }
   ],
   "source": [
    "cruzada_vict_dia = pd.crosstab(dfm_accidentes.NUM_VICT_interv, dfm_accidentes.DIA_SEM_interv)\n",
    "cruzada_vict_dia"
   ]
  },
  {
   "cell_type": "code",
   "execution_count": 44,
   "metadata": {},
   "outputs": [
    {
     "data": {
      "text/plain": [
       "(205.5000166118439,\n",
       " 2.7332698486985516e-44,\n",
       " 3,\n",
       " array([[3.12938226e+04, 5.06471774e+04],\n",
       "        [1.74875110e+03, 2.83024890e+03],\n",
       "        [1.06551989e+02, 1.72448011e+02],\n",
       "        [6.87432185e+00, 1.11256782e+01]]))"
      ]
     },
     "execution_count": 44,
     "metadata": {},
     "output_type": "execute_result"
    }
   ],
   "source": [
    "stats.chi2_contingency(cruzada_vict_dia)"
   ]
  },
  {
   "cell_type": "markdown",
   "metadata": {},
   "source": [
    "*Significativo, hay relacion*"
   ]
  },
  {
   "cell_type": "code",
   "execution_count": null,
   "metadata": {},
   "outputs": [],
   "source": []
  },
  {
   "cell_type": "markdown",
   "metadata": {},
   "source": [
    "### Numero de victimas con lluvia."
   ]
  },
  {
   "cell_type": "code",
   "execution_count": 45,
   "metadata": {},
   "outputs": [
    {
     "data": {
      "text/html": [
       "<div>\n",
       "<style scoped>\n",
       "    .dataframe tbody tr th:only-of-type {\n",
       "        vertical-align: middle;\n",
       "    }\n",
       "\n",
       "    .dataframe tbody tr th {\n",
       "        vertical-align: top;\n",
       "    }\n",
       "\n",
       "    .dataframe thead th {\n",
       "        text-align: right;\n",
       "    }\n",
       "</style>\n",
       "<table border=\"1\" class=\"dataframe\">\n",
       "  <thead>\n",
       "    <tr style=\"text-align: right;\">\n",
       "      <th>Lluvia</th>\n",
       "      <th>0</th>\n",
       "      <th>1</th>\n",
       "    </tr>\n",
       "    <tr>\n",
       "      <th>NUM_VICT_interv</th>\n",
       "      <th></th>\n",
       "      <th></th>\n",
       "    </tr>\n",
       "  </thead>\n",
       "  <tbody>\n",
       "    <tr>\n",
       "      <th>(0, 2]</th>\n",
       "      <td>71710</td>\n",
       "      <td>10231</td>\n",
       "    </tr>\n",
       "    <tr>\n",
       "      <th>(2, 5]</th>\n",
       "      <td>4046</td>\n",
       "      <td>533</td>\n",
       "    </tr>\n",
       "    <tr>\n",
       "      <th>(5, 10]</th>\n",
       "      <td>258</td>\n",
       "      <td>21</td>\n",
       "    </tr>\n",
       "    <tr>\n",
       "      <th>(10, 25]</th>\n",
       "      <td>18</td>\n",
       "      <td>0</td>\n",
       "    </tr>\n",
       "  </tbody>\n",
       "</table>\n",
       "</div>"
      ],
      "text/plain": [
       "Lluvia               0      1\n",
       "NUM_VICT_interv              \n",
       "(0, 2]           71710  10231\n",
       "(2, 5]            4046    533\n",
       "(5, 10]            258     21\n",
       "(10, 25]            18      0"
      ]
     },
     "execution_count": 45,
     "metadata": {},
     "output_type": "execute_result"
    },
    {
     "data": {
      "image/png": "[encoded data removed]",
      "text/plain": [
       "<Figure size 1440x576 with 1 Axes>"
      ]
     },
     "metadata": {},
     "output_type": "display_data"
    }
   ],
   "source": [
    "fig_biv3 = plt.figure(figsize=(20,8))\n",
    "sns.countplot(x=\"Lluvia\", hue=\"NUM_VICT_interv\", data=dfm_accidentes)\n",
    "\n",
    "cruzada_vict_lluvia = pd.crosstab(dfm_accidentes.NUM_VICT_interv, dfm_accidentes.Lluvia)\n",
    "cruzada_vict_lluvia"
   ]
  },
  {
   "cell_type": "code",
   "execution_count": 46,
   "metadata": {},
   "outputs": [
    {
     "data": {
      "text/plain": [
       "(11.577853431131233,\n",
       " 0.008978455277713557,\n",
       " 3,\n",
       " array([[7.17617300e+04, 1.01792700e+04],\n",
       "        [4.01016538e+03, 5.68834618e+02],\n",
       "        [2.44340717e+02, 3.46592833e+01],\n",
       "        [1.57639172e+01, 2.23608279e+00]]))"
      ]
     },
     "execution_count": 46,
     "metadata": {},
     "output_type": "execute_result"
    }
   ],
   "source": [
    "stats.chi2_contingency(cruzada_vict_lluvia)"
   ]
  },
  {
   "cell_type": "markdown",
   "metadata": {},
   "source": [
    "*significativo, si hay relacion*"
   ]
  },
  {
   "cell_type": "code",
   "execution_count": null,
   "metadata": {},
   "outputs": [],
   "source": []
  },
  {
   "cell_type": "markdown",
   "metadata": {},
   "source": [
    "### Numero de victimas con niebla."
   ]
  },
  {
   "cell_type": "code",
   "execution_count": 47,
   "metadata": {},
   "outputs": [
    {
     "data": {
      "text/html": [
       "<div>\n",
       "<style scoped>\n",
       "    .dataframe tbody tr th:only-of-type {\n",
       "        vertical-align: middle;\n",
       "    }\n",
       "\n",
       "    .dataframe tbody tr th {\n",
       "        vertical-align: top;\n",
       "    }\n",
       "\n",
       "    .dataframe thead th {\n",
       "        text-align: right;\n",
       "    }\n",
       "</style>\n",
       "<table border=\"1\" class=\"dataframe\">\n",
       "  <thead>\n",
       "    <tr style=\"text-align: right;\">\n",
       "      <th>Niebla</th>\n",
       "      <th>0</th>\n",
       "      <th>1</th>\n",
       "    </tr>\n",
       "    <tr>\n",
       "      <th>NUM_VICT_interv</th>\n",
       "      <th></th>\n",
       "      <th></th>\n",
       "    </tr>\n",
       "  </thead>\n",
       "  <tbody>\n",
       "    <tr>\n",
       "      <th>(0, 2]</th>\n",
       "      <td>81713</td>\n",
       "      <td>228</td>\n",
       "    </tr>\n",
       "    <tr>\n",
       "      <th>(2, 5]</th>\n",
       "      <td>4571</td>\n",
       "      <td>8</td>\n",
       "    </tr>\n",
       "    <tr>\n",
       "      <th>(5, 10]</th>\n",
       "      <td>277</td>\n",
       "      <td>2</td>\n",
       "    </tr>\n",
       "    <tr>\n",
       "      <th>(10, 25]</th>\n",
       "      <td>18</td>\n",
       "      <td>0</td>\n",
       "    </tr>\n",
       "  </tbody>\n",
       "</table>\n",
       "</div>"
      ],
      "text/plain": [
       "Niebla               0    1\n",
       "NUM_VICT_interv            \n",
       "(0, 2]           81713  228\n",
       "(2, 5]            4571    8\n",
       "(5, 10]            277    2\n",
       "(10, 25]            18    0"
      ]
     },
     "execution_count": 47,
     "metadata": {},
     "output_type": "execute_result"
    },
    {
     "data": {
      "image/png": "[encoded data removed]",
      "text/plain": [
       "<Figure size 1440x576 with 2 Axes>"
      ]
     },
     "metadata": {},
     "output_type": "display_data"
    }
   ],
   "source": [
    "fig_biv4 = plt.figure(figsize=(20,8))\n",
    "\n",
    "ax_b1=fig_biv4.add_subplot(121)\n",
    "sns.countplot(x=dfm_accidentes[dfm_accidentes.Niebla==0]['NUM_VICT_interv'])\n",
    "\n",
    "ax2_b2=fig_biv4.add_subplot(122)\n",
    "sns.countplot(x=dfm_accidentes[dfm_accidentes.Niebla==1]['NUM_VICT_interv'])\n",
    "\n",
    "\n",
    "cruzada_vict_niebla = pd.crosstab(dfm_accidentes.NUM_VICT_interv, dfm_accidentes.Niebla)\n",
    "cruzada_vict_niebla"
   ]
  },
  {
   "cell_type": "code",
   "execution_count": 48,
   "metadata": {},
   "outputs": [
    {
     "data": {
      "text/plain": [
       "(3.756045964474339,\n",
       " 0.28904028430662776,\n",
       " 3,\n",
       " array([[8.17163671e+04, 2.24632941e+02],\n",
       "        [4.56644714e+03, 1.25528641e+01],\n",
       "        [2.78235150e+02, 7.64850202e-01],\n",
       "        [1.79506548e+01, 4.93451743e-02]]))"
      ]
     },
     "execution_count": 48,
     "metadata": {},
     "output_type": "execute_result"
    }
   ],
   "source": [
    "stats.chi2_contingency(cruzada_vict_niebla)"
   ]
  },
  {
   "cell_type": "markdown",
   "metadata": {},
   "source": [
    "*No significativo, no se puede afirmar que haya relacion. Dudas tabla esperada menores de 5 en las dos ultimas filas.*"
   ]
  },
  {
   "cell_type": "code",
   "execution_count": null,
   "metadata": {},
   "outputs": [],
   "source": []
  },
  {
   "cell_type": "markdown",
   "metadata": {},
   "source": [
    "### Numero de victimas con superficie mojada."
   ]
  },
  {
   "cell_type": "code",
   "execution_count": 49,
   "metadata": {},
   "outputs": [
    {
     "data": {
      "text/html": [
       "<div>\n",
       "<style scoped>\n",
       "    .dataframe tbody tr th:only-of-type {\n",
       "        vertical-align: middle;\n",
       "    }\n",
       "\n",
       "    .dataframe tbody tr th {\n",
       "        vertical-align: top;\n",
       "    }\n",
       "\n",
       "    .dataframe thead th {\n",
       "        text-align: right;\n",
       "    }\n",
       "</style>\n",
       "<table border=\"1\" class=\"dataframe\">\n",
       "  <thead>\n",
       "    <tr style=\"text-align: right;\">\n",
       "      <th>supf_Mojada</th>\n",
       "      <th>0</th>\n",
       "      <th>1</th>\n",
       "    </tr>\n",
       "    <tr>\n",
       "      <th>NUM_VICT_interv</th>\n",
       "      <th></th>\n",
       "      <th></th>\n",
       "    </tr>\n",
       "  </thead>\n",
       "  <tbody>\n",
       "    <tr>\n",
       "      <th>(0, 2]</th>\n",
       "      <td>70116</td>\n",
       "      <td>11825</td>\n",
       "    </tr>\n",
       "    <tr>\n",
       "      <th>(2, 5]</th>\n",
       "      <td>3962</td>\n",
       "      <td>617</td>\n",
       "    </tr>\n",
       "    <tr>\n",
       "      <th>(5, 10]</th>\n",
       "      <td>255</td>\n",
       "      <td>24</td>\n",
       "    </tr>\n",
       "    <tr>\n",
       "      <th>(10, 25]</th>\n",
       "      <td>17</td>\n",
       "      <td>1</td>\n",
       "    </tr>\n",
       "  </tbody>\n",
       "</table>\n",
       "</div>"
      ],
      "text/plain": [
       "supf_Mojada          0      1\n",
       "NUM_VICT_interv              \n",
       "(0, 2]           70116  11825\n",
       "(2, 5]            3962    617\n",
       "(5, 10]            255     24\n",
       "(10, 25]            17      1"
      ]
     },
     "execution_count": 49,
     "metadata": {},
     "output_type": "execute_result"
    },
    {
     "data": {
      "image/png": "[encoded data removed]",
      "text/plain": [
       "<Figure size 1440x576 with 1 Axes>"
      ]
     },
     "metadata": {},
     "output_type": "display_data"
    }
   ],
   "source": [
    "fig_biv5 = plt.figure(figsize=(20,8))\n",
    "sns.countplot(x=\"supf_Mojada\", hue=\"NUM_VICT_interv\", data=dfm_accidentes)\n",
    "\n",
    "cruzada_vict_spfcmojada = pd.crosstab(dfm_accidentes.NUM_VICT_interv, dfm_accidentes.supf_Mojada)\n",
    "cruzada_vict_spfcmojada"
   ]
  },
  {
   "cell_type": "code",
   "execution_count": 50,
   "metadata": {},
   "outputs": [
    {
     "data": {
      "text/plain": [
       "(11.912003270881765,\n",
       " 0.007690760083385115,\n",
       " 3,\n",
       " array([[7.01741980e+04, 1.17668020e+04],\n",
       "        [3.92145144e+03, 6.57548556e+02],\n",
       "        [2.38935347e+02, 4.00646532e+01],\n",
       "        [1.54151837e+01, 2.58481634e+00]]))"
      ]
     },
     "execution_count": 50,
     "metadata": {},
     "output_type": "execute_result"
    }
   ],
   "source": [
    "stats.chi2_contingency(cruzada_vict_spfcmojada)"
   ]
  },
  {
   "cell_type": "markdown",
   "metadata": {},
   "source": [
    "*significativo, parece que si hay relacion (menores de 5 esperada ultima fila)*"
   ]
  },
  {
   "cell_type": "code",
   "execution_count": null,
   "metadata": {},
   "outputs": [],
   "source": []
  },
  {
   "cell_type": "markdown",
   "metadata": {},
   "source": [
    "### Numero de victimas con superficie grava suelta."
   ]
  },
  {
   "cell_type": "code",
   "execution_count": 51,
   "metadata": {},
   "outputs": [
    {
     "data": {
      "text/html": [
       "<div>\n",
       "<style scoped>\n",
       "    .dataframe tbody tr th:only-of-type {\n",
       "        vertical-align: middle;\n",
       "    }\n",
       "\n",
       "    .dataframe tbody tr th {\n",
       "        vertical-align: top;\n",
       "    }\n",
       "\n",
       "    .dataframe thead th {\n",
       "        text-align: right;\n",
       "    }\n",
       "</style>\n",
       "<table border=\"1\" class=\"dataframe\">\n",
       "  <thead>\n",
       "    <tr style=\"text-align: right;\">\n",
       "      <th>supf_Grava_Suelta</th>\n",
       "      <th>0</th>\n",
       "      <th>1</th>\n",
       "    </tr>\n",
       "    <tr>\n",
       "      <th>NUM_VICT_interv</th>\n",
       "      <th></th>\n",
       "      <th></th>\n",
       "    </tr>\n",
       "  </thead>\n",
       "  <tbody>\n",
       "    <tr>\n",
       "      <th>(0, 2]</th>\n",
       "      <td>81593</td>\n",
       "      <td>348</td>\n",
       "    </tr>\n",
       "    <tr>\n",
       "      <th>(2, 5]</th>\n",
       "      <td>4570</td>\n",
       "      <td>9</td>\n",
       "    </tr>\n",
       "    <tr>\n",
       "      <th>(5, 10]</th>\n",
       "      <td>279</td>\n",
       "      <td>0</td>\n",
       "    </tr>\n",
       "    <tr>\n",
       "      <th>(10, 25]</th>\n",
       "      <td>18</td>\n",
       "      <td>0</td>\n",
       "    </tr>\n",
       "  </tbody>\n",
       "</table>\n",
       "</div>"
      ],
      "text/plain": [
       "supf_Grava_Suelta      0    1\n",
       "NUM_VICT_interv              \n",
       "(0, 2]             81593  348\n",
       "(2, 5]              4570    9\n",
       "(5, 10]              279    0\n",
       "(10, 25]              18    0"
      ]
     },
     "execution_count": 51,
     "metadata": {},
     "output_type": "execute_result"
    },
    {
     "data": {
      "image/png": "[encoded data removed]",
      "text/plain": [
       "<Figure size 1440x576 with 2 Axes>"
      ]
     },
     "metadata": {},
     "output_type": "display_data"
    }
   ],
   "source": [
    "fig_biv6 = plt.figure(figsize=(20,8))\n",
    "\n",
    "ax_b2=fig_biv6.add_subplot(121)\n",
    "sns.countplot(x=dfm_accidentes[dfm_accidentes.supf_Grava_Suelta==0]['NUM_VICT_interv'])\n",
    "\n",
    "ax2_b2=fig_biv6.add_subplot(122)\n",
    "sns.countplot(x=dfm_accidentes[dfm_accidentes.supf_Grava_Suelta==1]['NUM_VICT_interv'])\n",
    "\n",
    "\n",
    "cruzada_vict_spfcgrava = pd.crosstab(dfm_accidentes.NUM_VICT_interv, dfm_accidentes.supf_Grava_Suelta)\n",
    "cruzada_vict_spfcgrava"
   ]
  },
  {
   "cell_type": "code",
   "execution_count": 52,
   "metadata": {},
   "outputs": [
    {
     "data": {
      "text/plain": [
       "(6.742537261477834,\n",
       " 0.0805728246812488,\n",
       " 3,\n",
       " array([[8.16040506e+04, 3.36949411e+02],\n",
       "        [4.56017070e+03, 1.88292961e+01],\n",
       "        [2.77852725e+02, 1.14727530e+00],\n",
       "        [1.79259822e+01, 7.40177615e-02]]))"
      ]
     },
     "execution_count": 52,
     "metadata": {},
     "output_type": "execute_result"
    }
   ],
   "source": [
    "stats.chi2_contingency(cruzada_vict_spfcgrava)"
   ]
  },
  {
   "cell_type": "markdown",
   "metadata": {},
   "source": [
    "*No significativo, no se puede afirmar que haya relacion*"
   ]
  },
  {
   "cell_type": "code",
   "execution_count": 53,
   "metadata": {},
   "outputs": [
    {
     "data": {
      "text/plain": [
       "Index(['FECHA', 'RANGO_HORARIO', 'DIA_SEMANA', 'DISTRITO', 'LUGAR_ACCIDENTE',\n",
       "       'NUM_CALLE', 'NUM_PARTE', 'Granizo', 'Hielo', 'Lluvia', 'Niebla',\n",
       "       'Seco', 'Nieve', 'supf_Mojada', 'supf_Aceite', 'supf_Barro',\n",
       "       'supf_Grava_Suelta', 'supf_Hielo', 'supf_Seca_Limpia', 'NUM_VICTIMAS',\n",
       "       'TIPO_ACCIDENTE', 'vehiculos_implic', 'tipo_persona_implic',\n",
       "       'n_hombres', 'n_mujeres', 'n_sex_na', 'n_ilesos', 'n_hgraves',\n",
       "       'n_hleves', 'n_muertos', 'n_lesiv_na', 'tr_edad_implic',\n",
       "       'FUNC_GRAVEDAD', 'NUM_VICT_interv', 'RNG_HORA_interv',\n",
       "       'DIA_SEM_interv'],\n",
       "      dtype='object')"
      ]
     },
     "execution_count": 53,
     "metadata": {},
     "output_type": "execute_result"
    }
   ],
   "source": [
    "dfm_accidentes.columns"
   ]
  },
  {
   "cell_type": "markdown",
   "metadata": {},
   "source": [
    "### Numero de victimas con DISTRITO."
   ]
  },
  {
   "cell_type": "code",
   "execution_count": 54,
   "metadata": {},
   "outputs": [
    {
     "data": {
      "text/html": [
       "<div>\n",
       "<style scoped>\n",
       "    .dataframe tbody tr th:only-of-type {\n",
       "        vertical-align: middle;\n",
       "    }\n",
       "\n",
       "    .dataframe tbody tr th {\n",
       "        vertical-align: top;\n",
       "    }\n",
       "\n",
       "    .dataframe thead th {\n",
       "        text-align: right;\n",
       "    }\n",
       "</style>\n",
       "<table border=\"1\" class=\"dataframe\">\n",
       "  <thead>\n",
       "    <tr style=\"text-align: right;\">\n",
       "      <th>DISTRITO</th>\n",
       "      <th>ARGANZUELA</th>\n",
       "      <th>BARAJAS</th>\n",
       "      <th>CARABANCHEL</th>\n",
       "      <th>CENTRO</th>\n",
       "      <th>CHAMARTIN</th>\n",
       "      <th>CHAMBERI</th>\n",
       "      <th>CIUDAD LINEAL</th>\n",
       "      <th>FUENCARRAL-EL PARDO</th>\n",
       "      <th>HORTALEZA</th>\n",
       "      <th>LATINA</th>\n",
       "      <th>...</th>\n",
       "      <th>MORATALAZ</th>\n",
       "      <th>PUENTE DE VALLECAS</th>\n",
       "      <th>RETIRO</th>\n",
       "      <th>SALAMANCA</th>\n",
       "      <th>SAN BLAS</th>\n",
       "      <th>TETUAN</th>\n",
       "      <th>USERA</th>\n",
       "      <th>VICALVARO</th>\n",
       "      <th>VILLA DE VALLECAS</th>\n",
       "      <th>VILLAVERDE</th>\n",
       "    </tr>\n",
       "    <tr>\n",
       "      <th>NUM_VICT_interv</th>\n",
       "      <th></th>\n",
       "      <th></th>\n",
       "      <th></th>\n",
       "      <th></th>\n",
       "      <th></th>\n",
       "      <th></th>\n",
       "      <th></th>\n",
       "      <th></th>\n",
       "      <th></th>\n",
       "      <th></th>\n",
       "      <th></th>\n",
       "      <th></th>\n",
       "      <th></th>\n",
       "      <th></th>\n",
       "      <th></th>\n",
       "      <th></th>\n",
       "      <th></th>\n",
       "      <th></th>\n",
       "      <th></th>\n",
       "      <th></th>\n",
       "      <th></th>\n",
       "    </tr>\n",
       "  </thead>\n",
       "  <tbody>\n",
       "    <tr>\n",
       "      <th>(0, 2]</th>\n",
       "      <td>4164</td>\n",
       "      <td>1236</td>\n",
       "      <td>4797</td>\n",
       "      <td>6024</td>\n",
       "      <td>6112</td>\n",
       "      <td>4987</td>\n",
       "      <td>5250</td>\n",
       "      <td>4658</td>\n",
       "      <td>2926</td>\n",
       "      <td>3863</td>\n",
       "      <td>...</td>\n",
       "      <td>2016</td>\n",
       "      <td>4726</td>\n",
       "      <td>4284</td>\n",
       "      <td>6323</td>\n",
       "      <td>3804</td>\n",
       "      <td>4591</td>\n",
       "      <td>2546</td>\n",
       "      <td>1083</td>\n",
       "      <td>1845</td>\n",
       "      <td>2003</td>\n",
       "    </tr>\n",
       "    <tr>\n",
       "      <th>(2, 5]</th>\n",
       "      <td>235</td>\n",
       "      <td>49</td>\n",
       "      <td>339</td>\n",
       "      <td>216</td>\n",
       "      <td>265</td>\n",
       "      <td>157</td>\n",
       "      <td>285</td>\n",
       "      <td>241</td>\n",
       "      <td>140</td>\n",
       "      <td>285</td>\n",
       "      <td>...</td>\n",
       "      <td>139</td>\n",
       "      <td>380</td>\n",
       "      <td>281</td>\n",
       "      <td>285</td>\n",
       "      <td>227</td>\n",
       "      <td>189</td>\n",
       "      <td>248</td>\n",
       "      <td>71</td>\n",
       "      <td>122</td>\n",
       "      <td>192</td>\n",
       "    </tr>\n",
       "    <tr>\n",
       "      <th>(5, 10]</th>\n",
       "      <td>7</td>\n",
       "      <td>1</td>\n",
       "      <td>18</td>\n",
       "      <td>14</td>\n",
       "      <td>14</td>\n",
       "      <td>12</td>\n",
       "      <td>17</td>\n",
       "      <td>11</td>\n",
       "      <td>4</td>\n",
       "      <td>10</td>\n",
       "      <td>...</td>\n",
       "      <td>3</td>\n",
       "      <td>38</td>\n",
       "      <td>18</td>\n",
       "      <td>18</td>\n",
       "      <td>15</td>\n",
       "      <td>15</td>\n",
       "      <td>19</td>\n",
       "      <td>3</td>\n",
       "      <td>12</td>\n",
       "      <td>15</td>\n",
       "    </tr>\n",
       "    <tr>\n",
       "      <th>(10, 25]</th>\n",
       "      <td>0</td>\n",
       "      <td>0</td>\n",
       "      <td>0</td>\n",
       "      <td>2</td>\n",
       "      <td>0</td>\n",
       "      <td>0</td>\n",
       "      <td>2</td>\n",
       "      <td>1</td>\n",
       "      <td>1</td>\n",
       "      <td>1</td>\n",
       "      <td>...</td>\n",
       "      <td>2</td>\n",
       "      <td>1</td>\n",
       "      <td>2</td>\n",
       "      <td>1</td>\n",
       "      <td>0</td>\n",
       "      <td>3</td>\n",
       "      <td>0</td>\n",
       "      <td>0</td>\n",
       "      <td>0</td>\n",
       "      <td>1</td>\n",
       "    </tr>\n",
       "  </tbody>\n",
       "</table>\n",
       "<p>4 rows × 21 columns</p>\n",
       "</div>"
      ],
      "text/plain": [
       "DISTRITO         ARGANZUELA  BARAJAS  CARABANCHEL  CENTRO  CHAMARTIN  \\\n",
       "NUM_VICT_interv                                                        \n",
       "(0, 2]                 4164     1236         4797    6024       6112   \n",
       "(2, 5]                  235       49          339     216        265   \n",
       "(5, 10]                   7        1           18      14         14   \n",
       "(10, 25]                  0        0            0       2          0   \n",
       "\n",
       "DISTRITO         CHAMBERI  CIUDAD LINEAL  FUENCARRAL-EL PARDO  HORTALEZA  \\\n",
       "NUM_VICT_interv                                                            \n",
       "(0, 2]               4987           5250                 4658       2926   \n",
       "(2, 5]                157            285                  241        140   \n",
       "(5, 10]                12             17                   11          4   \n",
       "(10, 25]                0              2                    1          1   \n",
       "\n",
       "DISTRITO         LATINA  ...  MORATALAZ  PUENTE DE VALLECAS  RETIRO  \\\n",
       "NUM_VICT_interv          ...                                          \n",
       "(0, 2]             3863  ...       2016                4726    4284   \n",
       "(2, 5]              285  ...        139                 380     281   \n",
       "(5, 10]              10  ...          3                  38      18   \n",
       "(10, 25]              1  ...          2                   1       2   \n",
       "\n",
       "DISTRITO         SALAMANCA  SAN BLAS  TETUAN  USERA  VICALVARO  \\\n",
       "NUM_VICT_interv                                                  \n",
       "(0, 2]                6323      3804    4591   2546       1083   \n",
       "(2, 5]                 285       227     189    248         71   \n",
       "(5, 10]                 18        15      15     19          3   \n",
       "(10, 25]                 1         0       3      0          0   \n",
       "\n",
       "DISTRITO         VILLA DE VALLECAS  VILLAVERDE  \n",
       "NUM_VICT_interv                                 \n",
       "(0, 2]                        1845        2003  \n",
       "(2, 5]                         122         192  \n",
       "(5, 10]                         12          15  \n",
       "(10, 25]                         0           1  \n",
       "\n",
       "[4 rows x 21 columns]"
      ]
     },
     "execution_count": 54,
     "metadata": {},
     "output_type": "execute_result"
    },
    {
     "data": {
      "image/png": "[encoded data removed]",
      "text/plain": [
       "<Figure size 1440x576 with 1 Axes>"
      ]
     },
     "metadata": {},
     "output_type": "display_data"
    }
   ],
   "source": [
    "fig_biv7 = plt.figure(figsize=(20,8))\n",
    "sns.countplot(x=\"DISTRITO\", hue=\"NUM_VICT_interv\", data=dfm_accidentes)\n",
    "\n",
    "cruzada_vict_distrito = pd.crosstab(dfm_accidentes.NUM_VICT_interv, dfm_accidentes.DISTRITO)\n",
    "cruzada_vict_distrito"
   ]
  },
  {
   "cell_type": "code",
   "execution_count": 55,
   "metadata": {},
   "outputs": [
    {
     "data": {
      "text/plain": [
       "(473.35543773630025,\n",
       " 1.4882519426436616e-65,\n",
       " 60,\n",
       " array([[4.15854091e+03, 1.21377295e+03, 4.86453015e+03, 5.90463729e+03,\n",
       "         6.03205514e+03, 4.86641782e+03, 5.24206450e+03, 4.63517803e+03,\n",
       "         2.89852000e+03, 3.92541344e+03, 4.67387530e+03, 2.03868551e+03,\n",
       "         4.85603563e+03, 4.32748753e+03, 6.25480041e+03, 3.81875999e+03,\n",
       "         4.52852457e+03, 2.65501034e+03, 1.09201812e+03, 1.86785122e+03,\n",
       "         2.08682114e+03],\n",
       "        [2.32386215e+02, 6.78276605e+01, 2.71838073e+02, 3.29960998e+02,\n",
       "         3.37081320e+02, 2.71943559e+02, 2.92935324e+02, 2.59021493e+02,\n",
       "         1.61974141e+02, 2.19358662e+02, 2.61183962e+02, 1.13925153e+02,\n",
       "         2.71363385e+02, 2.41827234e+02, 3.49528698e+02, 2.13398689e+02,\n",
       "         2.53061520e+02, 1.48366414e+02, 6.10237972e+01, 1.04378647e+02,\n",
       "         1.16615052e+02],\n",
       "        [1.41593697e+01, 4.13276202e+00, 1.65631846e+01, 2.01046339e+01,\n",
       "         2.05384775e+01, 1.65696119e+01, 1.78486472e+01, 1.57822661e+01,\n",
       "         9.86913853e+00, 1.33655966e+01, 1.59140261e+01, 6.94149763e+00,\n",
       "         1.65342617e+01, 1.47346142e+01, 2.12969004e+01, 1.30024534e+01,\n",
       "         1.54191230e+01, 9.04001520e+00, 3.71820035e+00, 6.35982584e+00,\n",
       "         7.10539410e+00],\n",
       "        [9.13507723e-01, 2.66629808e-01, 1.06859256e+00, 1.29707315e+00,\n",
       "         1.32506306e+00, 1.06900722e+00, 1.15152562e+00, 1.01821072e+00,\n",
       "         6.36718615e-01, 8.62296555e-01, 1.02671136e+00, 4.47838557e-01,\n",
       "         1.06672656e+00, 9.50620270e-01, 1.37399357e+00, 8.38867964e-01,\n",
       "         9.94782128e-01, 5.83226787e-01, 2.39883894e-01, 4.10311345e-01,\n",
       "         4.58412523e-01]]))"
      ]
     },
     "execution_count": 55,
     "metadata": {},
     "output_type": "execute_result"
    }
   ],
   "source": [
    "stats.chi2_contingency(cruzada_vict_distrito)"
   ]
  },
  {
   "cell_type": "markdown",
   "metadata": {},
   "source": [
    "*parece que hay relacion, dudas dos ultimas filas menores que 5*"
   ]
  },
  {
   "cell_type": "code",
   "execution_count": null,
   "metadata": {},
   "outputs": [],
   "source": []
  },
  {
   "cell_type": "markdown",
   "metadata": {},
   "source": [
    "### FUNCIÓN GRAVEDAD"
   ]
  },
  {
   "cell_type": "markdown",
   "metadata": {},
   "source": [
    "### Gravedad con Hora."
   ]
  },
  {
   "cell_type": "code",
   "execution_count": 56,
   "metadata": {},
   "outputs": [],
   "source": [
    "gravedad_dscrt = pd.cut(dfm_accidentes.FUNC_GRAVEDAD, bins=8)\n",
    "\n",
    "dfm_accidentes['GRAVEDAD_interv'] = gravedad_dscrt"
   ]
  },
  {
   "cell_type": "code",
   "execution_count": 57,
   "metadata": {},
   "outputs": [
    {
     "data": {
      "text/html": [
       "<div>\n",
       "<style scoped>\n",
       "    .dataframe tbody tr th:only-of-type {\n",
       "        vertical-align: middle;\n",
       "    }\n",
       "\n",
       "    .dataframe tbody tr th {\n",
       "        vertical-align: top;\n",
       "    }\n",
       "\n",
       "    .dataframe thead th {\n",
       "        text-align: right;\n",
       "    }\n",
       "</style>\n",
       "<table border=\"1\" class=\"dataframe\">\n",
       "  <thead>\n",
       "    <tr style=\"text-align: right;\">\n",
       "      <th>RNG_HORA_interv</th>\n",
       "      <th>[0, 7)</th>\n",
       "      <th>[7, 10)</th>\n",
       "      <th>[10, 13)</th>\n",
       "      <th>[13, 16)</th>\n",
       "      <th>[16, 18)</th>\n",
       "      <th>[18, 22)</th>\n",
       "      <th>[22, 24)</th>\n",
       "    </tr>\n",
       "    <tr>\n",
       "      <th>GRAVEDAD_interv</th>\n",
       "      <th></th>\n",
       "      <th></th>\n",
       "      <th></th>\n",
       "      <th></th>\n",
       "      <th></th>\n",
       "      <th></th>\n",
       "      <th></th>\n",
       "    </tr>\n",
       "  </thead>\n",
       "  <tbody>\n",
       "    <tr>\n",
       "      <th>(0.949, 7.375]</th>\n",
       "      <td>6710</td>\n",
       "      <td>12336</td>\n",
       "      <td>13597</td>\n",
       "      <td>16974</td>\n",
       "      <td>9253</td>\n",
       "      <td>21091</td>\n",
       "      <td>5923</td>\n",
       "    </tr>\n",
       "    <tr>\n",
       "      <th>(7.375, 13.75]</th>\n",
       "      <td>185</td>\n",
       "      <td>85</td>\n",
       "      <td>94</td>\n",
       "      <td>120</td>\n",
       "      <td>65</td>\n",
       "      <td>191</td>\n",
       "      <td>70</td>\n",
       "    </tr>\n",
       "    <tr>\n",
       "      <th>(13.75, 20.125]</th>\n",
       "      <td>22</td>\n",
       "      <td>5</td>\n",
       "      <td>14</td>\n",
       "      <td>11</td>\n",
       "      <td>7</td>\n",
       "      <td>26</td>\n",
       "      <td>10</td>\n",
       "    </tr>\n",
       "    <tr>\n",
       "      <th>(20.125, 26.5]</th>\n",
       "      <td>5</td>\n",
       "      <td>3</td>\n",
       "      <td>2</td>\n",
       "      <td>0</td>\n",
       "      <td>1</td>\n",
       "      <td>1</td>\n",
       "      <td>2</td>\n",
       "    </tr>\n",
       "    <tr>\n",
       "      <th>(26.5, 32.875]</th>\n",
       "      <td>4</td>\n",
       "      <td>0</td>\n",
       "      <td>0</td>\n",
       "      <td>1</td>\n",
       "      <td>0</td>\n",
       "      <td>2</td>\n",
       "      <td>0</td>\n",
       "    </tr>\n",
       "    <tr>\n",
       "      <th>(32.875, 39.25]</th>\n",
       "      <td>3</td>\n",
       "      <td>0</td>\n",
       "      <td>1</td>\n",
       "      <td>0</td>\n",
       "      <td>0</td>\n",
       "      <td>0</td>\n",
       "      <td>0</td>\n",
       "    </tr>\n",
       "    <tr>\n",
       "      <th>(39.25, 45.625]</th>\n",
       "      <td>2</td>\n",
       "      <td>0</td>\n",
       "      <td>0</td>\n",
       "      <td>0</td>\n",
       "      <td>0</td>\n",
       "      <td>0</td>\n",
       "      <td>0</td>\n",
       "    </tr>\n",
       "    <tr>\n",
       "      <th>(45.625, 52.0]</th>\n",
       "      <td>0</td>\n",
       "      <td>0</td>\n",
       "      <td>1</td>\n",
       "      <td>0</td>\n",
       "      <td>0</td>\n",
       "      <td>0</td>\n",
       "      <td>0</td>\n",
       "    </tr>\n",
       "  </tbody>\n",
       "</table>\n",
       "</div>"
      ],
      "text/plain": [
       "RNG_HORA_interv  [0, 7)  [7, 10)  [10, 13)  [13, 16)  [16, 18)  [18, 22)  \\\n",
       "GRAVEDAD_interv                                                            \n",
       "(0.949, 7.375]     6710    12336     13597     16974      9253     21091   \n",
       "(7.375, 13.75]      185       85        94       120        65       191   \n",
       "(13.75, 20.125]      22        5        14        11         7        26   \n",
       "(20.125, 26.5]        5        3         2         0         1         1   \n",
       "(26.5, 32.875]        4        0         0         1         0         2   \n",
       "(32.875, 39.25]       3        0         1         0         0         0   \n",
       "(39.25, 45.625]       2        0         0         0         0         0   \n",
       "(45.625, 52.0]        0        0         1         0         0         0   \n",
       "\n",
       "RNG_HORA_interv  [22, 24)  \n",
       "GRAVEDAD_interv            \n",
       "(0.949, 7.375]       5923  \n",
       "(7.375, 13.75]         70  \n",
       "(13.75, 20.125]        10  \n",
       "(20.125, 26.5]          2  \n",
       "(26.5, 32.875]          0  \n",
       "(32.875, 39.25]         0  \n",
       "(39.25, 45.625]         0  \n",
       "(45.625, 52.0]          0  "
      ]
     },
     "execution_count": 57,
     "metadata": {},
     "output_type": "execute_result"
    },
    {
     "data": {
      "image/png": "[encoded data removed]",
      "text/plain": [
       "<Figure size 1440x576 with 1 Axes>"
      ]
     },
     "metadata": {},
     "output_type": "display_data"
    }
   ],
   "source": [
    "fig_biv8 = plt.figure(figsize=(20,8))\n",
    "sns.countplot(x=\"RNG_HORA_interv\", hue=\"GRAVEDAD_interv\", data=dfm_accidentes)\n",
    "\n",
    "cruzada_grave_hora = pd.crosstab(dfm_accidentes.GRAVEDAD_interv, dfm_accidentes.RNG_HORA_interv)\n",
    "cruzada_grave_hora"
   ]
  },
  {
   "cell_type": "code",
   "execution_count": 58,
   "metadata": {
    "scrolled": false
   },
   "outputs": [
    {
     "data": {
      "text/plain": [
       "(401.7971591244683,\n",
       " 2.948137521455175e-60,\n",
       " 42,\n",
       " array([[6.85651432e+03, 1.22954287e+04, 1.35616729e+04, 1.69221662e+04,\n",
       "         9.22577587e+03, 2.10819762e+04, 5.94046581e+03],\n",
       "        [6.46660216e+01, 1.15962196e+02, 1.27904558e+02, 1.59598466e+02,\n",
       "         8.70112996e+01, 1.98830989e+02, 5.60264695e+01],\n",
       "        [7.58428649e+00, 1.36005045e+01, 1.50011518e+01, 1.87183386e+01,\n",
       "         1.02050290e+01, 2.33196839e+01, 6.57100568e+00],\n",
       "        [1.11768432e+00, 2.00428488e+00, 2.21069606e+00, 2.75849200e+00,\n",
       "         1.50389901e+00, 3.43658500e+00, 9.68358732e-01],\n",
       "        [5.58842162e-01, 1.00214244e+00, 1.10534803e+00, 1.37924600e+00,\n",
       "         7.51949503e-01, 1.71829250e+00, 4.84179366e-01],\n",
       "        [3.19338378e-01, 5.72652821e-01, 6.31627446e-01, 7.88140572e-01,\n",
       "         4.29685430e-01, 9.81881429e-01, 2.76673923e-01],\n",
       "        [1.59669189e-01, 2.86326411e-01, 3.15813723e-01, 3.94070286e-01,\n",
       "         2.14842715e-01, 4.90940714e-01, 1.38336962e-01],\n",
       "        [7.98345946e-02, 1.43163205e-01, 1.57906862e-01, 1.97035143e-01,\n",
       "         1.07421358e-01, 2.45470357e-01, 6.91684808e-02]]))"
      ]
     },
     "execution_count": 58,
     "metadata": {},
     "output_type": "execute_result"
    }
   ],
   "source": [
    "stats.chi2_contingency(cruzada_grave_hora)"
   ]
  },
  {
   "cell_type": "markdown",
   "metadata": {},
   "source": [
    "*dudas tabla esperada*"
   ]
  },
  {
   "cell_type": "code",
   "execution_count": null,
   "metadata": {},
   "outputs": [],
   "source": []
  },
  {
   "cell_type": "markdown",
   "metadata": {},
   "source": [
    "### Gravedad con Lluvia."
   ]
  },
  {
   "cell_type": "code",
   "execution_count": 59,
   "metadata": {},
   "outputs": [
    {
     "data": {
      "text/html": [
       "<div>\n",
       "<style scoped>\n",
       "    .dataframe tbody tr th:only-of-type {\n",
       "        vertical-align: middle;\n",
       "    }\n",
       "\n",
       "    .dataframe tbody tr th {\n",
       "        vertical-align: top;\n",
       "    }\n",
       "\n",
       "    .dataframe thead th {\n",
       "        text-align: right;\n",
       "    }\n",
       "</style>\n",
       "<table border=\"1\" class=\"dataframe\">\n",
       "  <thead>\n",
       "    <tr style=\"text-align: right;\">\n",
       "      <th>Lluvia</th>\n",
       "      <th>0</th>\n",
       "      <th>1</th>\n",
       "    </tr>\n",
       "    <tr>\n",
       "      <th>GRAVEDAD_interv</th>\n",
       "      <th></th>\n",
       "      <th></th>\n",
       "    </tr>\n",
       "  </thead>\n",
       "  <tbody>\n",
       "    <tr>\n",
       "      <th>(0.949, 7.375]</th>\n",
       "      <td>75188</td>\n",
       "      <td>10696</td>\n",
       "    </tr>\n",
       "    <tr>\n",
       "      <th>(7.375, 13.75]</th>\n",
       "      <td>736</td>\n",
       "      <td>74</td>\n",
       "    </tr>\n",
       "    <tr>\n",
       "      <th>(13.75, 20.125]</th>\n",
       "      <td>85</td>\n",
       "      <td>10</td>\n",
       "    </tr>\n",
       "    <tr>\n",
       "      <th>(20.125, 26.5]</th>\n",
       "      <td>12</td>\n",
       "      <td>2</td>\n",
       "    </tr>\n",
       "    <tr>\n",
       "      <th>(26.5, 32.875]</th>\n",
       "      <td>5</td>\n",
       "      <td>2</td>\n",
       "    </tr>\n",
       "    <tr>\n",
       "      <th>(32.875, 39.25]</th>\n",
       "      <td>4</td>\n",
       "      <td>0</td>\n",
       "    </tr>\n",
       "    <tr>\n",
       "      <th>(39.25, 45.625]</th>\n",
       "      <td>1</td>\n",
       "      <td>1</td>\n",
       "    </tr>\n",
       "    <tr>\n",
       "      <th>(45.625, 52.0]</th>\n",
       "      <td>1</td>\n",
       "      <td>0</td>\n",
       "    </tr>\n",
       "  </tbody>\n",
       "</table>\n",
       "</div>"
      ],
      "text/plain": [
       "Lluvia               0      1\n",
       "GRAVEDAD_interv              \n",
       "(0.949, 7.375]   75188  10696\n",
       "(7.375, 13.75]     736     74\n",
       "(13.75, 20.125]     85     10\n",
       "(20.125, 26.5]      12      2\n",
       "(26.5, 32.875]       5      2\n",
       "(32.875, 39.25]      4      0\n",
       "(39.25, 45.625]      1      1\n",
       "(45.625, 52.0]       1      0"
      ]
     },
     "execution_count": 59,
     "metadata": {},
     "output_type": "execute_result"
    },
    {
     "data": {
      "image/png": "[encoded data removed]",
      "text/plain": [
       "<Figure size 1440x576 with 2 Axes>"
      ]
     },
     "metadata": {},
     "output_type": "display_data"
    }
   ],
   "source": [
    "fig_biv9 = plt.figure(figsize=(20,8))\n",
    "\n",
    "ax_b3=fig_biv9.add_subplot(121)\n",
    "sns.countplot(x=dfm_accidentes[dfm_accidentes.Lluvia==0]['GRAVEDAD_interv'])\n",
    "\n",
    "ax2_b4=fig_biv9.add_subplot(122)\n",
    "sns.countplot(x=dfm_accidentes[dfm_accidentes.Lluvia==1]['GRAVEDAD_interv'])\n",
    "\n",
    "\n",
    "cruzada_grave_lluvia = pd.crosstab(dfm_accidentes.GRAVEDAD_interv, dfm_accidentes.Lluvia)\n",
    "cruzada_grave_lluvia\n",
    "\n"
   ]
  },
  {
   "cell_type": "code",
   "execution_count": 60,
   "metadata": {
    "scrolled": true
   },
   "outputs": [
    {
     "data": {
      "text/plain": [
       "(13.46263258491531,\n",
       " 0.06160721070826418,\n",
       " 7,\n",
       " array([[7.52149036e+04, 1.06690964e+04],\n",
       "        [7.09376274e+02, 1.00623726e+02],\n",
       "        [8.31984519e+01, 1.18015481e+01],\n",
       "        [1.22608245e+01, 1.73917551e+00],\n",
       "        [6.13041225e+00, 8.69587754e-01],\n",
       "        [3.50309271e+00, 4.96907288e-01],\n",
       "        [1.75154636e+00, 2.48453644e-01],\n",
       "        [8.75773178e-01, 1.24226822e-01]]))"
      ]
     },
     "execution_count": 60,
     "metadata": {},
     "output_type": "execute_result"
    }
   ],
   "source": [
    "stats.chi2_contingency(cruzada_grave_lluvia)"
   ]
  },
  {
   "cell_type": "markdown",
   "metadata": {},
   "source": [
    "*no significativo, no podemos afirmar que haya relacion*"
   ]
  },
  {
   "cell_type": "code",
   "execution_count": 61,
   "metadata": {},
   "outputs": [
    {
     "data": {
      "text/plain": [
       "Index(['FECHA', 'RANGO_HORARIO', 'DIA_SEMANA', 'DISTRITO', 'LUGAR_ACCIDENTE',\n",
       "       'NUM_CALLE', 'NUM_PARTE', 'Granizo', 'Hielo', 'Lluvia', 'Niebla',\n",
       "       'Seco', 'Nieve', 'supf_Mojada', 'supf_Aceite', 'supf_Barro',\n",
       "       'supf_Grava_Suelta', 'supf_Hielo', 'supf_Seca_Limpia', 'NUM_VICTIMAS',\n",
       "       'TIPO_ACCIDENTE', 'vehiculos_implic', 'tipo_persona_implic',\n",
       "       'n_hombres', 'n_mujeres', 'n_sex_na', 'n_ilesos', 'n_hgraves',\n",
       "       'n_hleves', 'n_muertos', 'n_lesiv_na', 'tr_edad_implic',\n",
       "       'FUNC_GRAVEDAD', 'NUM_VICT_interv', 'RNG_HORA_interv', 'DIA_SEM_interv',\n",
       "       'GRAVEDAD_interv'],\n",
       "      dtype='object')"
      ]
     },
     "execution_count": 61,
     "metadata": {},
     "output_type": "execute_result"
    }
   ],
   "source": [
    "dfm_accidentes.columns"
   ]
  },
  {
   "cell_type": "markdown",
   "metadata": {},
   "source": [
    "### Gravedad con DISTRITO."
   ]
  },
  {
   "cell_type": "code",
   "execution_count": 62,
   "metadata": {},
   "outputs": [
    {
     "data": {
      "text/html": [
       "<div>\n",
       "<style scoped>\n",
       "    .dataframe tbody tr th:only-of-type {\n",
       "        vertical-align: middle;\n",
       "    }\n",
       "\n",
       "    .dataframe tbody tr th {\n",
       "        vertical-align: top;\n",
       "    }\n",
       "\n",
       "    .dataframe thead th {\n",
       "        text-align: right;\n",
       "    }\n",
       "</style>\n",
       "<table border=\"1\" class=\"dataframe\">\n",
       "  <thead>\n",
       "    <tr style=\"text-align: right;\">\n",
       "      <th>DISTRITO</th>\n",
       "      <th>ARGANZUELA</th>\n",
       "      <th>BARAJAS</th>\n",
       "      <th>CARABANCHEL</th>\n",
       "      <th>CENTRO</th>\n",
       "      <th>CHAMARTIN</th>\n",
       "      <th>CHAMBERI</th>\n",
       "      <th>CIUDAD LINEAL</th>\n",
       "      <th>FUENCARRAL-EL PARDO</th>\n",
       "      <th>HORTALEZA</th>\n",
       "      <th>LATINA</th>\n",
       "      <th>...</th>\n",
       "      <th>MORATALAZ</th>\n",
       "      <th>PUENTE DE VALLECAS</th>\n",
       "      <th>RETIRO</th>\n",
       "      <th>SALAMANCA</th>\n",
       "      <th>SAN BLAS</th>\n",
       "      <th>TETUAN</th>\n",
       "      <th>USERA</th>\n",
       "      <th>VICALVARO</th>\n",
       "      <th>VILLA DE VALLECAS</th>\n",
       "      <th>VILLAVERDE</th>\n",
       "    </tr>\n",
       "    <tr>\n",
       "      <th>GRAVEDAD_interv</th>\n",
       "      <th></th>\n",
       "      <th></th>\n",
       "      <th></th>\n",
       "      <th></th>\n",
       "      <th></th>\n",
       "      <th></th>\n",
       "      <th></th>\n",
       "      <th></th>\n",
       "      <th></th>\n",
       "      <th></th>\n",
       "      <th></th>\n",
       "      <th></th>\n",
       "      <th></th>\n",
       "      <th></th>\n",
       "      <th></th>\n",
       "      <th></th>\n",
       "      <th></th>\n",
       "      <th></th>\n",
       "      <th></th>\n",
       "      <th></th>\n",
       "      <th></th>\n",
       "    </tr>\n",
       "  </thead>\n",
       "  <tbody>\n",
       "    <tr>\n",
       "      <th>(0.949, 7.375]</th>\n",
       "      <td>4366</td>\n",
       "      <td>1271</td>\n",
       "      <td>5100</td>\n",
       "      <td>6212</td>\n",
       "      <td>6319</td>\n",
       "      <td>5102</td>\n",
       "      <td>5505</td>\n",
       "      <td>4859</td>\n",
       "      <td>3045</td>\n",
       "      <td>4101</td>\n",
       "      <td>...</td>\n",
       "      <td>2139</td>\n",
       "      <td>5069</td>\n",
       "      <td>4536</td>\n",
       "      <td>6563</td>\n",
       "      <td>3999</td>\n",
       "      <td>4750</td>\n",
       "      <td>2774</td>\n",
       "      <td>1143</td>\n",
       "      <td>1951</td>\n",
       "      <td>2176</td>\n",
       "    </tr>\n",
       "    <tr>\n",
       "      <th>(7.375, 13.75]</th>\n",
       "      <td>37</td>\n",
       "      <td>14</td>\n",
       "      <td>43</td>\n",
       "      <td>37</td>\n",
       "      <td>65</td>\n",
       "      <td>41</td>\n",
       "      <td>40</td>\n",
       "      <td>47</td>\n",
       "      <td>24</td>\n",
       "      <td>54</td>\n",
       "      <td>...</td>\n",
       "      <td>16</td>\n",
       "      <td>66</td>\n",
       "      <td>44</td>\n",
       "      <td>60</td>\n",
       "      <td>42</td>\n",
       "      <td>43</td>\n",
       "      <td>31</td>\n",
       "      <td>13</td>\n",
       "      <td>24</td>\n",
       "      <td>29</td>\n",
       "    </tr>\n",
       "    <tr>\n",
       "      <th>(13.75, 20.125]</th>\n",
       "      <td>2</td>\n",
       "      <td>1</td>\n",
       "      <td>8</td>\n",
       "      <td>5</td>\n",
       "      <td>7</td>\n",
       "      <td>12</td>\n",
       "      <td>7</td>\n",
       "      <td>1</td>\n",
       "      <td>1</td>\n",
       "      <td>3</td>\n",
       "      <td>...</td>\n",
       "      <td>4</td>\n",
       "      <td>8</td>\n",
       "      <td>3</td>\n",
       "      <td>4</td>\n",
       "      <td>4</td>\n",
       "      <td>4</td>\n",
       "      <td>6</td>\n",
       "      <td>1</td>\n",
       "      <td>4</td>\n",
       "      <td>5</td>\n",
       "    </tr>\n",
       "    <tr>\n",
       "      <th>(20.125, 26.5]</th>\n",
       "      <td>0</td>\n",
       "      <td>0</td>\n",
       "      <td>2</td>\n",
       "      <td>0</td>\n",
       "      <td>0</td>\n",
       "      <td>1</td>\n",
       "      <td>1</td>\n",
       "      <td>2</td>\n",
       "      <td>0</td>\n",
       "      <td>0</td>\n",
       "      <td>...</td>\n",
       "      <td>0</td>\n",
       "      <td>2</td>\n",
       "      <td>0</td>\n",
       "      <td>0</td>\n",
       "      <td>1</td>\n",
       "      <td>1</td>\n",
       "      <td>0</td>\n",
       "      <td>0</td>\n",
       "      <td>0</td>\n",
       "      <td>1</td>\n",
       "    </tr>\n",
       "    <tr>\n",
       "      <th>(26.5, 32.875]</th>\n",
       "      <td>0</td>\n",
       "      <td>0</td>\n",
       "      <td>0</td>\n",
       "      <td>2</td>\n",
       "      <td>0</td>\n",
       "      <td>0</td>\n",
       "      <td>0</td>\n",
       "      <td>1</td>\n",
       "      <td>1</td>\n",
       "      <td>0</td>\n",
       "      <td>...</td>\n",
       "      <td>0</td>\n",
       "      <td>0</td>\n",
       "      <td>1</td>\n",
       "      <td>0</td>\n",
       "      <td>0</td>\n",
       "      <td>0</td>\n",
       "      <td>2</td>\n",
       "      <td>0</td>\n",
       "      <td>0</td>\n",
       "      <td>0</td>\n",
       "    </tr>\n",
       "    <tr>\n",
       "      <th>(32.875, 39.25]</th>\n",
       "      <td>1</td>\n",
       "      <td>0</td>\n",
       "      <td>1</td>\n",
       "      <td>0</td>\n",
       "      <td>0</td>\n",
       "      <td>0</td>\n",
       "      <td>1</td>\n",
       "      <td>1</td>\n",
       "      <td>0</td>\n",
       "      <td>0</td>\n",
       "      <td>...</td>\n",
       "      <td>0</td>\n",
       "      <td>0</td>\n",
       "      <td>0</td>\n",
       "      <td>0</td>\n",
       "      <td>0</td>\n",
       "      <td>0</td>\n",
       "      <td>0</td>\n",
       "      <td>0</td>\n",
       "      <td>0</td>\n",
       "      <td>0</td>\n",
       "    </tr>\n",
       "    <tr>\n",
       "      <th>(39.25, 45.625]</th>\n",
       "      <td>0</td>\n",
       "      <td>0</td>\n",
       "      <td>0</td>\n",
       "      <td>0</td>\n",
       "      <td>0</td>\n",
       "      <td>0</td>\n",
       "      <td>0</td>\n",
       "      <td>0</td>\n",
       "      <td>0</td>\n",
       "      <td>1</td>\n",
       "      <td>...</td>\n",
       "      <td>0</td>\n",
       "      <td>0</td>\n",
       "      <td>1</td>\n",
       "      <td>0</td>\n",
       "      <td>0</td>\n",
       "      <td>0</td>\n",
       "      <td>0</td>\n",
       "      <td>0</td>\n",
       "      <td>0</td>\n",
       "      <td>0</td>\n",
       "    </tr>\n",
       "    <tr>\n",
       "      <th>(45.625, 52.0]</th>\n",
       "      <td>0</td>\n",
       "      <td>0</td>\n",
       "      <td>0</td>\n",
       "      <td>0</td>\n",
       "      <td>0</td>\n",
       "      <td>0</td>\n",
       "      <td>0</td>\n",
       "      <td>0</td>\n",
       "      <td>0</td>\n",
       "      <td>0</td>\n",
       "      <td>...</td>\n",
       "      <td>1</td>\n",
       "      <td>0</td>\n",
       "      <td>0</td>\n",
       "      <td>0</td>\n",
       "      <td>0</td>\n",
       "      <td>0</td>\n",
       "      <td>0</td>\n",
       "      <td>0</td>\n",
       "      <td>0</td>\n",
       "      <td>0</td>\n",
       "    </tr>\n",
       "  </tbody>\n",
       "</table>\n",
       "<p>8 rows × 21 columns</p>\n",
       "</div>"
      ],
      "text/plain": [
       "DISTRITO         ARGANZUELA  BARAJAS  CARABANCHEL  CENTRO  CHAMARTIN  \\\n",
       "GRAVEDAD_interv                                                        \n",
       "(0.949, 7.375]         4366     1271         5100    6212       6319   \n",
       "(7.375, 13.75]           37       14           43      37         65   \n",
       "(13.75, 20.125]           2        1            8       5          7   \n",
       "(20.125, 26.5]            0        0            2       0          0   \n",
       "(26.5, 32.875]            0        0            0       2          0   \n",
       "(32.875, 39.25]           1        0            1       0          0   \n",
       "(39.25, 45.625]           0        0            0       0          0   \n",
       "(45.625, 52.0]            0        0            0       0          0   \n",
       "\n",
       "DISTRITO         CHAMBERI  CIUDAD LINEAL  FUENCARRAL-EL PARDO  HORTALEZA  \\\n",
       "GRAVEDAD_interv                                                            \n",
       "(0.949, 7.375]       5102           5505                 4859       3045   \n",
       "(7.375, 13.75]         41             40                   47         24   \n",
       "(13.75, 20.125]        12              7                    1          1   \n",
       "(20.125, 26.5]          1              1                    2          0   \n",
       "(26.5, 32.875]          0              0                    1          1   \n",
       "(32.875, 39.25]         0              1                    1          0   \n",
       "(39.25, 45.625]         0              0                    0          0   \n",
       "(45.625, 52.0]          0              0                    0          0   \n",
       "\n",
       "DISTRITO         LATINA  ...  MORATALAZ  PUENTE DE VALLECAS  RETIRO  \\\n",
       "GRAVEDAD_interv          ...                                          \n",
       "(0.949, 7.375]     4101  ...       2139                5069    4536   \n",
       "(7.375, 13.75]       54  ...         16                  66      44   \n",
       "(13.75, 20.125]       3  ...          4                   8       3   \n",
       "(20.125, 26.5]        0  ...          0                   2       0   \n",
       "(26.5, 32.875]        0  ...          0                   0       1   \n",
       "(32.875, 39.25]       0  ...          0                   0       0   \n",
       "(39.25, 45.625]       1  ...          0                   0       1   \n",
       "(45.625, 52.0]        0  ...          1                   0       0   \n",
       "\n",
       "DISTRITO         SALAMANCA  SAN BLAS  TETUAN  USERA  VICALVARO  \\\n",
       "GRAVEDAD_interv                                                  \n",
       "(0.949, 7.375]        6563      3999    4750   2774       1143   \n",
       "(7.375, 13.75]          60        42      43     31         13   \n",
       "(13.75, 20.125]          4         4       4      6          1   \n",
       "(20.125, 26.5]           0         1       1      0          0   \n",
       "(26.5, 32.875]           0         0       0      2          0   \n",
       "(32.875, 39.25]          0         0       0      0          0   \n",
       "(39.25, 45.625]          0         0       0      0          0   \n",
       "(45.625, 52.0]           0         0       0      0          0   \n",
       "\n",
       "DISTRITO         VILLA DE VALLECAS  VILLAVERDE  \n",
       "GRAVEDAD_interv                                 \n",
       "(0.949, 7.375]                1951        2176  \n",
       "(7.375, 13.75]                  24          29  \n",
       "(13.75, 20.125]                  4           5  \n",
       "(20.125, 26.5]                   0           1  \n",
       "(26.5, 32.875]                   0           0  \n",
       "(32.875, 39.25]                  0           0  \n",
       "(39.25, 45.625]                  0           0  \n",
       "(45.625, 52.0]                   0           0  \n",
       "\n",
       "[8 rows x 21 columns]"
      ]
     },
     "execution_count": 62,
     "metadata": {},
     "output_type": "execute_result"
    },
    {
     "data": {
      "image/png": "[encoded data removed]",
      "text/plain": [
       "<Figure size 1440x576 with 1 Axes>"
      ]
     },
     "metadata": {},
     "output_type": "display_data"
    }
   ],
   "source": [
    "fig_biv10 = plt.figure(figsize=(20,8))\n",
    "sns.countplot(x=\"DISTRITO\", hue=\"GRAVEDAD_interv\", data=dfm_accidentes)\n",
    "\n",
    "cruzada_grave_distrito = pd.crosstab(dfm_accidentes.GRAVEDAD_interv, dfm_accidentes.DISTRITO)\n",
    "cruzada_grave_distrito"
   ]
  },
  {
   "cell_type": "code",
   "execution_count": 63,
   "metadata": {
    "scrolled": false
   },
   "outputs": [
    {
     "data": {
      "text/plain": [
       "(182.42790904893224,\n",
       " 0.009240003215190916,\n",
       " 140,\n",
       " array([[4.35864985e+03, 1.27217969e+03, 5.09861129e+03, 6.18876837e+03,\n",
       "         6.32231756e+03, 5.10058979e+03, 5.49431259e+03, 4.85822274e+03,\n",
       "         3.03799675e+03, 4.11430430e+03, 4.89878213e+03, 2.13678703e+03,\n",
       "         5.08970801e+03, 4.53572618e+03, 6.55578133e+03, 4.00251868e+03,\n",
       "         4.74643713e+03, 2.78276941e+03, 1.14456602e+03, 1.95773220e+03,\n",
       "         2.18723895e+03],\n",
       "        [4.11078475e+01, 1.19983413e+01, 4.80866651e+01, 5.83682919e+01,\n",
       "         5.96278379e+01, 4.81053250e+01, 5.18186530e+01, 4.58194824e+01,\n",
       "         2.86523377e+01, 3.88033450e+01, 4.62020111e+01, 2.01527351e+01,\n",
       "         4.80026953e+01, 4.27779122e+01, 6.18297108e+01, 3.77490584e+01,\n",
       "         4.47651958e+01, 2.62452054e+01, 1.07947752e+01, 1.84640105e+01,\n",
       "         2.06285635e+01],\n",
       "        [4.82129076e+00, 1.40721287e+00, 5.63979405e+00, 6.84566387e+00,\n",
       "         6.99338839e+00, 5.64198256e+00, 6.07749634e+00, 5.37388991e+00,\n",
       "         3.36045936e+00, 4.55100959e+00, 5.41875439e+00, 2.36359238e+00,\n",
       "         5.62994575e+00, 5.01716254e+00, 7.25163274e+00, 4.42735870e+00,\n",
       "         5.25023901e+00, 3.07814138e+00, 1.26605388e+00, 2.16553210e+00,\n",
       "         2.41939943e+00],\n",
       "        [7.10506007e-01, 2.07378739e-01, 8.31127544e-01, 1.00883468e+00,\n",
       "         1.03060461e+00, 8.31450062e-01, 8.95631040e-01, 7.91941670e-01,\n",
       "         4.95225589e-01, 6.70675098e-01, 7.98553279e-01, 3.48318878e-01,\n",
       "         8.29676215e-01, 7.39371321e-01, 1.06866167e+00, 6.52452861e-01,\n",
       "         7.73719433e-01, 4.53620835e-01, 1.86576362e-01, 3.19131046e-01,\n",
       "         3.56543073e-01],\n",
       "        [3.55253003e-01, 1.03689370e-01, 4.15563772e-01, 5.04417338e-01,\n",
       "         5.15302303e-01, 4.15725031e-01, 4.47815520e-01, 3.95970835e-01,\n",
       "         2.47612795e-01, 3.35337549e-01, 3.99276639e-01, 1.74159439e-01,\n",
       "         4.14838108e-01, 3.69685661e-01, 5.34330834e-01, 3.26226430e-01,\n",
       "         3.86859716e-01, 2.26810417e-01, 9.32881809e-02, 1.59565523e-01,\n",
       "         1.78271537e-01],\n",
       "        [2.03001716e-01, 5.92510683e-02, 2.37465013e-01, 2.88238479e-01,\n",
       "         2.94458459e-01, 2.37557160e-01, 2.55894583e-01, 2.26269049e-01,\n",
       "         1.41493026e-01, 1.91621457e-01, 2.28158080e-01, 9.95196793e-02,\n",
       "         2.37050347e-01, 2.11248949e-01, 3.05331905e-01, 1.86415103e-01,\n",
       "         2.21062695e-01, 1.29605953e-01, 5.33075319e-02, 9.11802988e-02,\n",
       "         1.01869450e-01],\n",
       "        [1.01500858e-01, 2.96255342e-02, 1.18732506e-01, 1.44119239e-01,\n",
       "         1.47229229e-01, 1.18778580e-01, 1.27947291e-01, 1.13134524e-01,\n",
       "         7.07465128e-02, 9.58107283e-02, 1.14079040e-01, 4.97598397e-02,\n",
       "         1.18525174e-01, 1.05624474e-01, 1.52665953e-01, 9.32075515e-02,\n",
       "         1.10531348e-01, 6.48029764e-02, 2.66537660e-02, 4.55901494e-02,\n",
       "         5.09347248e-02],\n",
       "        [5.07504291e-02, 1.48127671e-02, 5.93662532e-02, 7.20596197e-02,\n",
       "         7.36146146e-02, 5.93892901e-02, 6.39736457e-02, 5.65672622e-02,\n",
       "         3.53732564e-02, 4.79053642e-02, 5.70395199e-02, 2.48799198e-02,\n",
       "         5.92625868e-02, 5.28122372e-02, 7.63329763e-02, 4.66037758e-02,\n",
       "         5.52656738e-02, 3.24014882e-02, 1.33268830e-02, 2.27950747e-02,\n",
       "         2.54673624e-02]]))"
      ]
     },
     "execution_count": 63,
     "metadata": {},
     "output_type": "execute_result"
    }
   ],
   "source": [
    "stats.chi2_contingency(cruzada_grave_distrito)"
   ]
  },
  {
   "cell_type": "markdown",
   "metadata": {},
   "source": [
    "*dudas menores 5 tabla esperada, por grafica puede que si*"
   ]
  },
  {
   "cell_type": "code",
   "execution_count": null,
   "metadata": {},
   "outputs": [],
   "source": []
  }
 ],
 "metadata": {
  "kernelspec": {
   "display_name": "Python 3",
   "language": "python",
   "name": "python3"
  },
  "language_info": {
   "codemirror_mode": {
    "name": "ipython",
    "version": 3
   },
   "file_extension": ".py",
   "mimetype": "text/x-python",
   "name": "python",
   "nbconvert_exporter": "python",
   "pygments_lexer": "ipython3",
   "version": "3.7.3"
  }
 },
 "nbformat": 4,
 "nbformat_minor": 2
}
