{
 "cells": [
  {
   "cell_type": "markdown",
   "metadata": {},
   "source": [
    "## MODELADO CLASIFICACION NVICTIM_INTERV"
   ]
  },
  {
   "cell_type": "code",
   "execution_count": 1,
   "metadata": {},
   "outputs": [],
   "source": [
    "import numpy as np\n",
    "import pandas as pd\n",
    "import matplotlib.pyplot as plt\n",
    "import seaborn as sns\n",
    "\n",
    "%matplotlib inline"
   ]
  },
  {
   "cell_type": "markdown",
   "metadata": {},
   "source": [
    "### Carga de los datos ya codificados categóricos"
   ]
  },
  {
   "cell_type": "code",
   "execution_count": 2,
   "metadata": {},
   "outputs": [
    {
     "name": "stdout",
     "output_type": "stream",
     "text": [
      "<class 'pandas.core.frame.DataFrame'>\n",
      "RangeIndex: 86817 entries, 0 to 86816\n",
      "Data columns (total 23 columns):\n",
      "MAL_TIEMPO                               86817 non-null int64\n",
      "MAL_ESTADO_SUELO                         86817 non-null int64\n",
      "num_vehic_implic                         86817 non-null int64\n",
      "conductor_menor                          86817 non-null int64\n",
      "conductor_18_34                          86817 non-null int64\n",
      "conductor_35_49                          86817 non-null int64\n",
      "conductor_50_mas                         86817 non-null int64\n",
      "RANGO_HORARIO_DE 00:00 A 7:00            86817 non-null int64\n",
      "RANGO_HORARIO_DE 12:00 A 17:00           86817 non-null int64\n",
      "RANGO_HORARIO_DE 17:00 A 21:00           86817 non-null int64\n",
      "RANGO_HORARIO_DE 21:00 A 00:00           86817 non-null int64\n",
      "RANGO_HORARIO_DE 7:00 A 12:00            86817 non-null int64\n",
      "DIA_SEMANA_FIN DE SEMANA                 86817 non-null int64\n",
      "DIA_SEMANA_LABORABLE                     86817 non-null int64\n",
      "TIPO_ACCIDENTE_ATROPELLO                 86817 non-null int64\n",
      "TIPO_ACCIDENTE_CAIDA BICICLETA           86817 non-null int64\n",
      "TIPO_ACCIDENTE_CAIDA MOTOR_2_3_RUEDAS    86817 non-null int64\n",
      "TIPO_ACCIDENTE_CAIDA VIAJERO BUS         86817 non-null int64\n",
      "TIPO_ACCIDENTE_CHOQUE CON OBJETO FIJO    86817 non-null int64\n",
      "TIPO_ACCIDENTE_COLISION DOBLE            86817 non-null int64\n",
      "TIPO_ACCIDENTE_COLISION MULTIPLE         86817 non-null int64\n",
      "TIPO_ACCIDENTE_VUELCO_OTROS              86817 non-null int64\n",
      "NVICTIM_INTERV                           86817 non-null object\n",
      "dtypes: int64(22), object(1)\n",
      "memory usage: 15.2+ MB\n"
     ]
    }
   ],
   "source": [
    "df_premodelo = pd.read_csv('./madrid_accidentes_modelar_NVICTIM_INTERV_v1_0.csv',encoding='latin1')\n",
    "\n",
    "df_premodelo.info()"
   ]
  },
  {
   "cell_type": "code",
   "execution_count": null,
   "metadata": {},
   "outputs": [],
   "source": []
  },
  {
   "cell_type": "markdown",
   "metadata": {},
   "source": [
    "## SELECCION CARACTERISTICAS"
   ]
  },
  {
   "cell_type": "markdown",
   "metadata": {},
   "source": [
    "Probaremos ranking importancia características y eliminación recursiva (RFE)"
   ]
  },
  {
   "cell_type": "code",
   "execution_count": 3,
   "metadata": {},
   "outputs": [
    {
     "data": {
      "text/plain": [
       "(86817, 22)"
      ]
     },
     "execution_count": 3,
     "metadata": {},
     "output_type": "execute_result"
    }
   ],
   "source": [
    "X = df_premodelo.drop(columns='NVICTIM_INTERV')\n",
    "\n",
    "y = df_premodelo['NVICTIM_INTERV']\n",
    "\n",
    "X.shape"
   ]
  },
  {
   "cell_type": "markdown",
   "metadata": {},
   "source": [
    "### Importancia característica, modelo RF"
   ]
  },
  {
   "cell_type": "code",
   "execution_count": 4,
   "metadata": {},
   "outputs": [
    {
     "data": {
      "text/plain": [
       "RandomForestClassifier(bootstrap=True, ccp_alpha=0.0, class_weight=None,\n",
       "                       criterion='gini', max_depth=None, max_features='auto',\n",
       "                       max_leaf_nodes=None, max_samples=None,\n",
       "                       min_impurity_decrease=0.0, min_impurity_split=None,\n",
       "                       min_samples_leaf=1, min_samples_split=2,\n",
       "                       min_weight_fraction_leaf=0.0, n_estimators=500,\n",
       "                       n_jobs=None, oob_score=False, random_state=42, verbose=0,\n",
       "                       warm_start=False)"
      ]
     },
     "execution_count": 4,
     "metadata": {},
     "output_type": "execute_result"
    }
   ],
   "source": [
    "from sklearn.ensemble import RandomForestClassifier\n",
    "\n",
    "model_RF_ranking = RandomForestClassifier(n_estimators=500,random_state=42)\n",
    "\n",
    "model_RF_ranking.fit(X, y)"
   ]
  },
  {
   "cell_type": "code",
   "execution_count": 5,
   "metadata": {},
   "outputs": [
    {
     "data": {
      "text/plain": [
       "num_vehic_implic                         0.213344\n",
       "TIPO_ACCIDENTE_COLISION MULTIPLE         0.119474\n",
       "conductor_18_34                          0.087695\n",
       "conductor_35_49                          0.081014\n",
       "TIPO_ACCIDENTE_CAIDA MOTOR_2_3_RUEDAS    0.068596\n",
       "conductor_50_mas                         0.064594\n",
       "TIPO_ACCIDENTE_COLISION DOBLE            0.052645\n",
       "RANGO_HORARIO_DE 00:00 A 7:00            0.044811\n",
       "MAL_ESTADO_SUELO                         0.035470\n",
       "MAL_TIEMPO                               0.034006\n",
       "TIPO_ACCIDENTE_ATROPELLO                 0.025405\n",
       "RANGO_HORARIO_DE 7:00 A 12:00            0.021158\n",
       "DIA_SEMANA_FIN DE SEMANA                 0.019492\n",
       "RANGO_HORARIO_DE 12:00 A 17:00           0.018086\n",
       "DIA_SEMANA_LABORABLE                     0.018073\n",
       "TIPO_ACCIDENTE_CAIDA BICICLETA           0.017980\n",
       "RANGO_HORARIO_DE 17:00 A 21:00           0.017827\n",
       "RANGO_HORARIO_DE 21:00 A 00:00           0.016384\n",
       "TIPO_ACCIDENTE_CHOQUE CON OBJETO FIJO    0.016109\n",
       "conductor_menor                          0.013364\n",
       "TIPO_ACCIDENTE_VUELCO_OTROS              0.007435\n",
       "TIPO_ACCIDENTE_CAIDA VIAJERO BUS         0.007038\n",
       "dtype: float64"
      ]
     },
     "execution_count": 5,
     "metadata": {},
     "output_type": "execute_result"
    }
   ],
   "source": [
    "ranking_RF = pd.Series(model_RF_ranking.feature_importances_,index=X.columns)\n",
    "\n",
    "ranking_RF.sort_values(ascending=False)"
   ]
  },
  {
   "cell_type": "code",
   "execution_count": null,
   "metadata": {},
   "outputs": [],
   "source": []
  },
  {
   "cell_type": "markdown",
   "metadata": {},
   "source": [
    "### RFE  (ELIMINACION RECURSIVA)"
   ]
  },
  {
   "cell_type": "code",
   "execution_count": 6,
   "metadata": {},
   "outputs": [],
   "source": [
    "from sklearn.feature_selection import RFE\n",
    "from sklearn.linear_model import LogisticRegression, SGDClassifier"
   ]
  },
  {
   "cell_type": "code",
   "execution_count": 7,
   "metadata": {},
   "outputs": [],
   "source": [
    "\n",
    "model_RFE = RandomForestClassifier(random_state=42)\n",
    "rfe = RFE(model_RFE, 8)\n",
    "\n",
    "fit_RFE = rfe.fit(X, y)\n"
   ]
  },
  {
   "cell_type": "code",
   "execution_count": 8,
   "metadata": {},
   "outputs": [
    {
     "data": {
      "text/plain": [
       "1                          num_vehic_implic\n",
       "1             TIPO_ACCIDENTE_COLISION DOBLE\n",
       "1                           conductor_18_34\n",
       "1                           conductor_35_49\n",
       "1             RANGO_HORARIO_DE 00:00 A 7:00\n",
       "1     TIPO_ACCIDENTE_CAIDA MOTOR_2_3_RUEDAS\n",
       "1          TIPO_ACCIDENTE_COLISION MULTIPLE\n",
       "1                  DIA_SEMANA_FIN DE SEMANA\n",
       "2                          conductor_50_mas\n",
       "3                  TIPO_ACCIDENTE_ATROPELLO\n",
       "4             RANGO_HORARIO_DE 7:00 A 12:00\n",
       "5                          MAL_ESTADO_SUELO\n",
       "6                                MAL_TIEMPO\n",
       "7            RANGO_HORARIO_DE 17:00 A 21:00\n",
       "8            RANGO_HORARIO_DE 12:00 A 17:00\n",
       "9            TIPO_ACCIDENTE_CAIDA BICICLETA\n",
       "10    TIPO_ACCIDENTE_CHOQUE CON OBJETO FIJO\n",
       "11                     DIA_SEMANA_LABORABLE\n",
       "12           RANGO_HORARIO_DE 21:00 A 00:00\n",
       "13                          conductor_menor\n",
       "14              TIPO_ACCIDENTE_VUELCO_OTROS\n",
       "15         TIPO_ACCIDENTE_CAIDA VIAJERO BUS\n",
       "dtype: object"
      ]
     },
     "execution_count": 8,
     "metadata": {},
     "output_type": "execute_result"
    }
   ],
   "source": [
    "ranking_RFE = pd.Series(X.columns.values, index=fit_RFE.ranking_)\n",
    "\n",
    "ranking_RFE.sort_index()"
   ]
  },
  {
   "cell_type": "markdown",
   "metadata": {},
   "source": [
    "### Tabla resumen seleccion caracteristicas."
   ]
  },
  {
   "cell_type": "code",
   "execution_count": 9,
   "metadata": {},
   "outputs": [
    {
     "data": {
      "text/html": [
       "<div>\n",
       "<style scoped>\n",
       "    .dataframe tbody tr th:only-of-type {\n",
       "        vertical-align: middle;\n",
       "    }\n",
       "\n",
       "    .dataframe tbody tr th {\n",
       "        vertical-align: top;\n",
       "    }\n",
       "\n",
       "    .dataframe thead th {\n",
       "        text-align: right;\n",
       "    }\n",
       "</style>\n",
       "<table border=\"1\" class=\"dataframe\">\n",
       "  <thead>\n",
       "    <tr style=\"text-align: right;\">\n",
       "      <th></th>\n",
       "      <th>RF_importance</th>\n",
       "      <th>orden_RFE</th>\n",
       "      <th>atributo_RFE</th>\n",
       "    </tr>\n",
       "  </thead>\n",
       "  <tbody>\n",
       "    <tr>\n",
       "      <th>0</th>\n",
       "      <td>num_vehic_implic</td>\n",
       "      <td>1</td>\n",
       "      <td>num_vehic_implic</td>\n",
       "    </tr>\n",
       "    <tr>\n",
       "      <th>1</th>\n",
       "      <td>TIPO_ACCIDENTE_COLISION MULTIPLE</td>\n",
       "      <td>1</td>\n",
       "      <td>TIPO_ACCIDENTE_COLISION DOBLE</td>\n",
       "    </tr>\n",
       "    <tr>\n",
       "      <th>2</th>\n",
       "      <td>conductor_18_34</td>\n",
       "      <td>1</td>\n",
       "      <td>conductor_18_34</td>\n",
       "    </tr>\n",
       "    <tr>\n",
       "      <th>3</th>\n",
       "      <td>conductor_35_49</td>\n",
       "      <td>1</td>\n",
       "      <td>conductor_35_49</td>\n",
       "    </tr>\n",
       "    <tr>\n",
       "      <th>4</th>\n",
       "      <td>TIPO_ACCIDENTE_CAIDA MOTOR_2_3_RUEDAS</td>\n",
       "      <td>1</td>\n",
       "      <td>RANGO_HORARIO_DE 00:00 A 7:00</td>\n",
       "    </tr>\n",
       "    <tr>\n",
       "      <th>5</th>\n",
       "      <td>conductor_50_mas</td>\n",
       "      <td>1</td>\n",
       "      <td>TIPO_ACCIDENTE_CAIDA MOTOR_2_3_RUEDAS</td>\n",
       "    </tr>\n",
       "    <tr>\n",
       "      <th>6</th>\n",
       "      <td>TIPO_ACCIDENTE_COLISION DOBLE</td>\n",
       "      <td>1</td>\n",
       "      <td>TIPO_ACCIDENTE_COLISION MULTIPLE</td>\n",
       "    </tr>\n",
       "    <tr>\n",
       "      <th>7</th>\n",
       "      <td>RANGO_HORARIO_DE 00:00 A 7:00</td>\n",
       "      <td>1</td>\n",
       "      <td>DIA_SEMANA_FIN DE SEMANA</td>\n",
       "    </tr>\n",
       "    <tr>\n",
       "      <th>8</th>\n",
       "      <td>MAL_ESTADO_SUELO</td>\n",
       "      <td>2</td>\n",
       "      <td>conductor_50_mas</td>\n",
       "    </tr>\n",
       "    <tr>\n",
       "      <th>9</th>\n",
       "      <td>MAL_TIEMPO</td>\n",
       "      <td>3</td>\n",
       "      <td>TIPO_ACCIDENTE_ATROPELLO</td>\n",
       "    </tr>\n",
       "    <tr>\n",
       "      <th>10</th>\n",
       "      <td>TIPO_ACCIDENTE_ATROPELLO</td>\n",
       "      <td>4</td>\n",
       "      <td>RANGO_HORARIO_DE 7:00 A 12:00</td>\n",
       "    </tr>\n",
       "    <tr>\n",
       "      <th>11</th>\n",
       "      <td>RANGO_HORARIO_DE 7:00 A 12:00</td>\n",
       "      <td>5</td>\n",
       "      <td>MAL_ESTADO_SUELO</td>\n",
       "    </tr>\n",
       "    <tr>\n",
       "      <th>12</th>\n",
       "      <td>DIA_SEMANA_FIN DE SEMANA</td>\n",
       "      <td>6</td>\n",
       "      <td>MAL_TIEMPO</td>\n",
       "    </tr>\n",
       "    <tr>\n",
       "      <th>13</th>\n",
       "      <td>RANGO_HORARIO_DE 12:00 A 17:00</td>\n",
       "      <td>7</td>\n",
       "      <td>RANGO_HORARIO_DE 17:00 A 21:00</td>\n",
       "    </tr>\n",
       "    <tr>\n",
       "      <th>14</th>\n",
       "      <td>DIA_SEMANA_LABORABLE</td>\n",
       "      <td>8</td>\n",
       "      <td>RANGO_HORARIO_DE 12:00 A 17:00</td>\n",
       "    </tr>\n",
       "    <tr>\n",
       "      <th>15</th>\n",
       "      <td>TIPO_ACCIDENTE_CAIDA BICICLETA</td>\n",
       "      <td>9</td>\n",
       "      <td>TIPO_ACCIDENTE_CAIDA BICICLETA</td>\n",
       "    </tr>\n",
       "    <tr>\n",
       "      <th>16</th>\n",
       "      <td>RANGO_HORARIO_DE 17:00 A 21:00</td>\n",
       "      <td>10</td>\n",
       "      <td>TIPO_ACCIDENTE_CHOQUE CON OBJETO FIJO</td>\n",
       "    </tr>\n",
       "    <tr>\n",
       "      <th>17</th>\n",
       "      <td>RANGO_HORARIO_DE 21:00 A 00:00</td>\n",
       "      <td>11</td>\n",
       "      <td>DIA_SEMANA_LABORABLE</td>\n",
       "    </tr>\n",
       "    <tr>\n",
       "      <th>18</th>\n",
       "      <td>TIPO_ACCIDENTE_CHOQUE CON OBJETO FIJO</td>\n",
       "      <td>12</td>\n",
       "      <td>RANGO_HORARIO_DE 21:00 A 00:00</td>\n",
       "    </tr>\n",
       "    <tr>\n",
       "      <th>19</th>\n",
       "      <td>conductor_menor</td>\n",
       "      <td>13</td>\n",
       "      <td>conductor_menor</td>\n",
       "    </tr>\n",
       "    <tr>\n",
       "      <th>20</th>\n",
       "      <td>TIPO_ACCIDENTE_VUELCO_OTROS</td>\n",
       "      <td>14</td>\n",
       "      <td>TIPO_ACCIDENTE_VUELCO_OTROS</td>\n",
       "    </tr>\n",
       "    <tr>\n",
       "      <th>21</th>\n",
       "      <td>TIPO_ACCIDENTE_CAIDA VIAJERO BUS</td>\n",
       "      <td>15</td>\n",
       "      <td>TIPO_ACCIDENTE_CAIDA VIAJERO BUS</td>\n",
       "    </tr>\n",
       "  </tbody>\n",
       "</table>\n",
       "</div>"
      ],
      "text/plain": [
       "                            RF_importance  orden_RFE  \\\n",
       "0                        num_vehic_implic          1   \n",
       "1        TIPO_ACCIDENTE_COLISION MULTIPLE          1   \n",
       "2                         conductor_18_34          1   \n",
       "3                         conductor_35_49          1   \n",
       "4   TIPO_ACCIDENTE_CAIDA MOTOR_2_3_RUEDAS          1   \n",
       "5                        conductor_50_mas          1   \n",
       "6           TIPO_ACCIDENTE_COLISION DOBLE          1   \n",
       "7           RANGO_HORARIO_DE 00:00 A 7:00          1   \n",
       "8                        MAL_ESTADO_SUELO          2   \n",
       "9                              MAL_TIEMPO          3   \n",
       "10               TIPO_ACCIDENTE_ATROPELLO          4   \n",
       "11          RANGO_HORARIO_DE 7:00 A 12:00          5   \n",
       "12               DIA_SEMANA_FIN DE SEMANA          6   \n",
       "13         RANGO_HORARIO_DE 12:00 A 17:00          7   \n",
       "14                   DIA_SEMANA_LABORABLE          8   \n",
       "15         TIPO_ACCIDENTE_CAIDA BICICLETA          9   \n",
       "16         RANGO_HORARIO_DE 17:00 A 21:00         10   \n",
       "17         RANGO_HORARIO_DE 21:00 A 00:00         11   \n",
       "18  TIPO_ACCIDENTE_CHOQUE CON OBJETO FIJO         12   \n",
       "19                        conductor_menor         13   \n",
       "20            TIPO_ACCIDENTE_VUELCO_OTROS         14   \n",
       "21       TIPO_ACCIDENTE_CAIDA VIAJERO BUS         15   \n",
       "\n",
       "                             atributo_RFE  \n",
       "0                        num_vehic_implic  \n",
       "1           TIPO_ACCIDENTE_COLISION DOBLE  \n",
       "2                         conductor_18_34  \n",
       "3                         conductor_35_49  \n",
       "4           RANGO_HORARIO_DE 00:00 A 7:00  \n",
       "5   TIPO_ACCIDENTE_CAIDA MOTOR_2_3_RUEDAS  \n",
       "6        TIPO_ACCIDENTE_COLISION MULTIPLE  \n",
       "7                DIA_SEMANA_FIN DE SEMANA  \n",
       "8                        conductor_50_mas  \n",
       "9                TIPO_ACCIDENTE_ATROPELLO  \n",
       "10          RANGO_HORARIO_DE 7:00 A 12:00  \n",
       "11                       MAL_ESTADO_SUELO  \n",
       "12                             MAL_TIEMPO  \n",
       "13         RANGO_HORARIO_DE 17:00 A 21:00  \n",
       "14         RANGO_HORARIO_DE 12:00 A 17:00  \n",
       "15         TIPO_ACCIDENTE_CAIDA BICICLETA  \n",
       "16  TIPO_ACCIDENTE_CHOQUE CON OBJETO FIJO  \n",
       "17                   DIA_SEMANA_LABORABLE  \n",
       "18         RANGO_HORARIO_DE 21:00 A 00:00  \n",
       "19                        conductor_menor  \n",
       "20            TIPO_ACCIDENTE_VUELCO_OTROS  \n",
       "21       TIPO_ACCIDENTE_CAIDA VIAJERO BUS  "
      ]
     },
     "execution_count": 9,
     "metadata": {},
     "output_type": "execute_result"
    }
   ],
   "source": [
    "tabla_ranking = pd.DataFrame({'RF_importance': ranking_RF.sort_values(ascending=False).index, \\\n",
    "                             'orden_RFE': ranking_RFE.sort_index().index, 'atributo_RFE': ranking_RFE.sort_index().values})\n",
    "\n",
    "tabla_ranking"
   ]
  },
  {
   "cell_type": "markdown",
   "metadata": {},
   "source": [
    "Nos quedamos con las de RFE, eliminamos las descartadas."
   ]
  },
  {
   "cell_type": "code",
   "execution_count": 10,
   "metadata": {},
   "outputs": [
    {
     "data": {
      "text/plain": [
       "(86817, 8)"
      ]
     },
     "execution_count": 10,
     "metadata": {},
     "output_type": "execute_result"
    }
   ],
   "source": [
    "X.drop(columns=['RANGO_HORARIO_DE 12:00 A 17:00','RANGO_HORARIO_DE 17:00 A 21:00','RANGO_HORARIO_DE 7:00 A 12:00', \\\n",
    "                'TIPO_ACCIDENTE_CAIDA BICICLETA','TIPO_ACCIDENTE_ATROPELLO','conductor_50_mas', \\\n",
    "                'MAL_ESTADO_SUELO','MAL_TIEMPO', \\\n",
    "                'TIPO_ACCIDENTE_CHOQUE CON OBJETO FIJO','DIA_SEMANA_LABORABLE','RANGO_HORARIO_DE 21:00 A 00:00', \\\n",
    "                'conductor_menor','TIPO_ACCIDENTE_VUELCO_OTROS','TIPO_ACCIDENTE_CAIDA VIAJERO BUS'], inplace=True)\n",
    "\n",
    "X.shape"
   ]
  },
  {
   "cell_type": "code",
   "execution_count": 11,
   "metadata": {},
   "outputs": [
    {
     "data": {
      "text/plain": [
       "Index(['num_vehic_implic', 'conductor_18_34', 'conductor_35_49',\n",
       "       'RANGO_HORARIO_DE 00:00 A 7:00', 'DIA_SEMANA_FIN DE SEMANA',\n",
       "       'TIPO_ACCIDENTE_CAIDA MOTOR_2_3_RUEDAS',\n",
       "       'TIPO_ACCIDENTE_COLISION DOBLE', 'TIPO_ACCIDENTE_COLISION MULTIPLE'],\n",
       "      dtype='object')"
      ]
     },
     "execution_count": 11,
     "metadata": {},
     "output_type": "execute_result"
    }
   ],
   "source": [
    "X.columns"
   ]
  },
  {
   "cell_type": "markdown",
   "metadata": {},
   "source": [
    "### SEPARACIÓN CONJUNTOS TRAIN Y TEST ESTRATIFICADO"
   ]
  },
  {
   "cell_type": "code",
   "execution_count": 12,
   "metadata": {},
   "outputs": [],
   "source": [
    "from sklearn.model_selection import StratifiedShuffleSplit\n",
    "\n",
    "train_test_split = StratifiedShuffleSplit(n_splits=1, test_size=0.3, random_state=42)\n",
    "\n",
    "for train_index, test_index in train_test_split.split(X, y):\n",
    "    \n",
    "    X_train, X_test = X.loc[train_index], X.loc[test_index]\n",
    "    \n",
    "    y_train, y_test = y[train_index], y[test_index]"
   ]
  },
  {
   "cell_type": "code",
   "execution_count": 13,
   "metadata": {},
   "outputs": [
    {
     "data": {
      "text/plain": [
       "LEVE           0.804561\n",
       "MEDIA/GRAVE    0.195439\n",
       "Name: NVICTIM_INTERV, dtype: float64"
      ]
     },
     "execution_count": 13,
     "metadata": {},
     "output_type": "execute_result"
    }
   ],
   "source": [
    "y_train.value_counts(normalize=True)"
   ]
  },
  {
   "cell_type": "code",
   "execution_count": 14,
   "metadata": {},
   "outputs": [
    {
     "data": {
      "text/plain": [
       "LEVE           0.804538\n",
       "MEDIA/GRAVE    0.195462\n",
       "Name: NVICTIM_INTERV, dtype: float64"
      ]
     },
     "execution_count": 14,
     "metadata": {},
     "output_type": "execute_result"
    }
   ],
   "source": [
    "y_test.value_counts(normalize=True)"
   ]
  },
  {
   "cell_type": "code",
   "execution_count": null,
   "metadata": {},
   "outputs": [],
   "source": []
  },
  {
   "cell_type": "markdown",
   "metadata": {},
   "source": [
    "### PRUEBA DE DISTINTOS MODELOS (Ensembles) con datos originales, sin aplicar resampling."
   ]
  },
  {
   "cell_type": "markdown",
   "metadata": {},
   "source": [
    "### acciones comunes a todos los modelos"
   ]
  },
  {
   "cell_type": "code",
   "execution_count": 15,
   "metadata": {},
   "outputs": [],
   "source": [
    "from sklearn.model_selection import StratifiedKFold, cross_val_score\n",
    "from sklearn.metrics import classification_report, confusion_matrix\n",
    "from sklearn.metrics import f1_score \n",
    "\n",
    "# la division de los K-folds para la validación cruzada también estratificada, dado el desequiibrio en la target\n",
    "num_folds = 10\n",
    "skf = StratifiedKFold(n_splits=num_folds)\n",
    "\n",
    "# designamos métrica para evaluación AUC\n",
    "scoring = 'roc_auc'\n"
   ]
  },
  {
   "cell_type": "markdown",
   "metadata": {},
   "source": [
    "### Random Forest"
   ]
  },
  {
   "cell_type": "code",
   "execution_count": 16,
   "metadata": {},
   "outputs": [
    {
     "name": "stdout",
     "output_type": "stream",
     "text": [
      "Random Forest:\n",
      "\n",
      "Media: 0.6803587341368733  Desviación: 0.004965049316342862\n"
     ]
    }
   ],
   "source": [
    "from sklearn.ensemble import RandomForestClassifier\n",
    "\n",
    "n_trees = 100\n",
    "modelo_RF = RandomForestClassifier(n_estimators=n_trees, n_jobs=-1, random_state=42)\n",
    "\n",
    "resultadosRF = cross_val_score(modelo_RF, X_train, y_train, cv=skf, scoring=scoring)\n",
    "\n",
    "print('Random Forest:\\n')\n",
    "print('Media:',resultadosRF.mean(),' Desviación:',resultadosRF.std())\n"
   ]
  },
  {
   "cell_type": "code",
   "execution_count": 17,
   "metadata": {},
   "outputs": [
    {
     "name": "stdout",
     "output_type": "stream",
     "text": [
      "Classification Report Random Forest: \n",
      "               precision    recall  f1-score   support\n",
      "\n",
      "        LEVE       0.81      0.99      0.89     20955\n",
      " MEDIA/GRAVE       0.52      0.06      0.11      5091\n",
      "\n",
      "    accuracy                           0.81     26046\n",
      "   macro avg       0.67      0.52      0.50     26046\n",
      "weighted avg       0.75      0.81      0.74     26046\n",
      "\n"
     ]
    }
   ],
   "source": [
    "\n",
    "modelo_RF.fit(X_train, y_train)\n",
    "\n",
    "y_preds = modelo_RF.predict(X_test)\n",
    "\n",
    "report = classification_report(y_test, y_preds)\n",
    "print('Classification Report Random Forest: \\n', report)\n"
   ]
  },
  {
   "cell_type": "markdown",
   "metadata": {},
   "source": [
    "Fila MODERADA/GRAVE, valor de recall muy pequeño supone que el número de FN (MEDIA/GRAVE), la minoritaria, clasificada como LEVE , la mayoritaria) supera en mucho a los bien clasificados como MODERADA/GRAVE (TP).\n",
    "\n",
    "Vemos el problema de detección de la clase minoritaria debido al desequilibrio entre las clases."
   ]
  },
  {
   "cell_type": "code",
   "execution_count": 18,
   "metadata": {},
   "outputs": [
    {
     "data": {
      "image/png": "[encoded data removed]",
      "text/plain": [
       "<Figure size 432x288 with 2 Axes>"
      ]
     },
     "metadata": {
      "needs_background": "light"
     },
     "output_type": "display_data"
    }
   ],
   "source": [
    "# create confusion matrix\n",
    "mat_conf = confusion_matrix(y_test, y_preds)\n",
    "\n",
    "# create dataframe\n",
    "dataframe = pd.DataFrame(mat_conf, index=['LEVE', 'MEDIA/GRAVE'], columns=['LEVE', 'MEDIA/GRAVE'])\n",
    "\n",
    "# create heatmap\n",
    "sns.heatmap(dataframe, annot=True, cbar=True, cmap='Blues')\n",
    "plt.title('Confusion Matrix')\n",
    "plt.tight_layout(), plt.xlabel('Predicted Values'), plt.ylabel('True Values')\n",
    "plt.show()"
   ]
  },
  {
   "cell_type": "markdown",
   "metadata": {},
   "source": [
    "Podemos comprobar en la matriz de confusión como habíamos comentado que el número de MODERADA/GRAVE mal clasificado como leve supera al buen clasificado."
   ]
  },
  {
   "cell_type": "markdown",
   "metadata": {},
   "source": [
    "### AdaBoost Classifier."
   ]
  },
  {
   "cell_type": "code",
   "execution_count": 20,
   "metadata": {},
   "outputs": [
    {
     "name": "stdout",
     "output_type": "stream",
     "text": [
      "AdaBoost:\n",
      "\n",
      "Media: 0.6811175922928964  Desviación: 0.004541866449306758\n"
     ]
    }
   ],
   "source": [
    "from sklearn.ensemble import AdaBoostClassifier\n",
    "\n",
    "num_trees = 100\n",
    "modelo_AdaBoost = AdaBoostClassifier(n_estimators=num_trees, random_state=42)\n",
    "\n",
    "resultadosAdaB = cross_val_score(modelo_AdaBoost, X_train, y_train, cv=skf, scoring=scoring)\n",
    "\n",
    "print('AdaBoost:\\n')\n",
    "print('Media:',resultadosAdaB.mean(),' Desviación:',resultadosAdaB.std())\n",
    "\n"
   ]
  },
  {
   "cell_type": "markdown",
   "metadata": {},
   "source": [
    "De nuevo valor muy bajo, examinemos informe de clasificacion y matriz de confusion."
   ]
  },
  {
   "cell_type": "code",
   "execution_count": 21,
   "metadata": {},
   "outputs": [
    {
     "name": "stdout",
     "output_type": "stream",
     "text": [
      "Classification Report AdaBoost Classifier: \n",
      "               precision    recall  f1-score   support\n",
      "\n",
      "        LEVE       0.81      0.99      0.89     20955\n",
      " MEDIA/GRAVE       0.55      0.05      0.10      5091\n",
      "\n",
      "    accuracy                           0.81     26046\n",
      "   macro avg       0.68      0.52      0.49     26046\n",
      "weighted avg       0.76      0.81      0.74     26046\n",
      "\n"
     ]
    }
   ],
   "source": [
    "\n",
    "modelo_AdaBoost.fit(X_train, y_train)\n",
    "\n",
    "y_preds = modelo_AdaBoost.predict(X_test)\n",
    "\n",
    "report = classification_report(y_test, y_preds)\n",
    "print('Classification Report AdaBoost Classifier: \\n', report)\n"
   ]
  },
  {
   "cell_type": "markdown",
   "metadata": {},
   "source": [
    "De nuevo valor muy bajo de recall para la clase minoritaria MEDIA/GRAVE, los valores mal clasificados de esa clase (FN) superan bastante a los bien clasificados (TP). Veamos la matriz de confusión."
   ]
  },
  {
   "cell_type": "code",
   "execution_count": 22,
   "metadata": {},
   "outputs": [
    {
     "data": {
      "image/png": "[encoded data removed]",
      "text/plain": [
       "<Figure size 432x288 with 2 Axes>"
      ]
     },
     "metadata": {
      "needs_background": "light"
     },
     "output_type": "display_data"
    }
   ],
   "source": [
    "# create confusion matrix\n",
    "mat_conf = confusion_matrix(y_test, y_preds)\n",
    "\n",
    "# create dataframe\n",
    "dataframe = pd.DataFrame(mat_conf, index=['LEVE', 'MEDIA/GRAVE'], columns=['LEVE', 'MEDIA/GRAVE'])\n",
    "\n",
    "# create heatmap\n",
    "sns.heatmap(dataframe, annot=True, cbar=True, cmap='Blues')\n",
    "plt.title('Confusion Matrix')\n",
    "plt.tight_layout(), plt.xlabel('Predicted Values'), plt.ylabel('True Values')\n",
    "plt.show()"
   ]
  },
  {
   "cell_type": "markdown",
   "metadata": {},
   "source": [
    "Donde vemos que de hecho los supera en un orden de magnitud."
   ]
  },
  {
   "cell_type": "code",
   "execution_count": null,
   "metadata": {},
   "outputs": [],
   "source": []
  },
  {
   "cell_type": "markdown",
   "metadata": {},
   "source": [
    "## IMBALANCED LEARNING: casos de clasificación con el número de observaciones por clase desequilibrado"
   ]
  },
  {
   "cell_type": "markdown",
   "metadata": {},
   "source": [
    "Explicar que los malos resultados se deben al target desbalanceado, cuesta detectar el minoritario y que es necesario tecnicads de resampling"
   ]
  },
  {
   "cell_type": "markdown",
   "metadata": {},
   "source": [
    "#### SMOTE"
   ]
  },
  {
   "cell_type": "code",
   "execution_count": 24,
   "metadata": {},
   "outputs": [
    {
     "data": {
      "text/plain": [
       "((97788, 8), (97788,))"
      ]
     },
     "execution_count": 24,
     "metadata": {},
     "output_type": "execute_result"
    }
   ],
   "source": [
    "from imblearn.over_sampling import SMOTE\n",
    "\n",
    "smote = SMOTE(sampling_strategy='minority', random_state=42, n_jobs=-1)\n",
    "\n",
    "X_train_rsmpl, y_train_rsmpl = smote.fit_sample(X_train, y_train)\n",
    "\n",
    "X_train_rsmpl.shape, y_train_rsmpl.shape"
   ]
  },
  {
   "cell_type": "code",
   "execution_count": 25,
   "metadata": {},
   "outputs": [
    {
     "data": {
      "text/plain": [
       "LEVE           48894\n",
       "MEDIA/GRAVE    11877\n",
       "Name: NVICTIM_INTERV, dtype: int64"
      ]
     },
     "execution_count": 25,
     "metadata": {},
     "output_type": "execute_result"
    }
   ],
   "source": [
    "# TARGET ORIGINAL, Nº OBSERVACIONES DE CADA CLASE\n",
    "y_train.value_counts()"
   ]
  },
  {
   "cell_type": "code",
   "execution_count": 26,
   "metadata": {},
   "outputs": [
    {
     "data": {
      "text/plain": [
       "LEVE           48894\n",
       "MEDIA/GRAVE    48894\n",
       "Name: NVICTIM_INTERV, dtype: int64"
      ]
     },
     "execution_count": 26,
     "metadata": {},
     "output_type": "execute_result"
    }
   ],
   "source": [
    "# TARGET APLICADO OVERSAMPLING (SMOTE)\n",
    "y_train_rsmpl.value_counts()"
   ]
  },
  {
   "cell_type": "code",
   "execution_count": null,
   "metadata": {},
   "outputs": [],
   "source": []
  },
  {
   "cell_type": "markdown",
   "metadata": {},
   "source": [
    "## Naive Bayes"
   ]
  },
  {
   "cell_type": "code",
   "execution_count": 27,
   "metadata": {},
   "outputs": [
    {
     "name": "stdout",
     "output_type": "stream",
     "text": [
      "Naive Bayes:\n",
      "\n",
      "Media: 0.675185820013523  Desviación: 0.00420255856551884\n"
     ]
    }
   ],
   "source": [
    "from sklearn.naive_bayes import GaussianNB\n",
    "\n",
    "modelo_GNBy = GaussianNB()\n",
    "\n",
    "resultadosGNBy = cross_val_score(modelo_GNBy, X_train_rsmpl, y_train_rsmpl, cv=skf, scoring=scoring)\n",
    "\n",
    "print('Naive Bayes:\\n')\n",
    "print('Media:',resultadosGNBy.mean(),' Desviación:',resultadosGNBy.std())\n",
    "\n"
   ]
  },
  {
   "cell_type": "code",
   "execution_count": 28,
   "metadata": {},
   "outputs": [
    {
     "name": "stdout",
     "output_type": "stream",
     "text": [
      "Classification Report NAIVE BAYES: \n",
      "               precision    recall  f1-score   support\n",
      "\n",
      "        LEVE       0.86      0.65      0.74     20955\n",
      " MEDIA/GRAVE       0.29      0.57      0.38      5091\n",
      "\n",
      "    accuracy                           0.64     26046\n",
      "   macro avg       0.57      0.61      0.56     26046\n",
      "weighted avg       0.75      0.64      0.67     26046\n",
      "\n"
     ]
    }
   ],
   "source": [
    "\n",
    "modelo_GNBy.fit(X_train_rsmpl, y_train_rsmpl)\n",
    "\n",
    "y_preds = modelo_GNBy.predict(X_test)\n",
    "\n",
    "report = classification_report(y_test, y_preds)\n",
    "print('Classification Report NAIVE BAYES: \\n', report)\n"
   ]
  },
  {
   "cell_type": "code",
   "execution_count": 29,
   "metadata": {},
   "outputs": [
    {
     "data": {
      "image/png": "[encoded data removed]",
      "text/plain": [
       "<Figure size 432x288 with 2 Axes>"
      ]
     },
     "metadata": {
      "needs_background": "light"
     },
     "output_type": "display_data"
    }
   ],
   "source": [
    "# create confusion matrix\n",
    "mat_conf = confusion_matrix(y_test, y_preds)\n",
    "\n",
    "# create dataframe\n",
    "dataframe = pd.DataFrame(mat_conf, index=['LEVE', 'MEDIA/GRAVE'], columns=['LEVE', 'MEDIA/GRAVE'])\n",
    "\n",
    "# create heatmap\n",
    "sns.heatmap(dataframe, annot=True, cbar=True, cmap='Blues')\n",
    "plt.title('Confusion Matrix')\n",
    "plt.tight_layout(), plt.xlabel('Predicted Values'), plt.ylabel('True Values')\n",
    "plt.show()"
   ]
  },
  {
   "cell_type": "code",
   "execution_count": 30,
   "metadata": {},
   "outputs": [
    {
     "name": "stdout",
     "output_type": "stream",
     "text": [
      "0.3822740066767035\n"
     ]
    }
   ],
   "source": [
    "print(f1_score(y_test,y_preds,pos_label='MEDIA/GRAVE'))\n"
   ]
  },
  {
   "cell_type": "code",
   "execution_count": null,
   "metadata": {},
   "outputs": [],
   "source": []
  },
  {
   "cell_type": "markdown",
   "metadata": {},
   "source": [
    "## Linear Discriminant Analisis (LDA)"
   ]
  },
  {
   "cell_type": "code",
   "execution_count": 31,
   "metadata": {},
   "outputs": [
    {
     "name": "stdout",
     "output_type": "stream",
     "text": [
      "LDA:\n",
      "\n",
      "Media: 0.6812023162536749  Desviación: 0.004473889677103071\n"
     ]
    }
   ],
   "source": [
    "from sklearn.discriminant_analysis import LinearDiscriminantAnalysis\n",
    "\n",
    "modelo_LDA = LinearDiscriminantAnalysis()\n",
    "\n",
    "resultadosLDA = cross_val_score(modelo_LDA, X_train_rsmpl, y_train_rsmpl, cv=skf, scoring=scoring)\n",
    "\n",
    "print('LDA:\\n')\n",
    "print('Media:',resultadosLDA.mean(),' Desviación:',resultadosLDA.std())\n",
    "\n"
   ]
  },
  {
   "cell_type": "code",
   "execution_count": 32,
   "metadata": {},
   "outputs": [
    {
     "name": "stdout",
     "output_type": "stream",
     "text": [
      "Classification Report LDA: \n",
      "               precision    recall  f1-score   support\n",
      "\n",
      "        LEVE       0.88      0.53      0.67     20955\n",
      " MEDIA/GRAVE       0.27      0.71      0.39      5091\n",
      "\n",
      "    accuracy                           0.57     26046\n",
      "   macro avg       0.58      0.62      0.53     26046\n",
      "weighted avg       0.76      0.57      0.61     26046\n",
      "\n"
     ]
    }
   ],
   "source": [
    "\n",
    "modelo_LDA.fit(X_train_rsmpl, y_train_rsmpl)\n",
    "\n",
    "y_preds = modelo_LDA.predict(X_test)\n",
    "\n",
    "report = classification_report(y_test, y_preds)\n",
    "print('Classification Report LDA: \\n', report)\n"
   ]
  },
  {
   "cell_type": "code",
   "execution_count": 33,
   "metadata": {},
   "outputs": [
    {
     "data": {
      "image/png": "[encoded data removed]",
      "text/plain": [
       "<Figure size 432x288 with 2 Axes>"
      ]
     },
     "metadata": {
      "needs_background": "light"
     },
     "output_type": "display_data"
    }
   ],
   "source": [
    "# create confusion matrix\n",
    "mat_conf = confusion_matrix(y_test, y_preds)\n",
    "\n",
    "# create dataframe\n",
    "dataframe = pd.DataFrame(mat_conf, index=['LEVE', 'MEDIA/GRAVE'], columns=['LEVE', 'MEDIA/GRAVE'])\n",
    "\n",
    "# create heatmap\n",
    "sns.heatmap(dataframe, annot=True, cbar=True, cmap='Blues')\n",
    "plt.title('Confusion Matrix')\n",
    "plt.tight_layout(), plt.xlabel('Predicted Values'), plt.ylabel('True Values')\n",
    "plt.show()"
   ]
  },
  {
   "cell_type": "code",
   "execution_count": null,
   "metadata": {},
   "outputs": [],
   "source": []
  },
  {
   "cell_type": "markdown",
   "metadata": {},
   "source": [
    "## Decision Trees"
   ]
  },
  {
   "cell_type": "code",
   "execution_count": 35,
   "metadata": {},
   "outputs": [
    {
     "name": "stdout",
     "output_type": "stream",
     "text": [
      "DECISION TREE:\n",
      "\n",
      "Media: 0.6870723593843933  Desviación: 0.004465214307163591\n"
     ]
    }
   ],
   "source": [
    "from sklearn.tree import DecisionTreeClassifier\n",
    "\n",
    "modelo_DesTree = DecisionTreeClassifier(class_weight='balanced', random_state=42)\n",
    "\n",
    "resultadosDesTree = cross_val_score(modelo_DesTree, X_train_rsmpl, y_train_rsmpl, cv=skf, scoring=scoring)\n",
    "\n",
    "print('DECISION TREE:\\n')\n",
    "print('Media:',resultadosDesTree.mean(),' Desviación:',resultadosDesTree.std())\n",
    "\n"
   ]
  },
  {
   "cell_type": "code",
   "execution_count": 36,
   "metadata": {},
   "outputs": [
    {
     "name": "stdout",
     "output_type": "stream",
     "text": [
      "Classification Report LOGISTIC REGRESSION: \n",
      "               precision    recall  f1-score   support\n",
      "\n",
      "        LEVE       0.88      0.57      0.69     20955\n",
      " MEDIA/GRAVE       0.28      0.68      0.39      5091\n",
      "\n",
      "    accuracy                           0.59     26046\n",
      "   macro avg       0.58      0.62      0.54     26046\n",
      "weighted avg       0.76      0.59      0.63     26046\n",
      "\n"
     ]
    }
   ],
   "source": [
    "\n",
    "modelo_DesTree.fit(X_train_rsmpl, y_train_rsmpl)\n",
    "\n",
    "y_preds = modelo_DesTree.predict(X_test)\n",
    "\n",
    "report = classification_report(y_test, y_preds)\n",
    "print('Classification Report LOGISTIC REGRESSION: \\n', report)\n"
   ]
  },
  {
   "cell_type": "code",
   "execution_count": 37,
   "metadata": {},
   "outputs": [
    {
     "data": {
      "image/png": "[encoded data removed]",
      "text/plain": [
       "<Figure size 432x288 with 2 Axes>"
      ]
     },
     "metadata": {
      "needs_background": "light"
     },
     "output_type": "display_data"
    }
   ],
   "source": [
    "# create confusion matrix\n",
    "mat_conf = confusion_matrix(y_test, y_preds)\n",
    "\n",
    "# create dataframe\n",
    "dataframe = pd.DataFrame(mat_conf, index=['LEVE', 'MEDIA/GRAVE'], columns=['LEVE', 'MEDIA/GRAVE'])\n",
    "\n",
    "# create heatmap\n",
    "sns.heatmap(dataframe, annot=True, cbar=True, cmap='Blues')\n",
    "plt.title('Confusion Matrix')\n",
    "plt.tight_layout(), plt.xlabel('Predicted Values'), plt.ylabel('True Values')\n",
    "plt.show()"
   ]
  },
  {
   "cell_type": "code",
   "execution_count": null,
   "metadata": {},
   "outputs": [],
   "source": []
  },
  {
   "cell_type": "markdown",
   "metadata": {},
   "source": [
    "## Logistic Regression"
   ]
  },
  {
   "cell_type": "code",
   "execution_count": 39,
   "metadata": {},
   "outputs": [
    {
     "name": "stdout",
     "output_type": "stream",
     "text": [
      "LOGISTIC REGRESSION:\n",
      "\n",
      "Media: 0.6811914158439605  Desviación: 0.00454554902407839\n"
     ]
    }
   ],
   "source": [
    "from sklearn.linear_model import LogisticRegression\n",
    "\n",
    "modelo_LGR = LogisticRegression(solver='lbfgs', max_iter=250, random_state=42,n_jobs=-1)\n",
    "\n",
    "resultadosLRG = cross_val_score(modelo_LGR, X_train_rsmpl, y_train_rsmpl, cv=skf, scoring=scoring)\n",
    "\n",
    "print('LOGISTIC REGRESSION:\\n')\n",
    "print('Media:',resultadosLRG.mean(),' Desviación:',resultadosLRG.std())\n",
    "\n"
   ]
  },
  {
   "cell_type": "code",
   "execution_count": 40,
   "metadata": {},
   "outputs": [
    {
     "name": "stdout",
     "output_type": "stream",
     "text": [
      "Classification Report LOGISTIC REGRESSION: \n",
      "               precision    recall  f1-score   support\n",
      "\n",
      "        LEVE       0.81      0.99      0.89     20955\n",
      " MEDIA/GRAVE       0.55      0.05      0.10      5091\n",
      "\n",
      "    accuracy                           0.81     26046\n",
      "   macro avg       0.68      0.52      0.49     26046\n",
      "weighted avg       0.76      0.81      0.74     26046\n",
      "\n"
     ]
    }
   ],
   "source": [
    "\n",
    "modelo_LGR.fit(X_train_rsmpl, y_train_rsmpl)\n",
    "\n",
    "y_preds = modelo_AdaBoost.predict(X_test)\n",
    "\n",
    "report = classification_report(y_test, y_preds)\n",
    "print('Classification Report LOGISTIC REGRESSION: \\n', report)\n"
   ]
  },
  {
   "cell_type": "code",
   "execution_count": 41,
   "metadata": {},
   "outputs": [
    {
     "data": {
      "image/png": "[encoded data removed]",
      "text/plain": [
       "<Figure size 432x288 with 2 Axes>"
      ]
     },
     "metadata": {
      "needs_background": "light"
     },
     "output_type": "display_data"
    }
   ],
   "source": [
    "# create confusion matrix\n",
    "mat_conf = confusion_matrix(y_test, y_preds)\n",
    "\n",
    "# create dataframe\n",
    "dataframe = pd.DataFrame(mat_conf, index=['LEVE', 'MEDIA/GRAVE'], columns=['LEVE', 'MEDIA/GRAVE'])\n",
    "\n",
    "# create heatmap\n",
    "sns.heatmap(dataframe, annot=True, cbar=True, cmap='Blues')\n",
    "plt.title('Confusion Matrix')\n",
    "plt.tight_layout(), plt.xlabel('Predicted Values'), plt.ylabel('True Values')\n",
    "plt.show()"
   ]
  },
  {
   "cell_type": "code",
   "execution_count": null,
   "metadata": {},
   "outputs": [],
   "source": []
  },
  {
   "cell_type": "markdown",
   "metadata": {},
   "source": [
    "## Random Forest"
   ]
  },
  {
   "cell_type": "code",
   "execution_count": 43,
   "metadata": {},
   "outputs": [
    {
     "name": "stdout",
     "output_type": "stream",
     "text": [
      "Random Forest:\n",
      "\n",
      "Media: 0.6872094415053679  Desviación: 0.004315676133389773\n"
     ]
    }
   ],
   "source": [
    "n_trees = 300\n",
    "modelo_RF = RandomForestClassifier(n_estimators=n_trees, n_jobs=-1, random_state=42, class_weight='balanced')\n",
    "\n",
    "resultadosRF = cross_val_score(modelo_RF, X_train_rsmpl, y_train_rsmpl, cv=skf, scoring=scoring)\n",
    "\n",
    "print('Random Forest:\\n')\n",
    "print('Media:',resultadosRF.mean(),' Desviación:',resultadosRF.std())\n"
   ]
  },
  {
   "cell_type": "code",
   "execution_count": 44,
   "metadata": {},
   "outputs": [
    {
     "name": "stdout",
     "output_type": "stream",
     "text": [
      "Classification Report Random Forest: \n",
      "               precision    recall  f1-score   support\n",
      "\n",
      "        LEVE       0.88      0.57      0.69     20955\n",
      " MEDIA/GRAVE       0.28      0.68      0.39      5091\n",
      "\n",
      "    accuracy                           0.59     26046\n",
      "   macro avg       0.58      0.62      0.54     26046\n",
      "weighted avg       0.76      0.59      0.63     26046\n",
      "\n"
     ]
    }
   ],
   "source": [
    "\n",
    "modelo_RF.fit(X_train_rsmpl, y_train_rsmpl)\n",
    "\n",
    "y_preds = modelo_RF.predict(X_test)\n",
    "\n",
    "report = classification_report(y_test, y_preds)\n",
    "print('Classification Report Random Forest: \\n', report)\n"
   ]
  },
  {
   "cell_type": "code",
   "execution_count": 45,
   "metadata": {},
   "outputs": [
    {
     "data": {
      "image/png": "[encoded data removed]",
      "text/plain": [
       "<Figure size 432x288 with 2 Axes>"
      ]
     },
     "metadata": {
      "needs_background": "light"
     },
     "output_type": "display_data"
    }
   ],
   "source": [
    "# create confusion matrix\n",
    "mat_conf = confusion_matrix(y_test, y_preds)\n",
    "\n",
    "# create dataframe\n",
    "dataframe = pd.DataFrame(mat_conf, index=['LEVE', 'MEDIA/GRAVE'], columns=['LEVE', 'MEDIA/GRAVE'])\n",
    "\n",
    "# create heatmap\n",
    "sns.heatmap(dataframe, annot=True, cbar=True, cmap='Blues')\n",
    "plt.title('Confusion Matrix')\n",
    "plt.tight_layout(), plt.xlabel('Predicted Values'), plt.ylabel('True Values')\n",
    "plt.show()"
   ]
  },
  {
   "cell_type": "code",
   "execution_count": null,
   "metadata": {},
   "outputs": [],
   "source": []
  },
  {
   "cell_type": "markdown",
   "metadata": {},
   "source": [
    "## AdaBoost Classifier."
   ]
  },
  {
   "cell_type": "code",
   "execution_count": 48,
   "metadata": {},
   "outputs": [
    {
     "name": "stdout",
     "output_type": "stream",
     "text": [
      "AdaBoost:\n",
      "\n",
      "Media: 0.6808975038209638  Desviación: 0.00455532134093779\n"
     ]
    }
   ],
   "source": [
    "from sklearn.ensemble import AdaBoostClassifier\n",
    "\n",
    "num_trees = 300\n",
    "modelo_AdaBoost = AdaBoostClassifier(n_estimators=num_trees, random_state=42)\n",
    "\n",
    "resultadosAdaB = cross_val_score(modelo_AdaBoost, X_train_rsmpl, y_train_rsmpl, cv=skf, scoring=scoring)\n",
    "\n",
    "print('AdaBoost:\\n')\n",
    "print('Media:',resultadosAdaB.mean(),' Desviación:',resultadosAdaB.std())\n",
    "\n"
   ]
  },
  {
   "cell_type": "code",
   "execution_count": 49,
   "metadata": {},
   "outputs": [
    {
     "name": "stdout",
     "output_type": "stream",
     "text": [
      "Classification Report AdaBoost Classifier: \n",
      "               precision    recall  f1-score   support\n",
      "\n",
      "        LEVE       0.88      0.53      0.67     20955\n",
      " MEDIA/GRAVE       0.27      0.71      0.39      5091\n",
      "\n",
      "    accuracy                           0.57     26046\n",
      "   macro avg       0.58      0.62      0.53     26046\n",
      "weighted avg       0.76      0.57      0.61     26046\n",
      "\n"
     ]
    }
   ],
   "source": [
    "\n",
    "modelo_AdaBoost.fit(X_train_rsmpl, y_train_rsmpl)\n",
    "\n",
    "y_preds = modelo_AdaBoost.predict(X_test)\n",
    "\n",
    "report = classification_report(y_test, y_preds)\n",
    "print('Classification Report AdaBoost Classifier: \\n', report)\n"
   ]
  },
  {
   "cell_type": "code",
   "execution_count": 50,
   "metadata": {},
   "outputs": [
    {
     "data": {
      "image/png": "[encoded data removed]",
      "text/plain": [
       "<Figure size 432x288 with 2 Axes>"
      ]
     },
     "metadata": {
      "needs_background": "light"
     },
     "output_type": "display_data"
    }
   ],
   "source": [
    "# create confusion matrix\n",
    "mat_conf = confusion_matrix(y_test, y_preds)\n",
    "\n",
    "# create dataframe\n",
    "dataframe = pd.DataFrame(mat_conf, index=['LEVE', 'MEDIA/GRAVE'], columns=['LEVE', 'MEDIA/GRAVE'])\n",
    "\n",
    "# create heatmap\n",
    "sns.heatmap(dataframe, annot=True, cbar=True, cmap='Blues')\n",
    "plt.title('Confusion Matrix')\n",
    "plt.tight_layout(), plt.xlabel('Predicted Values'), plt.ylabel('True Values')\n",
    "plt.show()"
   ]
  },
  {
   "cell_type": "markdown",
   "metadata": {},
   "source": [
    "## GradientBoostingClassifier"
   ]
  },
  {
   "cell_type": "code",
   "execution_count": 52,
   "metadata": {},
   "outputs": [
    {
     "name": "stdout",
     "output_type": "stream",
     "text": [
      "GRADIENT BOOST CLASSIFIER:\n",
      "\n",
      "Media: 0.6856720727976323  Desviación: 0.004344822770866324\n"
     ]
    }
   ],
   "source": [
    "from sklearn.ensemble import GradientBoostingClassifier\n",
    "\n",
    "num_trees = 300\n",
    "modelo_GBC = GradientBoostingClassifier(n_estimators=num_trees, random_state=42)\n",
    "\n",
    "resultadosGBC = cross_val_score(modelo_GBC, X_train_rsmpl, y_train_rsmpl, cv=skf, scoring=scoring)\n",
    "\n",
    "print('GRADIENT BOOST CLASSIFIER:\\n')\n",
    "print('Media:',resultadosGBC.mean(),' Desviación:',resultadosGBC.std())\n",
    "\n"
   ]
  },
  {
   "cell_type": "markdown",
   "metadata": {},
   "source": [
    "De nuevo valor muy bajo, examinemos informe de clasificacion y matriz de confusion."
   ]
  },
  {
   "cell_type": "code",
   "execution_count": 53,
   "metadata": {},
   "outputs": [
    {
     "name": "stdout",
     "output_type": "stream",
     "text": [
      "Classification Report GRADIENT BOOST CLASSIFIER: \n",
      "               precision    recall  f1-score   support\n",
      "\n",
      "        LEVE       0.88      0.59      0.71     20955\n",
      " MEDIA/GRAVE       0.28      0.67      0.40      5091\n",
      "\n",
      "    accuracy                           0.60     26046\n",
      "   macro avg       0.58      0.63      0.55     26046\n",
      "weighted avg       0.76      0.60      0.64     26046\n",
      "\n"
     ]
    }
   ],
   "source": [
    "\n",
    "modelo_GBC.fit(X_train_rsmpl, y_train_rsmpl)\n",
    "\n",
    "y_preds = modelo_GBC.predict(X_test)\n",
    "\n",
    "report = classification_report(y_test, y_preds)\n",
    "print('Classification Report GRADIENT BOOST CLASSIFIER: \\n', report)\n"
   ]
  },
  {
   "cell_type": "markdown",
   "metadata": {},
   "source": [
    "De nuevo valor muy bajo de recall para la clase minoritaria MODERADA/GRAVE, los valores mal clasificados de esa clase (FN) superan bastante a los bien clasificados (TP). Veamos la matriz de confusión."
   ]
  },
  {
   "cell_type": "code",
   "execution_count": 54,
   "metadata": {},
   "outputs": [
    {
     "data": {
      "image/png": "[encoded data removed]",
      "text/plain": [
       "<Figure size 432x288 with 2 Axes>"
      ]
     },
     "metadata": {
      "needs_background": "light"
     },
     "output_type": "display_data"
    }
   ],
   "source": [
    "# create confusion matrix\n",
    "mat_conf = confusion_matrix(y_test, y_preds)\n",
    "\n",
    "# create dataframe\n",
    "dataframe = pd.DataFrame(mat_conf, index=['LEVE', 'MEDIA/GRAVE'], columns=['LEVE', 'MEDIA/GRAVE'])\n",
    "\n",
    "# create heatmap\n",
    "sns.heatmap(dataframe, annot=True, cbar=True, cmap='Blues')\n",
    "plt.title('Confusion Matrix')\n",
    "plt.tight_layout(), plt.xlabel('Predicted Values'), plt.ylabel('True Values')\n",
    "plt.show()"
   ]
  },
  {
   "cell_type": "code",
   "execution_count": null,
   "metadata": {},
   "outputs": [],
   "source": []
  },
  {
   "cell_type": "markdown",
   "metadata": {},
   "source": [
    "Dados los valores AUC (roc_auc) de las validaciones cruzadas y examinando también los informes de clasificación y la matriz de confusión nos quedamos con RF, GradientBosstClassification y Decission Tree."
   ]
  },
  {
   "cell_type": "code",
   "execution_count": null,
   "metadata": {},
   "outputs": [],
   "source": []
  }
 ],
 "metadata": {
  "kernelspec": {
   "display_name": "Python 3",
   "language": "python",
   "name": "python3"
  },
  "language_info": {
   "codemirror_mode": {
    "name": "ipython",
    "version": 3
   },
   "file_extension": ".py",
   "mimetype": "text/x-python",
   "name": "python",
   "nbconvert_exporter": "python",
   "pygments_lexer": "ipython3",
   "version": "3.7.3"
  }
 },
 "nbformat": 4,
 "nbformat_minor": 2
}
